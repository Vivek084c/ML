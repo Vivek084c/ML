{
 "cells": [
  {
   "cell_type": "code",
   "execution_count": 5,
   "metadata": {},
   "outputs": [
    {
     "name": "stdout",
     "output_type": "stream",
     "text": [
      "cuda\n"
     ]
    }
   ],
   "source": [
    "import torch\n",
    "import numpy as np\n",
    "import time\n",
    "device= \"cuda\" if torch.cuda.is_available() else \"cpu\"\n",
    "print(device)"
   ]
  },
  {
   "cell_type": "code",
   "execution_count": 4,
   "metadata": {},
   "outputs": [
    {
     "name": "stdout",
     "output_type": "stream",
     "text": [
      "0.0010\n"
     ]
    }
   ],
   "source": [
    "start_time=time.time()\n",
    "zero=torch.zeros(1,1)\n",
    "endtime=time.time()\n",
    "\n",
    "time_spent=endtime-start_time\n",
    "print(f\"{time_spent:.4f}\")"
   ]
  },
  {
   "cell_type": "code",
   "execution_count": 11,
   "metadata": {},
   "outputs": [
    {
     "name": "stdout",
     "output_type": "stream",
     "text": [
      "total time spend for cuda is 0.01000023\n",
      "total time spent for cpu is 0.11475897\n",
      "CPU times: total: 2.23 s\n",
      "Wall time: 2.36 s\n"
     ]
    }
   ],
   "source": [
    "%%time\n",
    "torch_rand1=torch.rand(100,100,100,100).to(device)\n",
    "torch_rand2=torch.rand(100,100,100,100).to(device)\n",
    "\n",
    "np_rand1=torch.rand(100,100,100,100)\n",
    "np_rand2=torch.rand(100,100,100,100)\n",
    "\n",
    "start_time=time.time()\n",
    "\n",
    "rand=(torch_rand1 @ torch_rand2)\n",
    "\n",
    "endtime=time.time()\n",
    "\n",
    "print(f\"total time spend for {device} is {(endtime-start_time):.8f}\")\n",
    "\n",
    "start_time=time.time()\n",
    "\n",
    "rand=np.multiply(np_rand1,np_rand2)\n",
    "endtime=time.time()\n",
    "\n",
    "print(f\"total time spent for cpu is {(endtime-start_time):.8f}\")"
   ]
  },
  {
   "cell_type": "code",
   "execution_count": null,
   "metadata": {},
   "outputs": [],
   "source": []
  }
 ],
 "metadata": {
  "kernelspec": {
   "display_name": "TF",
   "language": "python",
   "name": "python3"
  },
  "language_info": {
   "codemirror_mode": {
    "name": "ipython",
    "version": 3
   },
   "file_extension": ".py",
   "mimetype": "text/x-python",
   "name": "python",
   "nbconvert_exporter": "python",
   "pygments_lexer": "ipython3",
   "version": "3.9.19"
  }
 },
 "nbformat": 4,
 "nbformat_minor": 2
}
