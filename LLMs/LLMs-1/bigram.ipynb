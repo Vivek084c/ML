{
 "cells": [
  {
   "cell_type": "code",
   "execution_count": 14,
   "metadata": {},
   "outputs": [
    {
     "name": "stdout",
     "output_type": "stream",
     "text": [
      "cuda\n"
     ]
    }
   ],
   "source": [
    "import torch\n",
    "import torch.nn as nn\n",
    "from torch.nn import functional as F\n",
    "device=\"cuda\" if torch.cuda.is_available() else \"cpu\"\n",
    "print(device)\n",
    "\n",
    "#hyper parameters\n",
    "block_size=8\n",
    "batch_size=4"
   ]
  },
  {
   "cell_type": "code",
   "execution_count": 4,
   "metadata": {},
   "outputs": [
    {
     "name": "stdout",
     "output_type": "stream",
     "text": [
      "['\\n', ' ', '!', '\"', '&', \"'\", '(', ')', '*', ',', '-', '.', '0', '1', '2', '3', '4', '5', '6', '7', '8', '9', ':', ';', '?', 'A', 'B', 'C', 'D', 'E', 'F', 'G', 'H', 'I', 'J', 'K', 'L', 'M', 'N', 'O', 'P', 'Q', 'R', 'S', 'T', 'U', 'V', 'W', 'X', 'Y', 'Z', '[', ']', '_', 'a', 'b', 'c', 'd', 'e', 'f', 'g', 'h', 'i', 'j', 'k', 'l', 'm', 'n', 'o', 'p', 'q', 'r', 's', 't', 'u', 'v', 'w', 'x', 'y', 'z', '\\ufeff']\n",
      "81\n"
     ]
    }
   ],
   "source": [
    "with open(\"wizard_of_oz.txt\", 'r', encoding=\"utf-8\") as f:\n",
    "    text=f.read()\n",
    "# creating an array of all the characters in text file\n",
    "chars=sorted(set(text))   \n",
    "print(chars)\n",
    "print(len(chars))"
   ]
  },
  {
   "cell_type": "markdown",
   "metadata": {},
   "source": [
    "# tokenizing the character"
   ]
  },
  {
   "cell_type": "code",
   "execution_count": 5,
   "metadata": {},
   "outputs": [],
   "source": [
    "string_to_int={ch:i for i,ch in enumerate(chars)}\n",
    "int_to_string={i:ch for i,ch in enumerate(chars)}\n",
    "encode=lambda s:[string_to_int[c] for c in s]\n",
    "decode=lambda l:\"\".join([int_to_string[i] for i in l])"
   ]
  },
  {
   "cell_type": "code",
   "execution_count": 6,
   "metadata": {},
   "outputs": [
    {
     "name": "stdout",
     "output_type": "stream",
     "text": [
      "[61, 58, 65, 65, 68, 76]\n",
      "the encoded word is: [61, 58, 65, 65, 68, 76]\n",
      "the decoded word is: hellow\n"
     ]
    }
   ],
   "source": [
    "#to encode a word we use the following \n",
    "print(encode(\"hellow\"))\n",
    "encoded_word=encode(\"hellow\")\n",
    "decode_word=decode(encoded_word)\n",
    "print(f\"the encoded word is: {encoded_word}\")\n",
    "print(f\"the decoded word is: {decode_word}\")"
   ]
  },
  {
   "cell_type": "code",
   "execution_count": 7,
   "metadata": {},
   "outputs": [
    {
     "name": "stdout",
     "output_type": "stream",
     "text": [
      "tensor([80, 28, 39, 42, 39, 44, 32, 49,  1, 25, 38, 28,  1, 44, 32, 29,  1, 47,\n",
      "        33, 50, 25, 42, 28,  1, 33, 38,  1, 39, 50,  0,  0,  1,  1, 26, 49,  0,\n",
      "         0,  1,  1, 36, 11,  1, 30, 42, 25, 38, 35,  1, 26, 25])\n"
     ]
    }
   ],
   "source": [
    "# encoding text data to a tourch tensor\n",
    "data=torch.tensor(encode(text), dtype=torch.long)\n",
    "print(data[:50])"
   ]
  },
  {
   "cell_type": "code",
   "execution_count": 13,
   "metadata": {},
   "outputs": [
    {
     "name": "stdout",
     "output_type": "stream",
     "text": [
      "tensor([171425, 107385, 174869, 141494])\n",
      "input: tensor([[ 1, 44, 61, 58,  1, 60, 71, 58],\n",
      "        [ 0,  0,  0, 44, 61, 58,  1, 66],\n",
      "        [79,  1, 54, 59, 73, 58, 71,  1],\n",
      "        [57,  1, 62, 67, 73, 68,  1, 73]], device='cuda:0') ... output: \n",
      " tensor([[44, 61, 58,  1, 60, 71, 58],\n",
      "        [ 0,  0, 44, 61, 58,  1, 66],\n",
      "        [ 1, 54, 59, 73, 58, 71,  1],\n",
      "        [ 1, 62, 67, 73, 68,  1, 73]], device='cuda:0')\n"
     ]
    }
   ],
   "source": [
    "#spliting data into train and val set\n",
    "n=int(0.8 * len(data))\n",
    "\n",
    "def get_batch(split):\n",
    "    data=train_data if split == \"train\" else val_data\n",
    "    ix = torch.randint(len(data) - block_size, (batch_size, ))\n",
    "    print(ix)\n",
    "    x=torch.stack([data[i:i+block_size] for i in ix])\n",
    "    y=torch.stack([data[i+1:i+block_size] for i in ix])\n",
    "    x, y = x.to(device), y.to(device)\n",
    "    return x,y\n",
    "\n",
    "x, y=get_batch(\"train\")\n",
    "print(f\"input: {x} ... output: \\n {y}\")\n",
    "\n",
    "train_data=data[:n]\n",
    "val_data=data[n:]"
   ]
  },
  {
   "cell_type": "code",
   "execution_count": 9,
   "metadata": {},
   "outputs": [
    {
     "name": "stdout",
     "output_type": "stream",
     "text": [
      "when the input is: tensor([80]) target is 28\n",
      "when the input is: tensor([80, 28]) target is 39\n",
      "when the input is: tensor([80, 28, 39]) target is 42\n",
      "when the input is: tensor([80, 28, 39, 42]) target is 39\n",
      "when the input is: tensor([80, 28, 39, 42, 39]) target is 44\n",
      "when the input is: tensor([80, 28, 39, 42, 39, 44]) target is 32\n",
      "when the input is: tensor([80, 28, 39, 42, 39, 44, 32]) target is 49\n",
      "when the input is: tensor([80, 28, 39, 42, 39, 44, 32, 49]) target is 1\n"
     ]
    }
   ],
   "source": [
    "x=train_data[:block_size]\n",
    "y=train_data[1:block_size+1]\n",
    "\n",
    "for t in range(block_size):\n",
    "    context=x[:t+1]\n",
    "    target=y[t]\n",
    "    print(f\"when the input is: {context} target is {target}\")"
   ]
  },
  {
   "cell_type": "code",
   "execution_count": null,
   "metadata": {},
   "outputs": [],
   "source": [
    "class BigramLanguageModel(nn.Module):\n",
    "    def __init__(self, vocab_size):\n",
    "        super().__init__()\n",
    "        self.token_embeddeing_table=nn.Embedding(vocab_size, vocab_size)\n",
    "\n",
    "    def forward(self, index, targets):\n",
    "        logits = self.token_embeddeing_table(index)\n",
    "        #we unpack the dimension using the .shape\n",
    "        batch, time, channel=logits.shape\n",
    "        #we pack the dimension using the .view  \n",
    "        logits=logits.view(batch*time, channel)\n",
    "        targets=targets.view(batch*time)\n",
    "        loss=F.cross_entropy(logits, targets)\n",
    "        return logits"
   ]
  }
 ],
 "metadata": {
  "kernelspec": {
   "display_name": "TF",
   "language": "python",
   "name": "python3"
  },
  "language_info": {
   "codemirror_mode": {
    "name": "ipython",
    "version": 3
   },
   "file_extension": ".py",
   "mimetype": "text/x-python",
   "name": "python",
   "nbconvert_exporter": "python",
   "pygments_lexer": "ipython3",
   "version": "3.9.19"
  }
 },
 "nbformat": 4,
 "nbformat_minor": 2
}
