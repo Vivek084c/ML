{
 "cells": [
  {
   "cell_type": "code",
   "execution_count": 69,
   "metadata": {},
   "outputs": [
    {
     "name": "stdout",
     "output_type": "stream",
     "text": [
      "cuda\n"
     ]
    }
   ],
   "source": [
    "import torch\n",
    "import torch.nn as nn\n",
    "from torch.nn import functional as F\n",
    "device=\"cuda\" if torch.cuda.is_available() else \"cpu\"\n",
    "print(device)\n",
    "\n",
    "#hyper parameters\n",
    "block_size=8\n",
    "batch_size=4\n",
    "max_iters=10000\n",
    "learning_rate=3e-4\n",
    "eval_iters=250\n",
    "dropout = 0.2"
   ]
  },
  {
   "cell_type": "code",
   "execution_count": 70,
   "metadata": {},
   "outputs": [
    {
     "name": "stdout",
     "output_type": "stream",
     "text": [
      "['\\n', ' ', '!', '\"', '&', \"'\", '(', ')', '*', ',', '-', '.', '0', '1', '2', '3', '4', '5', '6', '7', '8', '9', ':', ';', '?', 'A', 'B', 'C', 'D', 'E', 'F', 'G', 'H', 'I', 'J', 'K', 'L', 'M', 'N', 'O', 'P', 'Q', 'R', 'S', 'T', 'U', 'V', 'W', 'X', 'Y', 'Z', '[', ']', '_', 'a', 'b', 'c', 'd', 'e', 'f', 'g', 'h', 'i', 'j', 'k', 'l', 'm', 'n', 'o', 'p', 'q', 'r', 's', 't', 'u', 'v', 'w', 'x', 'y', 'z', '\\ufeff']\n",
      "81\n"
     ]
    }
   ],
   "source": [
    "with open(\"wizard_of_oz.txt\", 'r', encoding=\"utf-8\") as f:\n",
    "    text=f.read()\n",
    "# creating an array of all the characters in text file\n",
    "chars=sorted(set(text))   \n",
    "print(chars)\n",
    "print(len(chars))\n",
    "vocab_size = len(chars)"
   ]
  },
  {
   "cell_type": "markdown",
   "metadata": {},
   "source": [
    "# tokenizing the character"
   ]
  },
  {
   "cell_type": "code",
   "execution_count": 71,
   "metadata": {},
   "outputs": [],
   "source": [
    "string_to_int={ch:i for i,ch in enumerate(chars)}\n",
    "int_to_string={i:ch for i,ch in enumerate(chars)}\n",
    "encode=lambda s:[string_to_int[c] for c in s]\n",
    "decode=lambda l:\"\".join([int_to_string[i] for i in l])"
   ]
  },
  {
   "cell_type": "code",
   "execution_count": 72,
   "metadata": {},
   "outputs": [
    {
     "name": "stdout",
     "output_type": "stream",
     "text": [
      "[61, 58, 65, 65, 68, 76]\n",
      "the encoded word is: [61, 58, 65, 65, 68, 76]\n",
      "the decoded word is: hellow\n"
     ]
    }
   ],
   "source": [
    "#to encode a word we use the following \n",
    "print(encode(\"hellow\"))\n",
    "encoded_word=encode(\"hellow\")\n",
    "decode_word=decode(encoded_word)\n",
    "print(f\"the encoded word is: {encoded_word}\")\n",
    "print(f\"the decoded word is: {decode_word}\")"
   ]
  },
  {
   "cell_type": "code",
   "execution_count": 73,
   "metadata": {},
   "outputs": [
    {
     "name": "stdout",
     "output_type": "stream",
     "text": [
      "tensor([80, 28, 39, 42, 39, 44, 32, 49,  1, 25, 38, 28,  1, 44, 32, 29,  1, 47,\n",
      "        33, 50, 25, 42, 28,  1, 33, 38,  1, 39, 50,  0,  0,  1,  1, 26, 49,  0,\n",
      "         0,  1,  1, 36, 11,  1, 30, 42, 25, 38, 35,  1, 26, 25])\n"
     ]
    }
   ],
   "source": [
    "# encoding text data to a tourch tensor\n",
    "data=torch.tensor(encode(text), dtype=torch.long)\n",
    "print(data[:50])"
   ]
  },
  {
   "cell_type": "code",
   "execution_count": 74,
   "metadata": {},
   "outputs": [
    {
     "name": "stdout",
     "output_type": "stream",
     "text": [
      "inputs:\n",
      "tensor([[ 1, 54, 55, 72, 74, 71, 57,  9],\n",
      "        [72,  1, 66, 54, 78,  1, 60, 71],\n",
      "        [78,  1, 61, 54, 57,  1, 56, 68],\n",
      "        [ 1, 76, 62, 73, 61, 62, 67,  1]], device='cuda:0')\n",
      "targets:\n",
      "tensor([[54, 55, 72, 74, 71, 57,  9,  3],\n",
      "        [ 1, 66, 54, 78,  1, 60, 71, 68],\n",
      "        [ 1, 61, 54, 57,  1, 56, 68, 66],\n",
      "        [76, 62, 73, 61, 62, 67,  1, 73]], device='cuda:0')\n"
     ]
    }
   ],
   "source": [
    "n = int(0.8*len(data))\n",
    "train_data = data[:n]\n",
    "val_data = data[n:]\n",
    "\n",
    "def get_batch(split):\n",
    "    data = train_data if split == 'train' else val_data\n",
    "    ix = torch.randint(len(data) - block_size, (batch_size,))\n",
    "    x = torch.stack([data[i:i+block_size] for i in ix])\n",
    "    y = torch.stack([data[i+1:i+block_size+1] for i in ix])\n",
    "    x, y = x.to(device), y.to(device)\n",
    "    return x, y\n",
    "\n",
    "x, y = get_batch('train')\n",
    "print('inputs:')\n",
    "# print(x.shape)\n",
    "print(x)\n",
    "print('targets:')\n",
    "print(y)"
   ]
  },
  {
   "cell_type": "code",
   "execution_count": 75,
   "metadata": {},
   "outputs": [
    {
     "name": "stdout",
     "output_type": "stream",
     "text": [
      "when the input is: tensor([80]) target is 28\n",
      "when the input is: tensor([80, 28]) target is 39\n",
      "when the input is: tensor([80, 28, 39]) target is 42\n",
      "when the input is: tensor([80, 28, 39, 42]) target is 39\n",
      "when the input is: tensor([80, 28, 39, 42, 39]) target is 44\n",
      "when the input is: tensor([80, 28, 39, 42, 39, 44]) target is 32\n",
      "when the input is: tensor([80, 28, 39, 42, 39, 44, 32]) target is 49\n",
      "when the input is: tensor([80, 28, 39, 42, 39, 44, 32, 49]) target is 1\n"
     ]
    }
   ],
   "source": [
    "x=train_data[:block_size]\n",
    "y=train_data[1:block_size+1]\n",
    "\n",
    "for t in range(block_size):\n",
    "    context=x[:t+1]\n",
    "    target=y[t]\n",
    "    print(f\"when the input is: {context} target is {target}\")"
   ]
  },
  {
   "cell_type": "code",
   "execution_count": 81,
   "metadata": {},
   "outputs": [],
   "source": [
    "# to make sure pytorch does not use gradients for computation, this is done to reduce the computation time\n",
    "@torch.no_grad()\n",
    "def estimate_loss():\n",
    "    out={}\n",
    "    model.eval()\n",
    "    for split in [\"train\",\"val\"]:\n",
    "        losses=torch.zeros(eval_iters)\n",
    "        for k in range(eval_iters):\n",
    "            X, Y=get_batch(split)\n",
    "            logits, loss=model(X,Y)\n",
    "            losses[k]=loss.item()\n",
    "        out[split]=losses.mean()\n",
    "    model.train()\n",
    "    return out"
   ]
  },
  {
   "cell_type": "code",
   "execution_count": 77,
   "metadata": {},
   "outputs": [
    {
     "name": "stdout",
     "output_type": "stream",
     "text": [
      "\n",
      "9?z7:n'N﻿Q:1Y0.AYSTMndLMesz8:cNnGrlJ04PO0Iv﻿*-m?Ue(n9IqPGFJaX:xMtZ﻿0LN4wA-mq,VoNV_ceTI*sQ9dvjs'n'-g4jq8zp:-q\n",
      "TZ0TMY7vdm)GrTk4y*5(k[ua2w3cdosu﻿d_(Tbs﻿*MuAX !:&oxjq;xhwU4rN2t2-T8dW\n",
      "Y*lPiRll[FZz8eT'mqWh.Zr ZKGWhpzyy*,'][a;GX0'8absaaTMk﻿\"bNdsQ:Eu36\n",
      "qS9WNv_?I*xwT'CA!]m1_aRFUW\n",
      "Wh;MPFPOtZN9?R\"8t?4nibEVYekZK;81l![6OthdNyheknSrxb﻿tKLDaBNgOptI6L\"3vTnoYGYen_;6mmc(WZo5:7﻿0UgEcpz]Ce﻿﻿ qZ\"H\"3vC0chNn2*fX?Jn0\"do2Cp'ZuAdt9W;2x6O-D((A.!45J3 [_Z﻿E [Da4fz[8An2?notxb1ad)EG4S﻿bh﻿;vG[:Xr-mb4w ?fTPV WwJdWSTDabKPR;Q0Q0.\n"
     ]
    }
   ],
   "source": [
    "class BigramLanguageModel(nn.Module):\n",
    "    def __init__(self, vocab_size):\n",
    "        super().__init__()\n",
    "        #defining an embedding vector based on the vacab_size\n",
    "        self.token_embeddeing_table=nn.Embedding(vocab_size, vocab_size)\n",
    "\n",
    "    \"\"\" \n",
    "    below fucntion is used to compute the forward pass of the model and \n",
    "    compute the loss for a particular \n",
    "    \"\"\"\n",
    "    def forward(self, index, targets=None):\n",
    "        #accessing the embedding vector for a paticular index token \n",
    "        logits = self.token_embeddeing_table(index)\n",
    "\n",
    "        if targets is None:\n",
    "            loss=None\n",
    "        else:\n",
    "            #we unpack the dimension using the .shape\n",
    "            batch, time, channel=logits.shape\n",
    "            #we pack the dimension using the .view, we flattenr the batch and time into single dimension to compute loss \n",
    "            logits=logits.view(batch*time, channel)\n",
    "            # we flattern the target vector to get loss\n",
    "            targets=targets.view(batch*time)\n",
    "            loss=F.cross_entropy(logits, targets)\n",
    "        return logits, loss\n",
    "    \n",
    "    def generate(self, index, max_new_tokens):\n",
    "        # the index form is (batch, time ) in refrance to the current context\n",
    "        for _ in range(max_new_tokens):\n",
    "            #getting the pridition \n",
    "            logits, loss=self.forward(index)\n",
    "            \n",
    "            #getting the last time step\n",
    "            logits=logits[:, -1, :] # to make it (batch,  channel)\n",
    "\n",
    "            #applying softmax to the probablity distribution\n",
    "            prob=F.softmax(logits, dim=-1) \n",
    "\n",
    "            #getting a sample from the distribution\n",
    "            index_next= torch.multinomial(prob, num_samples=1)\n",
    "\n",
    "            #appending the generated token to the preexisiting data\n",
    "            index=torch.cat((index, index_next), dim=-1)\n",
    "        return index\n",
    "    \n",
    "\n",
    "model=BigramLanguageModel(vocab_size)\n",
    "m=model.to(device)\n",
    "\n",
    "context=torch.zeros((1,1), dtype=torch.long, device=device)\n",
    "generated_characters=decode(m.generate(context, max_new_tokens=500)[0].tolist())\n",
    "print(generated_characters)\n"
   ]
  },
  {
   "cell_type": "code",
   "execution_count": 84,
   "metadata": {},
   "outputs": [
    {
     "name": "stdout",
     "output_type": "stream",
     "text": [
      "step: 0, train loss: 2.6344, val loss 2.6646\n",
      "step: 250, train loss: 2.5961, val loss 2.6670\n",
      "step: 500, train loss: 2.6353, val loss 2.6781\n",
      "step: 750, train loss: 2.5884, val loss 2.6564\n",
      "step: 1000, train loss: 2.6191, val loss 2.6279\n",
      "step: 1250, train loss: 2.5768, val loss 2.6708\n",
      "step: 1500, train loss: 2.5708, val loss 2.6339\n",
      "step: 1750, train loss: 2.5712, val loss 2.6334\n",
      "step: 2000, train loss: 2.5965, val loss 2.6359\n",
      "step: 2250, train loss: 2.5999, val loss 2.6190\n",
      "step: 2500, train loss: 2.6088, val loss 2.6081\n",
      "step: 2750, train loss: 2.5698, val loss 2.5684\n",
      "step: 3000, train loss: 2.5804, val loss 2.5990\n",
      "step: 3250, train loss: 2.5722, val loss 2.5950\n",
      "step: 3500, train loss: 2.5701, val loss 2.6033\n",
      "step: 3750, train loss: 2.5281, val loss 2.5916\n",
      "step: 4000, train loss: 2.5599, val loss 2.5874\n",
      "step: 4250, train loss: 2.5815, val loss 2.5810\n",
      "step: 4500, train loss: 2.5632, val loss 2.5976\n",
      "step: 4750, train loss: 2.5626, val loss 2.6042\n",
      "step: 5000, train loss: 2.5424, val loss 2.5690\n",
      "step: 5250, train loss: 2.5436, val loss 2.5799\n",
      "step: 5500, train loss: 2.5569, val loss 2.5859\n",
      "step: 5750, train loss: 2.5552, val loss 2.5858\n",
      "step: 6000, train loss: 2.5414, val loss 2.5786\n",
      "step: 6250, train loss: 2.5344, val loss 2.5867\n",
      "step: 6500, train loss: 2.5344, val loss 2.5614\n",
      "step: 6750, train loss: 2.5174, val loss 2.5773\n",
      "step: 7000, train loss: 2.5198, val loss 2.5535\n",
      "step: 7250, train loss: 2.5035, val loss 2.5567\n",
      "step: 7500, train loss: 2.5207, val loss 2.5615\n",
      "step: 7750, train loss: 2.5080, val loss 2.5400\n",
      "step: 8000, train loss: 2.5125, val loss 2.5645\n",
      "step: 8250, train loss: 2.5052, val loss 2.5626\n",
      "step: 8500, train loss: 2.5109, val loss 2.5688\n",
      "step: 8750, train loss: 2.4986, val loss 2.5686\n",
      "step: 9000, train loss: 2.5239, val loss 2.5413\n",
      "step: 9250, train loss: 2.5156, val loss 2.5576\n",
      "step: 9500, train loss: 2.5062, val loss 2.5453\n",
      "step: 9750, train loss: 2.5229, val loss 2.5281\n",
      "2.4656593799591064\n"
     ]
    }
   ],
   "source": [
    "# creating a pytorch optimizer\n",
    "optimizer=torch.optim.AdamW(model.parameters(), lr=learning_rate)\n",
    "\n",
    "\n",
    "for iter in range(max_iters):\n",
    "    if iter % eval_iters == 0:\n",
    "        losses=estimate_loss()\n",
    "        print(f\"step: {iter}, train loss: {losses['train']:.4f}, val loss {losses['val']:.4f}\")\n",
    "\n",
    "    #sampling a batch data\n",
    "    xb, yb=get_batch(\"train\")\n",
    "\n",
    "    #evaluating the loss\n",
    "    logits, loss=model.forward(xb, yb)\n",
    "    optimizer.zero_grad(set_to_none=True)\n",
    "    loss.backward()\n",
    "    optimizer.step()\n",
    "print(loss.item())"
   ]
  },
  {
   "cell_type": "code",
   "execution_count": 85,
   "metadata": {},
   "outputs": [
    {
     "name": "stdout",
     "output_type": "stream",
     "text": [
      "\n",
      "\"Gandn my urowhigr  ulk VBereth t thizbly \"Is a s?\"BLithther d, wad.\"HAXpino nuleecl.\n",
      "\n",
      "Jn,' th. thed ored  T?L*6-me Gud t nivxro o s ted M:X0Ncly ben g te bogsshed\n",
      "agamus otller stheikell Don thed!id tharheacave te ay d, athed Thwabecch\n",
      "gy ssustarg;lla ealthen:S[6; id ichaivTO(LAnople\n",
      "w, bes n why  ibe\n",
      "J6, &13e gllissacce bu t 9Y7. anveeacecono\n",
      "\"Vm d an 1rive o ith f con br nd.\n",
      "\n",
      " hes anlanorerelm Pgidoshe.\"0U-Jnd, bind \"He y A2Nn ok tthentherd ad OU*KxCke, thotht woug ere sariot ew,pe arsannced \n"
     ]
    }
   ],
   "source": [
    "context=torch.zeros((1,1), dtype=torch.long, device=device)\n",
    "generated_characters=decode(m.generate(context, max_new_tokens=500)[0].tolist())\n",
    "print(generated_characters)"
   ]
  },
  {
   "cell_type": "code",
   "execution_count": null,
   "metadata": {},
   "outputs": [],
   "source": []
  }
 ],
 "metadata": {
  "kernelspec": {
   "display_name": "TF",
   "language": "python",
   "name": "python3"
  },
  "language_info": {
   "codemirror_mode": {
    "name": "ipython",
    "version": 3
   },
   "file_extension": ".py",
   "mimetype": "text/x-python",
   "name": "python",
   "nbconvert_exporter": "python",
   "pygments_lexer": "ipython3",
   "version": "3.9.19"
  }
 },
 "nbformat": 4,
 "nbformat_minor": 2
}
