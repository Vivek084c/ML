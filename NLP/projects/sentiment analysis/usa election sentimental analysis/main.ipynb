{
 "cells": [
  {
   "cell_type": "markdown",
   "metadata": {},
   "source": [
    "# reading the data"
   ]
  },
  {
   "cell_type": "code",
   "execution_count": 1,
   "metadata": {},
   "outputs": [],
   "source": [
    "import pandas as pd\n",
    "import numpy as np\n",
    "import plotly.graph_objects as go\n",
    "import plotly.express as cp\n",
    "from textblob import TextBlob\n"
   ]
  },
  {
   "cell_type": "code",
   "execution_count": 3,
   "metadata": {},
   "outputs": [],
   "source": [
    "trump = pd.read_csv(\"Trumpall2.csv\")\n",
    "biden = pd.read_csv(\"Bidenall2.csv\")"
   ]
  },
  {
   "cell_type": "code",
   "execution_count": 4,
   "metadata": {},
   "outputs": [
    {
     "data": {
      "text/html": [
       "<div>\n",
       "<style scoped>\n",
       "    .dataframe tbody tr th:only-of-type {\n",
       "        vertical-align: middle;\n",
       "    }\n",
       "\n",
       "    .dataframe tbody tr th {\n",
       "        vertical-align: top;\n",
       "    }\n",
       "\n",
       "    .dataframe thead th {\n",
       "        text-align: right;\n",
       "    }\n",
       "</style>\n",
       "<table border=\"1\" class=\"dataframe\">\n",
       "  <thead>\n",
       "    <tr style=\"text-align: right;\">\n",
       "      <th></th>\n",
       "      <th>user</th>\n",
       "      <th>text</th>\n",
       "    </tr>\n",
       "  </thead>\n",
       "  <tbody>\n",
       "    <tr>\n",
       "      <th>0</th>\n",
       "      <td>manny_rosen</td>\n",
       "      <td>@sanofi please tell us how many shares the Cr...</td>\n",
       "    </tr>\n",
       "    <tr>\n",
       "      <th>1</th>\n",
       "      <td>osi_abdul</td>\n",
       "      <td>https://t.co/atM98CpqF7  Like, comment, RT #P...</td>\n",
       "    </tr>\n",
       "    <tr>\n",
       "      <th>2</th>\n",
       "      <td>Patsyrw</td>\n",
       "      <td>Your AG Barr is as useless &amp;amp; corrupt as y...</td>\n",
       "    </tr>\n",
       "    <tr>\n",
       "      <th>3</th>\n",
       "      <td>seyedebrahimi_m</td>\n",
       "      <td>Mr. Trump! Wake Up!  Most of the comments bel...</td>\n",
       "    </tr>\n",
       "    <tr>\n",
       "      <th>4</th>\n",
       "      <td>James09254677</td>\n",
       "      <td>After 4 years you think you would have figure...</td>\n",
       "    </tr>\n",
       "  </tbody>\n",
       "</table>\n",
       "</div>"
      ],
      "text/plain": [
       "              user                                               text\n",
       "0      manny_rosen   @sanofi please tell us how many shares the Cr...\n",
       "1        osi_abdul   https://t.co/atM98CpqF7  Like, comment, RT #P...\n",
       "2          Patsyrw   Your AG Barr is as useless &amp; corrupt as y...\n",
       "3  seyedebrahimi_m   Mr. Trump! Wake Up!  Most of the comments bel...\n",
       "4    James09254677   After 4 years you think you would have figure..."
      ]
     },
     "execution_count": 4,
     "metadata": {},
     "output_type": "execute_result"
    }
   ],
   "source": [
    "trump.head()"
   ]
  },
  {
   "cell_type": "code",
   "execution_count": 5,
   "metadata": {},
   "outputs": [
    {
     "data": {
      "text/html": [
       "<div>\n",
       "<style scoped>\n",
       "    .dataframe tbody tr th:only-of-type {\n",
       "        vertical-align: middle;\n",
       "    }\n",
       "\n",
       "    .dataframe tbody tr th {\n",
       "        vertical-align: top;\n",
       "    }\n",
       "\n",
       "    .dataframe thead th {\n",
       "        text-align: right;\n",
       "    }\n",
       "</style>\n",
       "<table border=\"1\" class=\"dataframe\">\n",
       "  <thead>\n",
       "    <tr style=\"text-align: right;\">\n",
       "      <th></th>\n",
       "      <th>user</th>\n",
       "      <th>text</th>\n",
       "    </tr>\n",
       "  </thead>\n",
       "  <tbody>\n",
       "    <tr>\n",
       "      <th>0</th>\n",
       "      <td>MarkHodder3</td>\n",
       "      <td>@JoeBiden And we’ll find out who won in 2026...</td>\n",
       "    </tr>\n",
       "    <tr>\n",
       "      <th>1</th>\n",
       "      <td>K87327961G</td>\n",
       "      <td>@JoeBiden Your Democratic Nazi Party cannot be...</td>\n",
       "    </tr>\n",
       "    <tr>\n",
       "      <th>2</th>\n",
       "      <td>OldlaceA</td>\n",
       "      <td>@JoeBiden So did Lying Barr</td>\n",
       "    </tr>\n",
       "    <tr>\n",
       "      <th>3</th>\n",
       "      <td>penblogger</td>\n",
       "      <td>@JoeBiden It's clear you didnt compose this tw...</td>\n",
       "    </tr>\n",
       "    <tr>\n",
       "      <th>4</th>\n",
       "      <td>Aquarian0264</td>\n",
       "      <td>@JoeBiden I will vote in person thank you.</td>\n",
       "    </tr>\n",
       "  </tbody>\n",
       "</table>\n",
       "</div>"
      ],
      "text/plain": [
       "           user                                               text\n",
       "0   MarkHodder3    @JoeBiden And we’ll find out who won in 2026...\n",
       "1    K87327961G  @JoeBiden Your Democratic Nazi Party cannot be...\n",
       "2      OldlaceA                        @JoeBiden So did Lying Barr\n",
       "3    penblogger  @JoeBiden It's clear you didnt compose this tw...\n",
       "4  Aquarian0264         @JoeBiden I will vote in person thank you."
      ]
     },
     "execution_count": 5,
     "metadata": {},
     "output_type": "execute_result"
    }
   ],
   "source": [
    "biden.head()"
   ]
  },
  {
   "cell_type": "code",
   "execution_count": 7,
   "metadata": {},
   "outputs": [
    {
     "data": {
      "text/plain": [
       "' @sanofi please tell us how many shares the Criminal Trump Enterprise owns.'"
      ]
     },
     "execution_count": 7,
     "metadata": {},
     "output_type": "execute_result"
    }
   ],
   "source": [
    "trump[\"text\"][0]"
   ]
  },
  {
   "cell_type": "code",
   "execution_count": 8,
   "metadata": {},
   "outputs": [
    {
     "data": {
      "text/plain": [
       "Sentiment(polarity=0.04999999999999999, subjectivity=0.525)"
      ]
     },
     "execution_count": 8,
     "metadata": {},
     "output_type": "execute_result"
    }
   ],
   "source": [
    "TextBlob(trump[\"text\"][0]).sentiment"
   ]
  },
  {
   "cell_type": "markdown",
   "metadata": {},
   "source": [
    "### polarity and subjectivity\n",
    "\n",
    "1 Polarity refers to the sentiment or emotion expressed in the text, ranging from negative to positive.\n",
    "\n",
    "2 Subjectivity,suggests that the text contains some subjects or opinions, measures the extent to which the text is subjective or opinionated rather than objective\n",
    "\n"
   ]
  },
  {
   "cell_type": "code",
   "execution_count": 9,
   "metadata": {},
   "outputs": [
    {
     "data": {
      "text/plain": [
       "(2788, 2)"
      ]
     },
     "execution_count": 9,
     "metadata": {},
     "output_type": "execute_result"
    }
   ],
   "source": [
    "trump.shape"
   ]
  },
  {
   "cell_type": "code",
   "execution_count": 10,
   "metadata": {},
   "outputs": [
    {
     "data": {
      "text/plain": [
       "(2540, 2)"
      ]
     },
     "execution_count": 10,
     "metadata": {},
     "output_type": "execute_result"
    }
   ],
   "source": [
    "biden.shape"
   ]
  },
  {
   "cell_type": "code",
   "execution_count": 13,
   "metadata": {},
   "outputs": [],
   "source": [
    "# function to fetch the polarity of the given user\n",
    "def find_polarity(review):\n",
    "    return TextBlob(review).sentiment.polarity"
   ]
  },
  {
   "cell_type": "code",
   "execution_count": 14,
   "metadata": {},
   "outputs": [
    {
     "data": {
      "text/plain": [
       "-0.8"
      ]
     },
     "execution_count": 14,
     "metadata": {},
     "output_type": "execute_result"
    }
   ],
   "source": [
    "find_polarity(\"i hate eating bannana\")"
   ]
  },
  {
   "cell_type": "code",
   "execution_count": 15,
   "metadata": {},
   "outputs": [
    {
     "data": {
      "text/plain": [
       "0       0.050\n",
       "1       0.000\n",
       "2      -0.500\n",
       "3       0.500\n",
       "4       0.000\n",
       "        ...  \n",
       "2783    0.000\n",
       "2784    0.000\n",
       "2785    0.225\n",
       "2786    0.000\n",
       "2787   -0.500\n",
       "Name: text, Length: 2788, dtype: float64"
      ]
     },
     "execution_count": 15,
     "metadata": {},
     "output_type": "execute_result"
    }
   ],
   "source": [
    "trump[\"text\"].apply(find_polarity)"
   ]
  },
  {
   "cell_type": "code",
   "execution_count": 18,
   "metadata": {},
   "outputs": [],
   "source": [
    "trump[\"Sentiment Polarity\"] = trump[\"text\"].apply(find_polarity)\n",
    "biden[\"Sentiment Polarity\"] = biden[\"text\"].apply(find_polarity)"
   ]
  },
  {
   "cell_type": "code",
   "execution_count": 34,
   "metadata": {},
   "outputs": [
    {
     "data": {
      "text/html": [
       "<div>\n",
       "<style scoped>\n",
       "    .dataframe tbody tr th:only-of-type {\n",
       "        vertical-align: middle;\n",
       "    }\n",
       "\n",
       "    .dataframe tbody tr th {\n",
       "        vertical-align: top;\n",
       "    }\n",
       "\n",
       "    .dataframe thead th {\n",
       "        text-align: right;\n",
       "    }\n",
       "</style>\n",
       "<table border=\"1\" class=\"dataframe\">\n",
       "  <thead>\n",
       "    <tr style=\"text-align: right;\">\n",
       "      <th></th>\n",
       "      <th>user</th>\n",
       "      <th>text</th>\n",
       "      <th>Sentiment Polarity</th>\n",
       "      <th>Expression Label</th>\n",
       "    </tr>\n",
       "  </thead>\n",
       "  <tbody>\n",
       "    <tr>\n",
       "      <th>0</th>\n",
       "      <td>manny_rosen</td>\n",
       "      <td>@sanofi please tell us how many shares the Cr...</td>\n",
       "      <td>0.05</td>\n",
       "      <td>Positive</td>\n",
       "    </tr>\n",
       "    <tr>\n",
       "      <th>1</th>\n",
       "      <td>osi_abdul</td>\n",
       "      <td>https://t.co/atM98CpqF7  Like, comment, RT #P...</td>\n",
       "      <td>0.00</td>\n",
       "      <td>Neutral</td>\n",
       "    </tr>\n",
       "    <tr>\n",
       "      <th>2</th>\n",
       "      <td>Patsyrw</td>\n",
       "      <td>Your AG Barr is as useless &amp;amp; corrupt as y...</td>\n",
       "      <td>-0.50</td>\n",
       "      <td>Negative</td>\n",
       "    </tr>\n",
       "    <tr>\n",
       "      <th>3</th>\n",
       "      <td>seyedebrahimi_m</td>\n",
       "      <td>Mr. Trump! Wake Up!  Most of the comments bel...</td>\n",
       "      <td>0.50</td>\n",
       "      <td>Positive</td>\n",
       "    </tr>\n",
       "    <tr>\n",
       "      <th>4</th>\n",
       "      <td>James09254677</td>\n",
       "      <td>After 4 years you think you would have figure...</td>\n",
       "      <td>0.00</td>\n",
       "      <td>Neutral</td>\n",
       "    </tr>\n",
       "    <tr>\n",
       "      <th>5</th>\n",
       "      <td>IndependentsDo</td>\n",
       "      <td>You lie to lie to cover up a lie to cover up...</td>\n",
       "      <td>0.00</td>\n",
       "      <td>Neutral</td>\n",
       "    </tr>\n",
       "    <tr>\n",
       "      <th>6</th>\n",
       "      <td>curtiswhitworth</td>\n",
       "      <td>Really? My prices have gone up. That’s a fact.</td>\n",
       "      <td>0.20</td>\n",
       "      <td>Positive</td>\n",
       "    </tr>\n",
       "    <tr>\n",
       "      <th>7</th>\n",
       "      <td>shayked5777</td>\n",
       "      <td>Don, you are delusion.  Someone needs to invo...</td>\n",
       "      <td>0.00</td>\n",
       "      <td>Neutral</td>\n",
       "    </tr>\n",
       "    <tr>\n",
       "      <th>8</th>\n",
       "      <td>CantStandya2018</td>\n",
       "      <td>How much on stocks have you made pushing mira...</td>\n",
       "      <td>0.35</td>\n",
       "      <td>Positive</td>\n",
       "    </tr>\n",
       "    <tr>\n",
       "      <th>9</th>\n",
       "      <td>Chris09704800</td>\n",
       "      <td>https://t.co/MsPqMjxUpk</td>\n",
       "      <td>0.00</td>\n",
       "      <td>Neutral</td>\n",
       "    </tr>\n",
       "  </tbody>\n",
       "</table>\n",
       "</div>"
      ],
      "text/plain": [
       "              user                                               text  \\\n",
       "0      manny_rosen   @sanofi please tell us how many shares the Cr...   \n",
       "1        osi_abdul   https://t.co/atM98CpqF7  Like, comment, RT #P...   \n",
       "2          Patsyrw   Your AG Barr is as useless &amp; corrupt as y...   \n",
       "3  seyedebrahimi_m   Mr. Trump! Wake Up!  Most of the comments bel...   \n",
       "4    James09254677   After 4 years you think you would have figure...   \n",
       "5   IndependentsDo    You lie to lie to cover up a lie to cover up...   \n",
       "6  curtiswhitworth     Really? My prices have gone up. That’s a fact.   \n",
       "7      shayked5777   Don, you are delusion.  Someone needs to invo...   \n",
       "8  CantStandya2018   How much on stocks have you made pushing mira...   \n",
       "9    Chris09704800                            https://t.co/MsPqMjxUpk   \n",
       "\n",
       "   Sentiment Polarity Expression Label  \n",
       "0                0.05         Positive  \n",
       "1                0.00          Neutral  \n",
       "2               -0.50         Negative  \n",
       "3                0.50         Positive  \n",
       "4                0.00          Neutral  \n",
       "5                0.00          Neutral  \n",
       "6                0.20         Positive  \n",
       "7                0.00          Neutral  \n",
       "8                0.35         Positive  \n",
       "9                0.00          Neutral  "
      ]
     },
     "execution_count": 34,
     "metadata": {},
     "output_type": "execute_result"
    }
   ],
   "source": [
    "trump.head(10)"
   ]
  },
  {
   "cell_type": "code",
   "execution_count": 35,
   "metadata": {},
   "outputs": [
    {
     "data": {
      "text/html": [
       "<div>\n",
       "<style scoped>\n",
       "    .dataframe tbody tr th:only-of-type {\n",
       "        vertical-align: middle;\n",
       "    }\n",
       "\n",
       "    .dataframe tbody tr th {\n",
       "        vertical-align: top;\n",
       "    }\n",
       "\n",
       "    .dataframe thead th {\n",
       "        text-align: right;\n",
       "    }\n",
       "</style>\n",
       "<table border=\"1\" class=\"dataframe\">\n",
       "  <thead>\n",
       "    <tr style=\"text-align: right;\">\n",
       "      <th></th>\n",
       "      <th>user</th>\n",
       "      <th>text</th>\n",
       "      <th>Sentiment Polarity</th>\n",
       "      <th>Expression Label</th>\n",
       "    </tr>\n",
       "  </thead>\n",
       "  <tbody>\n",
       "    <tr>\n",
       "      <th>0</th>\n",
       "      <td>MarkHodder3</td>\n",
       "      <td>@JoeBiden And we’ll find out who won in 2026...</td>\n",
       "      <td>0.000000</td>\n",
       "      <td>Neutral</td>\n",
       "    </tr>\n",
       "    <tr>\n",
       "      <th>1</th>\n",
       "      <td>K87327961G</td>\n",
       "      <td>@JoeBiden Your Democratic Nazi Party cannot be...</td>\n",
       "      <td>0.000000</td>\n",
       "      <td>Neutral</td>\n",
       "    </tr>\n",
       "    <tr>\n",
       "      <th>2</th>\n",
       "      <td>OldlaceA</td>\n",
       "      <td>@JoeBiden So did Lying Barr</td>\n",
       "      <td>0.000000</td>\n",
       "      <td>Neutral</td>\n",
       "    </tr>\n",
       "    <tr>\n",
       "      <th>3</th>\n",
       "      <td>penblogger</td>\n",
       "      <td>@JoeBiden It's clear you didnt compose this tw...</td>\n",
       "      <td>0.050000</td>\n",
       "      <td>Positive</td>\n",
       "    </tr>\n",
       "    <tr>\n",
       "      <th>4</th>\n",
       "      <td>Aquarian0264</td>\n",
       "      <td>@JoeBiden I will vote in person thank you.</td>\n",
       "      <td>0.000000</td>\n",
       "      <td>Neutral</td>\n",
       "    </tr>\n",
       "    <tr>\n",
       "      <th>5</th>\n",
       "      <td>FabrizioBenass4</td>\n",
       "      <td>@JoeBiden #ALL LIVES MATTER #HUMAN RIGHTS HELP...</td>\n",
       "      <td>0.033333</td>\n",
       "      <td>Positive</td>\n",
       "    </tr>\n",
       "    <tr>\n",
       "      <th>6</th>\n",
       "      <td>motter_sue</td>\n",
       "      <td>@JoeBiden @JustVent6 As if you kno how he voted!!</td>\n",
       "      <td>0.000000</td>\n",
       "      <td>Neutral</td>\n",
       "    </tr>\n",
       "    <tr>\n",
       "      <th>7</th>\n",
       "      <td>sandraanne324</td>\n",
       "      <td>@JoeBiden Looks like your not they only sleepy...</td>\n",
       "      <td>0.000000</td>\n",
       "      <td>Neutral</td>\n",
       "    </tr>\n",
       "    <tr>\n",
       "      <th>8</th>\n",
       "      <td>pepvet</td>\n",
       "      <td>@JoeBiden @PleaseJustDoNot Youre son benefitte...</td>\n",
       "      <td>0.000000</td>\n",
       "      <td>Neutral</td>\n",
       "    </tr>\n",
       "    <tr>\n",
       "      <th>9</th>\n",
       "      <td>LauraD1216</td>\n",
       "      <td>@JoeBiden https://t.co/52hTK0IqOj</td>\n",
       "      <td>0.000000</td>\n",
       "      <td>Neutral</td>\n",
       "    </tr>\n",
       "  </tbody>\n",
       "</table>\n",
       "</div>"
      ],
      "text/plain": [
       "              user                                               text  \\\n",
       "0      MarkHodder3    @JoeBiden And we’ll find out who won in 2026...   \n",
       "1       K87327961G  @JoeBiden Your Democratic Nazi Party cannot be...   \n",
       "2         OldlaceA                        @JoeBiden So did Lying Barr   \n",
       "3       penblogger  @JoeBiden It's clear you didnt compose this tw...   \n",
       "4     Aquarian0264         @JoeBiden I will vote in person thank you.   \n",
       "5  FabrizioBenass4  @JoeBiden #ALL LIVES MATTER #HUMAN RIGHTS HELP...   \n",
       "6       motter_sue  @JoeBiden @JustVent6 As if you kno how he voted!!   \n",
       "7    sandraanne324  @JoeBiden Looks like your not they only sleepy...   \n",
       "8           pepvet  @JoeBiden @PleaseJustDoNot Youre son benefitte...   \n",
       "9       LauraD1216                  @JoeBiden https://t.co/52hTK0IqOj   \n",
       "\n",
       "   Sentiment Polarity Expression Label  \n",
       "0            0.000000          Neutral  \n",
       "1            0.000000          Neutral  \n",
       "2            0.000000          Neutral  \n",
       "3            0.050000         Positive  \n",
       "4            0.000000          Neutral  \n",
       "5            0.033333         Positive  \n",
       "6            0.000000          Neutral  \n",
       "7            0.000000          Neutral  \n",
       "8            0.000000          Neutral  \n",
       "9            0.000000          Neutral  "
      ]
     },
     "execution_count": 35,
     "metadata": {},
     "output_type": "execute_result"
    }
   ],
   "source": [
    "biden.head(10)"
   ]
  },
  {
   "cell_type": "markdown",
   "metadata": {},
   "source": [
    "## Now I will add a new attribute in both the datasets by the name of “Expression Label”:\n",
    "### 1 polarity > 0 :: positive\n",
    "### 2 polarity < 0 :: negative\n",
    "### 3 Polarity == 0 :: neutral"
   ]
  },
  {
   "cell_type": "code",
   "execution_count": 19,
   "metadata": {},
   "outputs": [
    {
     "data": {
      "text/plain": [
       "0        True\n",
       "1       False\n",
       "2       False\n",
       "3        True\n",
       "4       False\n",
       "        ...  \n",
       "2783    False\n",
       "2784    False\n",
       "2785     True\n",
       "2786    False\n",
       "2787    False\n",
       "Name: Sentiment Polarity, Length: 2788, dtype: bool"
      ]
     },
     "execution_count": 19,
     "metadata": {},
     "output_type": "execute_result"
    }
   ],
   "source": [
    "trump[\"Sentiment Polarity\"] > 0 "
   ]
  },
  {
   "cell_type": "code",
   "execution_count": 20,
   "metadata": {},
   "outputs": [
    {
     "data": {
      "text/plain": [
       "(array([   0,    3,    6,    8,   10,   17,   18,   29,   30,   31,   33,\n",
       "          38,   43,   45,   48,   51,   52,   53,   58,   59,   64,   68,\n",
       "          69,   72,   75,   79,   80,   87,   93,   96,  100,  104,  111,\n",
       "         113,  118,  120,  131,  134,  138,  141,  142,  147,  149,  154,\n",
       "         158,  165,  169,  171,  178,  179,  186,  188,  189,  190,  191,\n",
       "         193,  195,  196,  199,  201,  202,  203,  204,  209,  215,  216,\n",
       "         218,  219,  226,  229,  230,  234,  235,  236,  237,  241,  244,\n",
       "         245,  246,  247,  258,  264,  267,  268,  271,  272,  273,  277,\n",
       "         285,  292,  293,  298,  303,  304,  305,  308,  312,  315,  317,\n",
       "         318,  322,  326,  328,  330,  334,  338,  340,  341,  343,  356,\n",
       "         359,  360,  364,  369,  370,  375,  380,  381,  383,  390,  396,\n",
       "         397,  398,  407,  410,  411,  414,  416,  420,  426,  427,  431,\n",
       "         437,  445,  447,  453,  454,  469,  470,  472,  473,  478,  479,\n",
       "         481,  482,  490,  492,  494,  500,  502,  508,  513,  514,  515,\n",
       "         517,  518,  527,  529,  532,  533,  535,  537,  541,  545,  548,\n",
       "         551,  558,  561,  564,  567,  568,  571,  576,  577,  580,  582,\n",
       "         588,  591,  599,  601,  608,  609,  612,  613,  616,  617,  621,\n",
       "         623,  628,  629,  638,  639,  643,  648,  649,  651,  657,  661,\n",
       "         666,  677,  678,  681,  689,  691,  696,  711,  714,  715,  716,\n",
       "         721,  723,  725,  727,  730,  731,  732,  738,  741,  744,  747,\n",
       "         752,  753,  757,  760,  761,  765,  770,  772,  773,  774,  779,\n",
       "         784,  785,  793,  800,  805,  806,  809,  811,  813,  814,  815,\n",
       "         818,  820,  823,  825,  839,  840,  841,  850,  854,  859,  860,\n",
       "         868,  869,  874,  882,  884,  886,  887,  891,  892,  894,  895,\n",
       "         896,  897,  903,  907,  910,  913,  917,  923,  925,  930,  932,\n",
       "         946,  947,  950,  969,  976,  985,  986,  987,  993,  998,  999,\n",
       "        1002, 1017, 1030, 1033, 1034, 1036, 1045, 1047, 1052, 1054, 1059,\n",
       "        1060, 1065, 1077, 1078, 1084, 1087, 1089, 1094, 1095, 1097, 1106,\n",
       "        1107, 1110, 1114, 1115, 1117, 1120, 1121, 1125, 1126, 1129, 1134,\n",
       "        1147, 1158, 1159, 1163, 1166, 1167, 1178, 1187, 1192, 1193, 1194,\n",
       "        1196, 1198, 1208, 1215, 1225, 1226, 1231, 1234, 1241, 1249, 1253,\n",
       "        1254, 1266, 1267, 1270, 1279, 1280, 1285, 1288, 1295, 1296, 1299,\n",
       "        1300, 1313, 1324, 1325, 1329, 1334, 1352, 1363, 1364, 1379, 1381,\n",
       "        1394, 1402, 1403, 1404, 1405, 1407, 1412, 1415, 1417, 1418, 1422,\n",
       "        1423, 1424, 1429, 1430, 1436, 1437, 1438, 1439, 1440, 1443, 1448,\n",
       "        1461, 1466, 1469, 1471, 1473, 1474, 1477, 1478, 1479, 1485, 1486,\n",
       "        1489, 1491, 1492, 1494, 1502, 1504, 1505, 1506, 1518, 1521, 1522,\n",
       "        1527, 1529, 1532, 1535, 1536, 1555, 1560, 1561, 1568, 1569, 1572,\n",
       "        1574, 1578, 1581, 1582, 1583, 1584, 1586, 1588, 1590, 1591, 1596,\n",
       "        1599, 1600, 1601, 1605, 1606, 1607, 1609, 1612, 1614, 1616, 1619,\n",
       "        1629, 1631, 1636, 1642, 1644, 1651, 1654, 1656, 1668, 1674, 1676,\n",
       "        1685, 1688, 1691, 1692, 1696, 1697, 1700, 1705, 1706, 1710, 1713,\n",
       "        1717, 1718, 1721, 1728, 1729, 1734, 1747, 1750, 1752, 1753, 1763,\n",
       "        1771, 1783, 1787, 1789, 1794, 1795, 1797, 1805, 1808, 1810, 1818,\n",
       "        1821, 1838, 1840, 1841, 1844, 1861, 1862, 1867, 1868, 1869, 1874,\n",
       "        1879, 1880, 1884, 1885, 1886, 1887, 1891, 1895, 1896, 1900, 1901,\n",
       "        1902, 1903, 1904, 1909, 1918, 1922, 1924, 1927, 1929, 1932, 1957,\n",
       "        1958, 1959, 1966, 1967, 1971, 1974, 1975, 1976, 1979, 1981, 1987,\n",
       "        1990, 1997, 2006, 2010, 2014, 2020, 2025, 2027, 2028, 2031, 2033,\n",
       "        2036, 2041, 2050, 2051, 2061, 2068, 2069, 2070, 2071, 2075, 2081,\n",
       "        2088, 2093, 2097, 2099, 2101, 2102, 2103, 2104, 2117, 2118, 2121,\n",
       "        2122, 2123, 2127, 2128, 2136, 2138, 2141, 2146, 2147, 2149, 2151,\n",
       "        2154, 2158, 2162, 2168, 2177, 2178, 2180, 2182, 2187, 2188, 2189,\n",
       "        2190, 2198, 2199, 2203, 2205, 2206, 2209, 2214, 2218, 2220, 2222,\n",
       "        2224, 2233, 2239, 2242, 2245, 2255, 2258, 2260, 2261, 2263, 2265,\n",
       "        2266, 2269, 2270, 2274, 2277, 2284, 2289, 2293, 2296, 2300, 2310,\n",
       "        2311, 2312, 2316, 2317, 2319, 2330, 2333, 2335, 2337, 2342, 2351,\n",
       "        2357, 2358, 2367, 2378, 2381, 2387, 2393, 2396, 2399, 2401, 2403,\n",
       "        2409, 2412, 2424, 2431, 2434, 2437, 2438, 2447, 2451, 2452, 2453,\n",
       "        2454, 2459, 2464, 2465, 2472, 2476, 2482, 2485, 2486, 2490, 2492,\n",
       "        2495, 2502, 2514, 2517, 2523, 2527, 2528, 2529, 2531, 2532, 2533,\n",
       "        2537, 2539, 2540, 2546, 2547, 2548, 2551, 2556, 2560, 2563, 2565,\n",
       "        2567, 2568, 2573, 2576, 2577, 2581, 2602, 2604, 2606, 2610, 2630,\n",
       "        2631, 2632, 2634, 2648, 2654, 2664, 2667, 2668, 2669, 2680, 2683,\n",
       "        2684, 2686, 2691, 2696, 2702, 2708, 2713, 2714, 2716, 2718, 2724,\n",
       "        2727, 2729, 2731, 2737, 2738, 2742, 2754, 2758, 2767, 2768, 2782,\n",
       "        2785]),)"
      ]
     },
     "execution_count": 20,
     "metadata": {},
     "output_type": "execute_result"
    }
   ],
   "source": [
    "np.where(trump[\"Sentiment Polarity\"] > 0 )"
   ]
  },
  {
   "cell_type": "code",
   "execution_count": 21,
   "metadata": {},
   "outputs": [
    {
     "data": {
      "text/plain": [
       "array(['Positive', 'Negative', 'Negative', ..., 'Positive', 'Negative',\n",
       "       'Negative'], dtype='<U8')"
      ]
     },
     "execution_count": 21,
     "metadata": {},
     "output_type": "execute_result"
    }
   ],
   "source": [
    "np.where(trump[\"Sentiment Polarity\"] > 0, \"Positive\", \"Negative\" )"
   ]
  },
  {
   "cell_type": "code",
   "execution_count": 29,
   "metadata": {},
   "outputs": [
    {
     "data": {
      "text/plain": [
       "array(['Positive', 'Neutral', 'Negative', ..., 'Positive', 'Neutral',\n",
       "       'Negative'], dtype='<U8')"
      ]
     },
     "execution_count": 29,
     "metadata": {},
     "output_type": "execute_result"
    }
   ],
   "source": [
    "np.where(trump[\"Sentiment Polarity\"]  == 0, \"Neutral\", np.where(trump[\"Sentiment Polarity\"] > 0, \"Positive\", \"Negative\"))"
   ]
  },
  {
   "cell_type": "code",
   "execution_count": 30,
   "metadata": {},
   "outputs": [],
   "source": [
    "trump[\"Expression Label\"] = np.where(trump[\"Sentiment Polarity\"]  == 0, \"Neutral\", np.where(trump[\"Sentiment Polarity\"] > 0, \"Positive\", \"Negative\"))"
   ]
  },
  {
   "cell_type": "code",
   "execution_count": 31,
   "metadata": {},
   "outputs": [
    {
     "data": {
      "text/html": [
       "<div>\n",
       "<style scoped>\n",
       "    .dataframe tbody tr th:only-of-type {\n",
       "        vertical-align: middle;\n",
       "    }\n",
       "\n",
       "    .dataframe tbody tr th {\n",
       "        vertical-align: top;\n",
       "    }\n",
       "\n",
       "    .dataframe thead th {\n",
       "        text-align: right;\n",
       "    }\n",
       "</style>\n",
       "<table border=\"1\" class=\"dataframe\">\n",
       "  <thead>\n",
       "    <tr style=\"text-align: right;\">\n",
       "      <th></th>\n",
       "      <th>user</th>\n",
       "      <th>text</th>\n",
       "      <th>Sentiment Polarity</th>\n",
       "      <th>Expression Label</th>\n",
       "    </tr>\n",
       "  </thead>\n",
       "  <tbody>\n",
       "    <tr>\n",
       "      <th>0</th>\n",
       "      <td>manny_rosen</td>\n",
       "      <td>@sanofi please tell us how many shares the Cr...</td>\n",
       "      <td>0.05</td>\n",
       "      <td>Positive</td>\n",
       "    </tr>\n",
       "    <tr>\n",
       "      <th>1</th>\n",
       "      <td>osi_abdul</td>\n",
       "      <td>https://t.co/atM98CpqF7  Like, comment, RT #P...</td>\n",
       "      <td>0.00</td>\n",
       "      <td>Neutral</td>\n",
       "    </tr>\n",
       "    <tr>\n",
       "      <th>2</th>\n",
       "      <td>Patsyrw</td>\n",
       "      <td>Your AG Barr is as useless &amp;amp; corrupt as y...</td>\n",
       "      <td>-0.50</td>\n",
       "      <td>Negative</td>\n",
       "    </tr>\n",
       "    <tr>\n",
       "      <th>3</th>\n",
       "      <td>seyedebrahimi_m</td>\n",
       "      <td>Mr. Trump! Wake Up!  Most of the comments bel...</td>\n",
       "      <td>0.50</td>\n",
       "      <td>Positive</td>\n",
       "    </tr>\n",
       "    <tr>\n",
       "      <th>4</th>\n",
       "      <td>James09254677</td>\n",
       "      <td>After 4 years you think you would have figure...</td>\n",
       "      <td>0.00</td>\n",
       "      <td>Neutral</td>\n",
       "    </tr>\n",
       "    <tr>\n",
       "      <th>5</th>\n",
       "      <td>IndependentsDo</td>\n",
       "      <td>You lie to lie to cover up a lie to cover up...</td>\n",
       "      <td>0.00</td>\n",
       "      <td>Neutral</td>\n",
       "    </tr>\n",
       "    <tr>\n",
       "      <th>6</th>\n",
       "      <td>curtiswhitworth</td>\n",
       "      <td>Really? My prices have gone up. That’s a fact.</td>\n",
       "      <td>0.20</td>\n",
       "      <td>Positive</td>\n",
       "    </tr>\n",
       "    <tr>\n",
       "      <th>7</th>\n",
       "      <td>shayked5777</td>\n",
       "      <td>Don, you are delusion.  Someone needs to invo...</td>\n",
       "      <td>0.00</td>\n",
       "      <td>Neutral</td>\n",
       "    </tr>\n",
       "    <tr>\n",
       "      <th>8</th>\n",
       "      <td>CantStandya2018</td>\n",
       "      <td>How much on stocks have you made pushing mira...</td>\n",
       "      <td>0.35</td>\n",
       "      <td>Positive</td>\n",
       "    </tr>\n",
       "    <tr>\n",
       "      <th>9</th>\n",
       "      <td>Chris09704800</td>\n",
       "      <td>https://t.co/MsPqMjxUpk</td>\n",
       "      <td>0.00</td>\n",
       "      <td>Neutral</td>\n",
       "    </tr>\n",
       "  </tbody>\n",
       "</table>\n",
       "</div>"
      ],
      "text/plain": [
       "              user                                               text  \\\n",
       "0      manny_rosen   @sanofi please tell us how many shares the Cr...   \n",
       "1        osi_abdul   https://t.co/atM98CpqF7  Like, comment, RT #P...   \n",
       "2          Patsyrw   Your AG Barr is as useless &amp; corrupt as y...   \n",
       "3  seyedebrahimi_m   Mr. Trump! Wake Up!  Most of the comments bel...   \n",
       "4    James09254677   After 4 years you think you would have figure...   \n",
       "5   IndependentsDo    You lie to lie to cover up a lie to cover up...   \n",
       "6  curtiswhitworth     Really? My prices have gone up. That’s a fact.   \n",
       "7      shayked5777   Don, you are delusion.  Someone needs to invo...   \n",
       "8  CantStandya2018   How much on stocks have you made pushing mira...   \n",
       "9    Chris09704800                            https://t.co/MsPqMjxUpk   \n",
       "\n",
       "   Sentiment Polarity Expression Label  \n",
       "0                0.05         Positive  \n",
       "1                0.00          Neutral  \n",
       "2               -0.50         Negative  \n",
       "3                0.50         Positive  \n",
       "4                0.00          Neutral  \n",
       "5                0.00          Neutral  \n",
       "6                0.20         Positive  \n",
       "7                0.00          Neutral  \n",
       "8                0.35         Positive  \n",
       "9                0.00          Neutral  "
      ]
     },
     "execution_count": 31,
     "metadata": {},
     "output_type": "execute_result"
    }
   ],
   "source": [
    "trump.head(10)"
   ]
  },
  {
   "cell_type": "code",
   "execution_count": 32,
   "metadata": {},
   "outputs": [],
   "source": [
    "biden[\"Expression Label\"] = np.where(biden[\"Sentiment Polarity\"]  == 0, \"Neutral\", np.where(biden[\"Sentiment Polarity\"] > 0, \"Positive\", \"Negative\"))\n"
   ]
  },
  {
   "cell_type": "code",
   "execution_count": 36,
   "metadata": {},
   "outputs": [
    {
     "data": {
      "text/html": [
       "<div>\n",
       "<style scoped>\n",
       "    .dataframe tbody tr th:only-of-type {\n",
       "        vertical-align: middle;\n",
       "    }\n",
       "\n",
       "    .dataframe tbody tr th {\n",
       "        vertical-align: top;\n",
       "    }\n",
       "\n",
       "    .dataframe thead th {\n",
       "        text-align: right;\n",
       "    }\n",
       "</style>\n",
       "<table border=\"1\" class=\"dataframe\">\n",
       "  <thead>\n",
       "    <tr style=\"text-align: right;\">\n",
       "      <th></th>\n",
       "      <th>user</th>\n",
       "      <th>text</th>\n",
       "      <th>Sentiment Polarity</th>\n",
       "      <th>Expression Label</th>\n",
       "    </tr>\n",
       "  </thead>\n",
       "  <tbody>\n",
       "    <tr>\n",
       "      <th>0</th>\n",
       "      <td>MarkHodder3</td>\n",
       "      <td>@JoeBiden And we’ll find out who won in 2026...</td>\n",
       "      <td>0.000000</td>\n",
       "      <td>Neutral</td>\n",
       "    </tr>\n",
       "    <tr>\n",
       "      <th>1</th>\n",
       "      <td>K87327961G</td>\n",
       "      <td>@JoeBiden Your Democratic Nazi Party cannot be...</td>\n",
       "      <td>0.000000</td>\n",
       "      <td>Neutral</td>\n",
       "    </tr>\n",
       "    <tr>\n",
       "      <th>2</th>\n",
       "      <td>OldlaceA</td>\n",
       "      <td>@JoeBiden So did Lying Barr</td>\n",
       "      <td>0.000000</td>\n",
       "      <td>Neutral</td>\n",
       "    </tr>\n",
       "    <tr>\n",
       "      <th>3</th>\n",
       "      <td>penblogger</td>\n",
       "      <td>@JoeBiden It's clear you didnt compose this tw...</td>\n",
       "      <td>0.050000</td>\n",
       "      <td>Positive</td>\n",
       "    </tr>\n",
       "    <tr>\n",
       "      <th>4</th>\n",
       "      <td>Aquarian0264</td>\n",
       "      <td>@JoeBiden I will vote in person thank you.</td>\n",
       "      <td>0.000000</td>\n",
       "      <td>Neutral</td>\n",
       "    </tr>\n",
       "    <tr>\n",
       "      <th>5</th>\n",
       "      <td>FabrizioBenass4</td>\n",
       "      <td>@JoeBiden #ALL LIVES MATTER #HUMAN RIGHTS HELP...</td>\n",
       "      <td>0.033333</td>\n",
       "      <td>Positive</td>\n",
       "    </tr>\n",
       "    <tr>\n",
       "      <th>6</th>\n",
       "      <td>motter_sue</td>\n",
       "      <td>@JoeBiden @JustVent6 As if you kno how he voted!!</td>\n",
       "      <td>0.000000</td>\n",
       "      <td>Neutral</td>\n",
       "    </tr>\n",
       "    <tr>\n",
       "      <th>7</th>\n",
       "      <td>sandraanne324</td>\n",
       "      <td>@JoeBiden Looks like your not they only sleepy...</td>\n",
       "      <td>0.000000</td>\n",
       "      <td>Neutral</td>\n",
       "    </tr>\n",
       "    <tr>\n",
       "      <th>8</th>\n",
       "      <td>pepvet</td>\n",
       "      <td>@JoeBiden @PleaseJustDoNot Youre son benefitte...</td>\n",
       "      <td>0.000000</td>\n",
       "      <td>Neutral</td>\n",
       "    </tr>\n",
       "    <tr>\n",
       "      <th>9</th>\n",
       "      <td>LauraD1216</td>\n",
       "      <td>@JoeBiden https://t.co/52hTK0IqOj</td>\n",
       "      <td>0.000000</td>\n",
       "      <td>Neutral</td>\n",
       "    </tr>\n",
       "    <tr>\n",
       "      <th>10</th>\n",
       "      <td>palaro2017</td>\n",
       "      <td>@JoeBiden Voter ID is required otherwise you D...</td>\n",
       "      <td>0.000000</td>\n",
       "      <td>Neutral</td>\n",
       "    </tr>\n",
       "    <tr>\n",
       "      <th>11</th>\n",
       "      <td>GeneEmerick68</td>\n",
       "      <td>@JoeBiden Scared to debate?</td>\n",
       "      <td>0.000000</td>\n",
       "      <td>Neutral</td>\n",
       "    </tr>\n",
       "    <tr>\n",
       "      <th>12</th>\n",
       "      <td>JGarka</td>\n",
       "      <td>@JoeBiden You would approve, its only way you ...</td>\n",
       "      <td>0.000000</td>\n",
       "      <td>Neutral</td>\n",
       "    </tr>\n",
       "    <tr>\n",
       "      <th>13</th>\n",
       "      <td>candyisyummy333</td>\n",
       "      <td>@JoeBiden My standard reply to propaganda: htt...</td>\n",
       "      <td>-0.050000</td>\n",
       "      <td>Negative</td>\n",
       "    </tr>\n",
       "    <tr>\n",
       "      <th>14</th>\n",
       "      <td>5h0rtie</td>\n",
       "      <td>@JoeBiden @richardmarx Trouble is trump voted ...</td>\n",
       "      <td>-0.200000</td>\n",
       "      <td>Negative</td>\n",
       "    </tr>\n",
       "    <tr>\n",
       "      <th>15</th>\n",
       "      <td>shut_up_stewart</td>\n",
       "      <td>@JoeBiden I honestly cannot comprehend how a c...</td>\n",
       "      <td>0.200000</td>\n",
       "      <td>Positive</td>\n",
       "    </tr>\n",
       "    <tr>\n",
       "      <th>16</th>\n",
       "      <td>2think4reals</td>\n",
       "      <td>@JoeBiden Why?</td>\n",
       "      <td>0.000000</td>\n",
       "      <td>Neutral</td>\n",
       "    </tr>\n",
       "    <tr>\n",
       "      <th>17</th>\n",
       "      <td>goVoteTrump</td>\n",
       "      <td>@JoeBiden He also runs his own Twitter. You sh...</td>\n",
       "      <td>0.550000</td>\n",
       "      <td>Positive</td>\n",
       "    </tr>\n",
       "    <tr>\n",
       "      <th>18</th>\n",
       "      <td>rollyr</td>\n",
       "      <td>@JoeBiden If you are absent. Hence “absentee” ...</td>\n",
       "      <td>0.000000</td>\n",
       "      <td>Neutral</td>\n",
       "    </tr>\n",
       "    <tr>\n",
       "      <th>19</th>\n",
       "      <td>GeneEmerick68</td>\n",
       "      <td>@JoeBiden Right, 4more years of Donald J Trump</td>\n",
       "      <td>0.285714</td>\n",
       "      <td>Positive</td>\n",
       "    </tr>\n",
       "    <tr>\n",
       "      <th>20</th>\n",
       "      <td>lancehashtags</td>\n",
       "      <td>@JoeBiden https://t.co/0VTiANt7MY</td>\n",
       "      <td>0.000000</td>\n",
       "      <td>Neutral</td>\n",
       "    </tr>\n",
       "    <tr>\n",
       "      <th>21</th>\n",
       "      <td>Belleamewithtia</td>\n",
       "      <td>@JoeBiden Why? So you can rig the election lik...</td>\n",
       "      <td>0.000000</td>\n",
       "      <td>Neutral</td>\n",
       "    </tr>\n",
       "    <tr>\n",
       "      <th>22</th>\n",
       "      <td>magatweetpolice</td>\n",
       "      <td>@JoeBiden Old man you're afraid and incapable ...</td>\n",
       "      <td>-0.121212</td>\n",
       "      <td>Negative</td>\n",
       "    </tr>\n",
       "    <tr>\n",
       "      <th>23</th>\n",
       "      <td>RabbitEaster1</td>\n",
       "      <td>@JoeBiden BS… He’s the president… That doesn’t...</td>\n",
       "      <td>-0.156250</td>\n",
       "      <td>Negative</td>\n",
       "    </tr>\n",
       "    <tr>\n",
       "      <th>24</th>\n",
       "      <td>metzgerl</td>\n",
       "      <td>@JoeBiden Are you a liar or ignorant? There is...</td>\n",
       "      <td>0.000000</td>\n",
       "      <td>Neutral</td>\n",
       "    </tr>\n",
       "    <tr>\n",
       "      <th>25</th>\n",
       "      <td>Zen_Trixie</td>\n",
       "      <td>@JoeBiden Our troops vote by mail. We should b...</td>\n",
       "      <td>0.500000</td>\n",
       "      <td>Positive</td>\n",
       "    </tr>\n",
       "    <tr>\n",
       "      <th>26</th>\n",
       "      <td>JDebarre</td>\n",
       "      <td>@JoeBiden Absolutely</td>\n",
       "      <td>0.200000</td>\n",
       "      <td>Positive</td>\n",
       "    </tr>\n",
       "    <tr>\n",
       "      <th>27</th>\n",
       "      <td>pookeypies7</td>\n",
       "      <td>@JoeBiden It wasn't the same ballots and you k...</td>\n",
       "      <td>0.000000</td>\n",
       "      <td>Neutral</td>\n",
       "    </tr>\n",
       "    <tr>\n",
       "      <th>28</th>\n",
       "      <td>BackinTheBlu</td>\n",
       "      <td>@JoeBiden Absentee voting and blanket ballotin...</td>\n",
       "      <td>0.000000</td>\n",
       "      <td>Neutral</td>\n",
       "    </tr>\n",
       "    <tr>\n",
       "      <th>29</th>\n",
       "      <td>sadiesm20755403</td>\n",
       "      <td>@JoeBiden Correct</td>\n",
       "      <td>0.000000</td>\n",
       "      <td>Neutral</td>\n",
       "    </tr>\n",
       "  </tbody>\n",
       "</table>\n",
       "</div>"
      ],
      "text/plain": [
       "               user                                               text  \\\n",
       "0       MarkHodder3    @JoeBiden And we’ll find out who won in 2026...   \n",
       "1        K87327961G  @JoeBiden Your Democratic Nazi Party cannot be...   \n",
       "2          OldlaceA                        @JoeBiden So did Lying Barr   \n",
       "3        penblogger  @JoeBiden It's clear you didnt compose this tw...   \n",
       "4      Aquarian0264         @JoeBiden I will vote in person thank you.   \n",
       "5   FabrizioBenass4  @JoeBiden #ALL LIVES MATTER #HUMAN RIGHTS HELP...   \n",
       "6        motter_sue  @JoeBiden @JustVent6 As if you kno how he voted!!   \n",
       "7     sandraanne324  @JoeBiden Looks like your not they only sleepy...   \n",
       "8            pepvet  @JoeBiden @PleaseJustDoNot Youre son benefitte...   \n",
       "9        LauraD1216                  @JoeBiden https://t.co/52hTK0IqOj   \n",
       "10       palaro2017  @JoeBiden Voter ID is required otherwise you D...   \n",
       "11    GeneEmerick68                        @JoeBiden Scared to debate?   \n",
       "12           JGarka  @JoeBiden You would approve, its only way you ...   \n",
       "13  candyisyummy333  @JoeBiden My standard reply to propaganda: htt...   \n",
       "14          5h0rtie  @JoeBiden @richardmarx Trouble is trump voted ...   \n",
       "15  shut_up_stewart  @JoeBiden I honestly cannot comprehend how a c...   \n",
       "16     2think4reals                                     @JoeBiden Why?   \n",
       "17      goVoteTrump  @JoeBiden He also runs his own Twitter. You sh...   \n",
       "18           rollyr  @JoeBiden If you are absent. Hence “absentee” ...   \n",
       "19    GeneEmerick68     @JoeBiden Right, 4more years of Donald J Trump   \n",
       "20    lancehashtags                  @JoeBiden https://t.co/0VTiANt7MY   \n",
       "21  Belleamewithtia  @JoeBiden Why? So you can rig the election lik...   \n",
       "22  magatweetpolice  @JoeBiden Old man you're afraid and incapable ...   \n",
       "23    RabbitEaster1  @JoeBiden BS… He’s the president… That doesn’t...   \n",
       "24         metzgerl  @JoeBiden Are you a liar or ignorant? There is...   \n",
       "25       Zen_Trixie  @JoeBiden Our troops vote by mail. We should b...   \n",
       "26         JDebarre                               @JoeBiden Absolutely   \n",
       "27      pookeypies7  @JoeBiden It wasn't the same ballots and you k...   \n",
       "28     BackinTheBlu  @JoeBiden Absentee voting and blanket ballotin...   \n",
       "29  sadiesm20755403                                  @JoeBiden Correct   \n",
       "\n",
       "    Sentiment Polarity Expression Label  \n",
       "0             0.000000          Neutral  \n",
       "1             0.000000          Neutral  \n",
       "2             0.000000          Neutral  \n",
       "3             0.050000         Positive  \n",
       "4             0.000000          Neutral  \n",
       "5             0.033333         Positive  \n",
       "6             0.000000          Neutral  \n",
       "7             0.000000          Neutral  \n",
       "8             0.000000          Neutral  \n",
       "9             0.000000          Neutral  \n",
       "10            0.000000          Neutral  \n",
       "11            0.000000          Neutral  \n",
       "12            0.000000          Neutral  \n",
       "13           -0.050000         Negative  \n",
       "14           -0.200000         Negative  \n",
       "15            0.200000         Positive  \n",
       "16            0.000000          Neutral  \n",
       "17            0.550000         Positive  \n",
       "18            0.000000          Neutral  \n",
       "19            0.285714         Positive  \n",
       "20            0.000000          Neutral  \n",
       "21            0.000000          Neutral  \n",
       "22           -0.121212         Negative  \n",
       "23           -0.156250         Negative  \n",
       "24            0.000000          Neutral  \n",
       "25            0.500000         Positive  \n",
       "26            0.200000         Positive  \n",
       "27            0.000000          Neutral  \n",
       "28            0.000000          Neutral  \n",
       "29            0.000000          Neutral  "
      ]
     },
     "execution_count": 36,
     "metadata": {},
     "output_type": "execute_result"
    }
   ],
   "source": [
    "biden.head(30)"
   ]
  },
  {
   "cell_type": "markdown",
   "metadata": {},
   "source": [
    "### droping the tweets with neutral polarity"
   ]
  },
  {
   "cell_type": "code",
   "execution_count": 37,
   "metadata": {},
   "outputs": [
    {
     "data": {
      "text/plain": [
       "0       False\n",
       "1        True\n",
       "2       False\n",
       "3       False\n",
       "4        True\n",
       "        ...  \n",
       "2783     True\n",
       "2784     True\n",
       "2785    False\n",
       "2786     True\n",
       "2787    False\n",
       "Name: Sentiment Polarity, Length: 2788, dtype: bool"
      ]
     },
     "execution_count": 37,
     "metadata": {},
     "output_type": "execute_result"
    }
   ],
   "source": [
    "trump[\"Sentiment Polarity\"] == 0"
   ]
  },
  {
   "cell_type": "code",
   "execution_count": 38,
   "metadata": {},
   "outputs": [
    {
     "data": {
      "text/html": [
       "<div>\n",
       "<style scoped>\n",
       "    .dataframe tbody tr th:only-of-type {\n",
       "        vertical-align: middle;\n",
       "    }\n",
       "\n",
       "    .dataframe tbody tr th {\n",
       "        vertical-align: top;\n",
       "    }\n",
       "\n",
       "    .dataframe thead th {\n",
       "        text-align: right;\n",
       "    }\n",
       "</style>\n",
       "<table border=\"1\" class=\"dataframe\">\n",
       "  <thead>\n",
       "    <tr style=\"text-align: right;\">\n",
       "      <th></th>\n",
       "      <th>user</th>\n",
       "      <th>text</th>\n",
       "      <th>Sentiment Polarity</th>\n",
       "      <th>Expression Label</th>\n",
       "    </tr>\n",
       "  </thead>\n",
       "  <tbody>\n",
       "    <tr>\n",
       "      <th>1</th>\n",
       "      <td>osi_abdul</td>\n",
       "      <td>https://t.co/atM98CpqF7  Like, comment, RT #P...</td>\n",
       "      <td>0.0</td>\n",
       "      <td>Neutral</td>\n",
       "    </tr>\n",
       "    <tr>\n",
       "      <th>4</th>\n",
       "      <td>James09254677</td>\n",
       "      <td>After 4 years you think you would have figure...</td>\n",
       "      <td>0.0</td>\n",
       "      <td>Neutral</td>\n",
       "    </tr>\n",
       "    <tr>\n",
       "      <th>5</th>\n",
       "      <td>IndependentsDo</td>\n",
       "      <td>You lie to lie to cover up a lie to cover up...</td>\n",
       "      <td>0.0</td>\n",
       "      <td>Neutral</td>\n",
       "    </tr>\n",
       "    <tr>\n",
       "      <th>7</th>\n",
       "      <td>shayked5777</td>\n",
       "      <td>Don, you are delusion.  Someone needs to invo...</td>\n",
       "      <td>0.0</td>\n",
       "      <td>Neutral</td>\n",
       "    </tr>\n",
       "    <tr>\n",
       "      <th>9</th>\n",
       "      <td>Chris09704800</td>\n",
       "      <td>https://t.co/MsPqMjxUpk</td>\n",
       "      <td>0.0</td>\n",
       "      <td>Neutral</td>\n",
       "    </tr>\n",
       "    <tr>\n",
       "      <th>...</th>\n",
       "      <td>...</td>\n",
       "      <td>...</td>\n",
       "      <td>...</td>\n",
       "      <td>...</td>\n",
       "    </tr>\n",
       "    <tr>\n",
       "      <th>2780</th>\n",
       "      <td>OHsOfOCUSEd10</td>\n",
       "      <td>@realDonaldTrump You do realize that you still...</td>\n",
       "      <td>0.0</td>\n",
       "      <td>Neutral</td>\n",
       "    </tr>\n",
       "    <tr>\n",
       "      <th>2781</th>\n",
       "      <td>tb_in_calgary</td>\n",
       "      <td>@realDonaldTrump 2nd only to yours.</td>\n",
       "      <td>0.0</td>\n",
       "      <td>Neutral</td>\n",
       "    </tr>\n",
       "    <tr>\n",
       "      <th>2783</th>\n",
       "      <td>4diva63</td>\n",
       "      <td>@realDonaldTrump For the 1/100 time, absentee ...</td>\n",
       "      <td>0.0</td>\n",
       "      <td>Neutral</td>\n",
       "    </tr>\n",
       "    <tr>\n",
       "      <th>2784</th>\n",
       "      <td>hidge826</td>\n",
       "      <td>@realDonaldTrump If you’re so scared of losing...</td>\n",
       "      <td>0.0</td>\n",
       "      <td>Neutral</td>\n",
       "    </tr>\n",
       "    <tr>\n",
       "      <th>2786</th>\n",
       "      <td>ScoobyMcpherson</td>\n",
       "      <td>@realDonaldTrump This is the moment when Trump...</td>\n",
       "      <td>0.0</td>\n",
       "      <td>Neutral</td>\n",
       "    </tr>\n",
       "  </tbody>\n",
       "</table>\n",
       "<p>1464 rows × 4 columns</p>\n",
       "</div>"
      ],
      "text/plain": [
       "                 user                                               text  \\\n",
       "1           osi_abdul   https://t.co/atM98CpqF7  Like, comment, RT #P...   \n",
       "4       James09254677   After 4 years you think you would have figure...   \n",
       "5      IndependentsDo    You lie to lie to cover up a lie to cover up...   \n",
       "7         shayked5777   Don, you are delusion.  Someone needs to invo...   \n",
       "9       Chris09704800                            https://t.co/MsPqMjxUpk   \n",
       "...               ...                                                ...   \n",
       "2780    OHsOfOCUSEd10  @realDonaldTrump You do realize that you still...   \n",
       "2781    tb_in_calgary                @realDonaldTrump 2nd only to yours.   \n",
       "2783          4diva63  @realDonaldTrump For the 1/100 time, absentee ...   \n",
       "2784         hidge826  @realDonaldTrump If you’re so scared of losing...   \n",
       "2786  ScoobyMcpherson  @realDonaldTrump This is the moment when Trump...   \n",
       "\n",
       "      Sentiment Polarity Expression Label  \n",
       "1                    0.0          Neutral  \n",
       "4                    0.0          Neutral  \n",
       "5                    0.0          Neutral  \n",
       "7                    0.0          Neutral  \n",
       "9                    0.0          Neutral  \n",
       "...                  ...              ...  \n",
       "2780                 0.0          Neutral  \n",
       "2781                 0.0          Neutral  \n",
       "2783                 0.0          Neutral  \n",
       "2784                 0.0          Neutral  \n",
       "2786                 0.0          Neutral  \n",
       "\n",
       "[1464 rows x 4 columns]"
      ]
     },
     "execution_count": 38,
     "metadata": {},
     "output_type": "execute_result"
    }
   ],
   "source": [
    "trump[trump[\"Sentiment Polarity\"] == 0]"
   ]
  },
  {
   "cell_type": "code",
   "execution_count": 39,
   "metadata": {},
   "outputs": [],
   "source": [
    "neutral_trump = trump[trump[\"Sentiment Polarity\"] == 0]"
   ]
  },
  {
   "cell_type": "code",
   "execution_count": 40,
   "metadata": {},
   "outputs": [
    {
     "data": {
      "text/html": [
       "<div>\n",
       "<style scoped>\n",
       "    .dataframe tbody tr th:only-of-type {\n",
       "        vertical-align: middle;\n",
       "    }\n",
       "\n",
       "    .dataframe tbody tr th {\n",
       "        vertical-align: top;\n",
       "    }\n",
       "\n",
       "    .dataframe thead th {\n",
       "        text-align: right;\n",
       "    }\n",
       "</style>\n",
       "<table border=\"1\" class=\"dataframe\">\n",
       "  <thead>\n",
       "    <tr style=\"text-align: right;\">\n",
       "      <th></th>\n",
       "      <th>user</th>\n",
       "      <th>text</th>\n",
       "      <th>Sentiment Polarity</th>\n",
       "      <th>Expression Label</th>\n",
       "    </tr>\n",
       "  </thead>\n",
       "  <tbody>\n",
       "    <tr>\n",
       "      <th>1</th>\n",
       "      <td>osi_abdul</td>\n",
       "      <td>https://t.co/atM98CpqF7  Like, comment, RT #P...</td>\n",
       "      <td>0.0</td>\n",
       "      <td>Neutral</td>\n",
       "    </tr>\n",
       "    <tr>\n",
       "      <th>4</th>\n",
       "      <td>James09254677</td>\n",
       "      <td>After 4 years you think you would have figure...</td>\n",
       "      <td>0.0</td>\n",
       "      <td>Neutral</td>\n",
       "    </tr>\n",
       "    <tr>\n",
       "      <th>5</th>\n",
       "      <td>IndependentsDo</td>\n",
       "      <td>You lie to lie to cover up a lie to cover up...</td>\n",
       "      <td>0.0</td>\n",
       "      <td>Neutral</td>\n",
       "    </tr>\n",
       "    <tr>\n",
       "      <th>7</th>\n",
       "      <td>shayked5777</td>\n",
       "      <td>Don, you are delusion.  Someone needs to invo...</td>\n",
       "      <td>0.0</td>\n",
       "      <td>Neutral</td>\n",
       "    </tr>\n",
       "    <tr>\n",
       "      <th>9</th>\n",
       "      <td>Chris09704800</td>\n",
       "      <td>https://t.co/MsPqMjxUpk</td>\n",
       "      <td>0.0</td>\n",
       "      <td>Neutral</td>\n",
       "    </tr>\n",
       "    <tr>\n",
       "      <th>...</th>\n",
       "      <td>...</td>\n",
       "      <td>...</td>\n",
       "      <td>...</td>\n",
       "      <td>...</td>\n",
       "    </tr>\n",
       "    <tr>\n",
       "      <th>2780</th>\n",
       "      <td>OHsOfOCUSEd10</td>\n",
       "      <td>@realDonaldTrump You do realize that you still...</td>\n",
       "      <td>0.0</td>\n",
       "      <td>Neutral</td>\n",
       "    </tr>\n",
       "    <tr>\n",
       "      <th>2781</th>\n",
       "      <td>tb_in_calgary</td>\n",
       "      <td>@realDonaldTrump 2nd only to yours.</td>\n",
       "      <td>0.0</td>\n",
       "      <td>Neutral</td>\n",
       "    </tr>\n",
       "    <tr>\n",
       "      <th>2783</th>\n",
       "      <td>4diva63</td>\n",
       "      <td>@realDonaldTrump For the 1/100 time, absentee ...</td>\n",
       "      <td>0.0</td>\n",
       "      <td>Neutral</td>\n",
       "    </tr>\n",
       "    <tr>\n",
       "      <th>2784</th>\n",
       "      <td>hidge826</td>\n",
       "      <td>@realDonaldTrump If you’re so scared of losing...</td>\n",
       "      <td>0.0</td>\n",
       "      <td>Neutral</td>\n",
       "    </tr>\n",
       "    <tr>\n",
       "      <th>2786</th>\n",
       "      <td>ScoobyMcpherson</td>\n",
       "      <td>@realDonaldTrump This is the moment when Trump...</td>\n",
       "      <td>0.0</td>\n",
       "      <td>Neutral</td>\n",
       "    </tr>\n",
       "  </tbody>\n",
       "</table>\n",
       "<p>1464 rows × 4 columns</p>\n",
       "</div>"
      ],
      "text/plain": [
       "                 user                                               text  \\\n",
       "1           osi_abdul   https://t.co/atM98CpqF7  Like, comment, RT #P...   \n",
       "4       James09254677   After 4 years you think you would have figure...   \n",
       "5      IndependentsDo    You lie to lie to cover up a lie to cover up...   \n",
       "7         shayked5777   Don, you are delusion.  Someone needs to invo...   \n",
       "9       Chris09704800                            https://t.co/MsPqMjxUpk   \n",
       "...               ...                                                ...   \n",
       "2780    OHsOfOCUSEd10  @realDonaldTrump You do realize that you still...   \n",
       "2781    tb_in_calgary                @realDonaldTrump 2nd only to yours.   \n",
       "2783          4diva63  @realDonaldTrump For the 1/100 time, absentee ...   \n",
       "2784         hidge826  @realDonaldTrump If you’re so scared of losing...   \n",
       "2786  ScoobyMcpherson  @realDonaldTrump This is the moment when Trump...   \n",
       "\n",
       "      Sentiment Polarity Expression Label  \n",
       "1                    0.0          Neutral  \n",
       "4                    0.0          Neutral  \n",
       "5                    0.0          Neutral  \n",
       "7                    0.0          Neutral  \n",
       "9                    0.0          Neutral  \n",
       "...                  ...              ...  \n",
       "2780                 0.0          Neutral  \n",
       "2781                 0.0          Neutral  \n",
       "2783                 0.0          Neutral  \n",
       "2784                 0.0          Neutral  \n",
       "2786                 0.0          Neutral  \n",
       "\n",
       "[1464 rows x 4 columns]"
      ]
     },
     "execution_count": 40,
     "metadata": {},
     "output_type": "execute_result"
    }
   ],
   "source": [
    "neutral_trump"
   ]
  },
  {
   "cell_type": "code",
   "execution_count": 41,
   "metadata": {},
   "outputs": [
    {
     "name": "stdout",
     "output_type": "stream",
     "text": [
      "(1464, 4)\n"
     ]
    }
   ],
   "source": [
    "print(neutral_trump.shape)"
   ]
  },
  {
   "cell_type": "code",
   "execution_count": 51,
   "metadata": {},
   "outputs": [
    {
     "data": {
      "text/html": [
       "<div>\n",
       "<style scoped>\n",
       "    .dataframe tbody tr th:only-of-type {\n",
       "        vertical-align: middle;\n",
       "    }\n",
       "\n",
       "    .dataframe tbody tr th {\n",
       "        vertical-align: top;\n",
       "    }\n",
       "\n",
       "    .dataframe thead th {\n",
       "        text-align: right;\n",
       "    }\n",
       "</style>\n",
       "<table border=\"1\" class=\"dataframe\">\n",
       "  <thead>\n",
       "    <tr style=\"text-align: right;\">\n",
       "      <th></th>\n",
       "      <th>user</th>\n",
       "      <th>text</th>\n",
       "      <th>Sentiment Polarity</th>\n",
       "      <th>Expression Label</th>\n",
       "    </tr>\n",
       "  </thead>\n",
       "  <tbody>\n",
       "    <tr>\n",
       "      <th>1</th>\n",
       "      <td>osi_abdul</td>\n",
       "      <td>https://t.co/atM98CpqF7  Like, comment, RT #P...</td>\n",
       "      <td>0.0</td>\n",
       "      <td>Neutral</td>\n",
       "    </tr>\n",
       "    <tr>\n",
       "      <th>4</th>\n",
       "      <td>James09254677</td>\n",
       "      <td>After 4 years you think you would have figure...</td>\n",
       "      <td>0.0</td>\n",
       "      <td>Neutral</td>\n",
       "    </tr>\n",
       "    <tr>\n",
       "      <th>5</th>\n",
       "      <td>IndependentsDo</td>\n",
       "      <td>You lie to lie to cover up a lie to cover up...</td>\n",
       "      <td>0.0</td>\n",
       "      <td>Neutral</td>\n",
       "    </tr>\n",
       "    <tr>\n",
       "      <th>7</th>\n",
       "      <td>shayked5777</td>\n",
       "      <td>Don, you are delusion.  Someone needs to invo...</td>\n",
       "      <td>0.0</td>\n",
       "      <td>Neutral</td>\n",
       "    </tr>\n",
       "    <tr>\n",
       "      <th>9</th>\n",
       "      <td>Chris09704800</td>\n",
       "      <td>https://t.co/MsPqMjxUpk</td>\n",
       "      <td>0.0</td>\n",
       "      <td>Neutral</td>\n",
       "    </tr>\n",
       "  </tbody>\n",
       "</table>\n",
       "</div>"
      ],
      "text/plain": [
       "             user                                               text  \\\n",
       "1       osi_abdul   https://t.co/atM98CpqF7  Like, comment, RT #P...   \n",
       "4   James09254677   After 4 years you think you would have figure...   \n",
       "5  IndependentsDo    You lie to lie to cover up a lie to cover up...   \n",
       "7     shayked5777   Don, you are delusion.  Someone needs to invo...   \n",
       "9   Chris09704800                            https://t.co/MsPqMjxUpk   \n",
       "\n",
       "   Sentiment Polarity Expression Label  \n",
       "1                 0.0          Neutral  \n",
       "4                 0.0          Neutral  \n",
       "5                 0.0          Neutral  \n",
       "7                 0.0          Neutral  \n",
       "9                 0.0          Neutral  "
      ]
     },
     "execution_count": 51,
     "metadata": {},
     "output_type": "execute_result"
    }
   ],
   "source": [
    "neutral_trump.head()"
   ]
  },
  {
   "cell_type": "code",
   "execution_count": 52,
   "metadata": {},
   "outputs": [
    {
     "data": {
      "text/plain": [
       "0       False\n",
       "1        True\n",
       "2       False\n",
       "3       False\n",
       "4        True\n",
       "        ...  \n",
       "2783     True\n",
       "2784     True\n",
       "2785    False\n",
       "2786     True\n",
       "2787    False\n",
       "Name: Sentiment Polarity, Length: 2788, dtype: bool"
      ]
     },
     "execution_count": 52,
     "metadata": {},
     "output_type": "execute_result"
    }
   ],
   "source": [
    "trump[\"Sentiment Polarity\"].isin(neutral_trump[\"Sentiment Polarity\"])"
   ]
  },
  {
   "cell_type": "code",
   "execution_count": 60,
   "metadata": {},
   "outputs": [],
   "source": [
    "cond1 = trump[\"Sentiment Polarity\"].isin(neutral_trump[\"Sentiment Polarity\"])"
   ]
  },
  {
   "cell_type": "code",
   "execution_count": 61,
   "metadata": {},
   "outputs": [
    {
     "data": {
      "text/plain": [
       "0       False\n",
       "1        True\n",
       "2       False\n",
       "3       False\n",
       "4        True\n",
       "        ...  \n",
       "2783     True\n",
       "2784     True\n",
       "2785    False\n",
       "2786     True\n",
       "2787    False\n",
       "Name: Sentiment Polarity, Length: 2788, dtype: bool"
      ]
     },
     "execution_count": 61,
     "metadata": {},
     "output_type": "execute_result"
    }
   ],
   "source": [
    "cond1"
   ]
  },
  {
   "cell_type": "code",
   "execution_count": 63,
   "metadata": {},
   "outputs": [
    {
     "data": {
      "text/plain": [
       "Index([   1,    4,    5,    7,    9,   11,   12,   14,   15,   16,\n",
       "       ...\n",
       "       2775, 2776, 2777, 2778, 2779, 2780, 2781, 2783, 2784, 2786],\n",
       "      dtype='int64', length=1464)"
      ]
     },
     "execution_count": 63,
     "metadata": {},
     "output_type": "execute_result"
    }
   ],
   "source": [
    "trump[cond1].index"
   ]
  },
  {
   "cell_type": "code",
   "execution_count": 64,
   "metadata": {},
   "outputs": [],
   "source": [
    "trump.drop(trump[cond1].index, inplace = True)"
   ]
  },
  {
   "cell_type": "code",
   "execution_count": 65,
   "metadata": {},
   "outputs": [
    {
     "data": {
      "text/plain": [
       "(1324, 4)"
      ]
     },
     "execution_count": 65,
     "metadata": {},
     "output_type": "execute_result"
    }
   ],
   "source": [
    "trump.shape"
   ]
  },
  {
   "cell_type": "code",
   "execution_count": 66,
   "metadata": {},
   "outputs": [
    {
     "data": {
      "text/html": [
       "<div>\n",
       "<style scoped>\n",
       "    .dataframe tbody tr th:only-of-type {\n",
       "        vertical-align: middle;\n",
       "    }\n",
       "\n",
       "    .dataframe tbody tr th {\n",
       "        vertical-align: top;\n",
       "    }\n",
       "\n",
       "    .dataframe thead th {\n",
       "        text-align: right;\n",
       "    }\n",
       "</style>\n",
       "<table border=\"1\" class=\"dataframe\">\n",
       "  <thead>\n",
       "    <tr style=\"text-align: right;\">\n",
       "      <th></th>\n",
       "      <th>user</th>\n",
       "      <th>text</th>\n",
       "      <th>Sentiment Polarity</th>\n",
       "      <th>Expression Label</th>\n",
       "    </tr>\n",
       "  </thead>\n",
       "  <tbody>\n",
       "    <tr>\n",
       "      <th>0</th>\n",
       "      <td>manny_rosen</td>\n",
       "      <td>@sanofi please tell us how many shares the Cr...</td>\n",
       "      <td>0.050000</td>\n",
       "      <td>Positive</td>\n",
       "    </tr>\n",
       "    <tr>\n",
       "      <th>2</th>\n",
       "      <td>Patsyrw</td>\n",
       "      <td>Your AG Barr is as useless &amp;amp; corrupt as y...</td>\n",
       "      <td>-0.500000</td>\n",
       "      <td>Negative</td>\n",
       "    </tr>\n",
       "    <tr>\n",
       "      <th>3</th>\n",
       "      <td>seyedebrahimi_m</td>\n",
       "      <td>Mr. Trump! Wake Up!  Most of the comments bel...</td>\n",
       "      <td>0.500000</td>\n",
       "      <td>Positive</td>\n",
       "    </tr>\n",
       "    <tr>\n",
       "      <th>6</th>\n",
       "      <td>curtiswhitworth</td>\n",
       "      <td>Really? My prices have gone up. That’s a fact.</td>\n",
       "      <td>0.200000</td>\n",
       "      <td>Positive</td>\n",
       "    </tr>\n",
       "    <tr>\n",
       "      <th>8</th>\n",
       "      <td>CantStandya2018</td>\n",
       "      <td>How much on stocks have you made pushing mira...</td>\n",
       "      <td>0.350000</td>\n",
       "      <td>Positive</td>\n",
       "    </tr>\n",
       "    <tr>\n",
       "      <th>10</th>\n",
       "      <td>npzh</td>\n",
       "      <td>No president would be able to destroy as you ...</td>\n",
       "      <td>0.150000</td>\n",
       "      <td>Positive</td>\n",
       "    </tr>\n",
       "    <tr>\n",
       "      <th>13</th>\n",
       "      <td>seriouslyfit</td>\n",
       "      <td>A script I turned down was over $100.00</td>\n",
       "      <td>-0.155556</td>\n",
       "      <td>Negative</td>\n",
       "    </tr>\n",
       "    <tr>\n",
       "      <th>17</th>\n",
       "      <td>MadeBees</td>\n",
       "      <td>Except this isnt true. You allowed Americans ...</td>\n",
       "      <td>0.350000</td>\n",
       "      <td>Positive</td>\n",
       "    </tr>\n",
       "    <tr>\n",
       "      <th>18</th>\n",
       "      <td>EliseViksaas</td>\n",
       "      <td>The ratio here is truly epic.  And so deserved.</td>\n",
       "      <td>0.100000</td>\n",
       "      <td>Positive</td>\n",
       "    </tr>\n",
       "    <tr>\n",
       "      <th>19</th>\n",
       "      <td>MaryMeliz99</td>\n",
       "      <td>???????Every one is wrong but you .. cry baby</td>\n",
       "      <td>-0.500000</td>\n",
       "      <td>Negative</td>\n",
       "    </tr>\n",
       "  </tbody>\n",
       "</table>\n",
       "</div>"
      ],
      "text/plain": [
       "               user                                               text  \\\n",
       "0       manny_rosen   @sanofi please tell us how many shares the Cr...   \n",
       "2           Patsyrw   Your AG Barr is as useless &amp; corrupt as y...   \n",
       "3   seyedebrahimi_m   Mr. Trump! Wake Up!  Most of the comments bel...   \n",
       "6   curtiswhitworth     Really? My prices have gone up. That’s a fact.   \n",
       "8   CantStandya2018   How much on stocks have you made pushing mira...   \n",
       "10             npzh   No president would be able to destroy as you ...   \n",
       "13     seriouslyfit            A script I turned down was over $100.00   \n",
       "17         MadeBees   Except this isnt true. You allowed Americans ...   \n",
       "18     EliseViksaas    The ratio here is truly epic.  And so deserved.   \n",
       "19      MaryMeliz99      ???????Every one is wrong but you .. cry baby   \n",
       "\n",
       "    Sentiment Polarity Expression Label  \n",
       "0             0.050000         Positive  \n",
       "2            -0.500000         Negative  \n",
       "3             0.500000         Positive  \n",
       "6             0.200000         Positive  \n",
       "8             0.350000         Positive  \n",
       "10            0.150000         Positive  \n",
       "13           -0.155556         Negative  \n",
       "17            0.350000         Positive  \n",
       "18            0.100000         Positive  \n",
       "19           -0.500000         Negative  "
      ]
     },
     "execution_count": 66,
     "metadata": {},
     "output_type": "execute_result"
    }
   ],
   "source": [
    "trump.head(10)"
   ]
  },
  {
   "cell_type": "code",
   "execution_count": 67,
   "metadata": {},
   "outputs": [
    {
     "data": {
      "text/plain": [
       "Index([   0,    1,    2,    4,    6,    7,    8,    9,   10,   11,\n",
       "       ...\n",
       "       2523, 2525, 2526, 2528, 2529, 2530, 2531, 2533, 2536, 2537],\n",
       "      dtype='int64', length=1509)"
      ]
     },
     "execution_count": 67,
     "metadata": {},
     "output_type": "execute_result"
    }
   ],
   "source": [
    "neurtal_biden = biden[biden[\"Sentiment Polarity\"] == 0]\n",
    "biden[\"Sentiment Polarity\"].isin(neurtal_biden[\"Sentiment Polarity\"])\n",
    "\n",
    "cond2 = biden[\"Sentiment Polarity\"].isin(neurtal_biden[\"Sentiment Polarity\"])\n",
    "biden[cond2].index"
   ]
  },
  {
   "cell_type": "code",
   "execution_count": 68,
   "metadata": {},
   "outputs": [
    {
     "data": {
      "text/plain": [
       "(1031, 4)"
      ]
     },
     "execution_count": 68,
     "metadata": {},
     "output_type": "execute_result"
    }
   ],
   "source": [
    "biden.drop(biden[cond2].index, inplace = True)\n",
    "biden.shape"
   ]
  },
  {
   "cell_type": "markdown",
   "metadata": {},
   "source": [
    "### balancing the dataset \n",
    "we remove the review from both the biden and the trump dataset so that they have the same number of the reviews"
   ]
  },
  {
   "cell_type": "code",
   "execution_count": 69,
   "metadata": {},
   "outputs": [],
   "source": [
    "np.random.seed(10)"
   ]
  },
  {
   "cell_type": "code",
   "execution_count": 71,
   "metadata": {},
   "outputs": [
    {
     "data": {
      "text/html": [
       "<div>\n",
       "<style scoped>\n",
       "    .dataframe tbody tr th:only-of-type {\n",
       "        vertical-align: middle;\n",
       "    }\n",
       "\n",
       "    .dataframe tbody tr th {\n",
       "        vertical-align: top;\n",
       "    }\n",
       "\n",
       "    .dataframe thead th {\n",
       "        text-align: right;\n",
       "    }\n",
       "</style>\n",
       "<table border=\"1\" class=\"dataframe\">\n",
       "  <thead>\n",
       "    <tr style=\"text-align: right;\">\n",
       "      <th></th>\n",
       "      <th>user</th>\n",
       "      <th>text</th>\n",
       "      <th>Sentiment Polarity</th>\n",
       "      <th>Expression Label</th>\n",
       "    </tr>\n",
       "  </thead>\n",
       "  <tbody>\n",
       "    <tr>\n",
       "      <th>0</th>\n",
       "      <td>manny_rosen</td>\n",
       "      <td>@sanofi please tell us how many shares the Cr...</td>\n",
       "      <td>0.05</td>\n",
       "      <td>Positive</td>\n",
       "    </tr>\n",
       "    <tr>\n",
       "      <th>2</th>\n",
       "      <td>Patsyrw</td>\n",
       "      <td>Your AG Barr is as useless &amp;amp; corrupt as y...</td>\n",
       "      <td>-0.50</td>\n",
       "      <td>Negative</td>\n",
       "    </tr>\n",
       "    <tr>\n",
       "      <th>3</th>\n",
       "      <td>seyedebrahimi_m</td>\n",
       "      <td>Mr. Trump! Wake Up!  Most of the comments bel...</td>\n",
       "      <td>0.50</td>\n",
       "      <td>Positive</td>\n",
       "    </tr>\n",
       "    <tr>\n",
       "      <th>6</th>\n",
       "      <td>curtiswhitworth</td>\n",
       "      <td>Really? My prices have gone up. That’s a fact.</td>\n",
       "      <td>0.20</td>\n",
       "      <td>Positive</td>\n",
       "    </tr>\n",
       "    <tr>\n",
       "      <th>8</th>\n",
       "      <td>CantStandya2018</td>\n",
       "      <td>How much on stocks have you made pushing mira...</td>\n",
       "      <td>0.35</td>\n",
       "      <td>Positive</td>\n",
       "    </tr>\n",
       "  </tbody>\n",
       "</table>\n",
       "</div>"
      ],
      "text/plain": [
       "              user                                               text  \\\n",
       "0      manny_rosen   @sanofi please tell us how many shares the Cr...   \n",
       "2          Patsyrw   Your AG Barr is as useless &amp; corrupt as y...   \n",
       "3  seyedebrahimi_m   Mr. Trump! Wake Up!  Most of the comments bel...   \n",
       "6  curtiswhitworth     Really? My prices have gone up. That’s a fact.   \n",
       "8  CantStandya2018   How much on stocks have you made pushing mira...   \n",
       "\n",
       "   Sentiment Polarity Expression Label  \n",
       "0                0.05         Positive  \n",
       "2               -0.50         Negative  \n",
       "3                0.50         Positive  \n",
       "6                0.20         Positive  \n",
       "8                0.35         Positive  "
      ]
     },
     "execution_count": 71,
     "metadata": {},
     "output_type": "execute_result"
    }
   ],
   "source": [
    "trump.head()"
   ]
  },
  {
   "cell_type": "code",
   "execution_count": null,
   "metadata": {},
   "outputs": [
    {
     "data": {
      "text/plain": [
       "Index([   0,    2,    3,    6,    8,   10,   13,   17,   18,   19,\n",
       "       ...\n",
       "       2758, 2761, 2762, 2767, 2768, 2771, 2773, 2782, 2785, 2787],\n",
       "      dtype='int64', length=1324)"
      ]
     },
     "execution_count": 70,
     "metadata": {},
     "output_type": "execute_result"
    }
   ],
   "source": [
    "trump.index #returns the index of the dataframe"
   ]
  },
  {
   "cell_type": "code",
   "execution_count": 72,
   "metadata": {},
   "outputs": [],
   "source": [
    "remove_n = 324\n",
    "drop_indices = np.random.choice(trump.index, remove_n, replace=False)\n"
   ]
  },
  {
   "cell_type": "code",
   "execution_count": 73,
   "metadata": {},
   "outputs": [
    {
     "data": {
      "text/plain": [
       "array([2300, 2464, 2183, 1895,  407, 1885, 1530,  884,  532, 2729, 1036,\n",
       "       2337, 2431,  115, 1598, 1657, 2281,  180, 1651, 2247, 2664, 2264,\n",
       "       1789,  615, 1252, 1632, 2395, 1111, 1435,  877,  907,  453,  473,\n",
       "       2476, 1773, 2707, 2081,  387,  912, 2335,  244,  827, 1922, 1010,\n",
       "       1466,  868,  961,  237, 2702,  533,   17,  840, 1608, 1875, 1266,\n",
       "        279,  860,   69, 1037, 1364, 1907,  242,  818, 1047, 2239, 2317,\n",
       "        155,  665, 2162, 1191,  757,  981,  809,  635,  508, 2344,  141,\n",
       "         99, 1641,  834,  933,  580, 1054,  353,  368,  540,  241, 1713,\n",
       "         81, 1288,  678,  591,  427, 2506, 2547, 1803,  451, 1462, 1193,\n",
       "        218, 1082,  474,  275, 1347,   58,   21,  628, 1461, 1973,  202,\n",
       "        950,  588,  672, 1729, 2172, 1721, 1155, 1455,  440, 1654, 2396,\n",
       "       2710, 2531, 2216, 2617, 2170,  576, 2135, 1023, 2514, 2182, 1505,\n",
       "        745, 2450, 2408, 1443,  736, 2342, 1924, 2399, 2703, 1959,  752,\n",
       "        414, 1676, 1766,  731, 2154,   75,  732, 1017, 1636, 1644, 2684,\n",
       "        942,  866,  273, 2453, 2669, 1407,  987,  813, 1284, 1705,  528,\n",
       "        712, 1398, 2071, 2645,  927, 2325,  416, 2646, 2028, 1166, 2663,\n",
       "        693,  134,  814,  708,  516, 1326,  238, 1440, 1999, 2201, 1763,\n",
       "        143, 1672,   56,  268,  330, 2532, 2577,  364, 1667, 1333,  142,\n",
       "       1997, 2588,  728,  390, 2309, 2093, 2556, 1831, 2284,   54, 2739,\n",
       "        815, 1976,  245, 1110, 2128, 1873,  340,  251, 1877,  772,  433,\n",
       "       1788,  717, 1560, 1241, 2507, 2229, 2539, 1920,  943,  806, 1708,\n",
       "       2146,  369,  750,  122, 2099,  998,  587, 1786,  226, 1491,   33,\n",
       "        817,  204, 2767,  577,  630, 2716,  649, 1872, 1486, 1974, 1025,\n",
       "        826, 1115, 1091, 1811, 1214, 1612,  639,  651, 1126,   45, 1668,\n",
       "       1160,  444,  780, 1460,  293, 2733,  334, 1239,  969,  441,  178,\n",
       "       2001, 2358,  721,  682, 1478, 2606,  169, 1569, 1685,  305, 1463,\n",
       "       2691, 1312, 2190,  727, 2041, 1897, 2449,  343, 1522,   72, 1535,\n",
       "       2336, 2683,   51,  887,  864, 2027, 1851, 1582,  709, 1614,  405,\n",
       "       1233, 1561, 1210, 2126, 1631,  945, 2356,  825, 1792, 2465,  375,\n",
       "        109, 1394, 2567, 1492, 1344])"
      ]
     },
     "execution_count": 73,
     "metadata": {},
     "output_type": "execute_result"
    }
   ],
   "source": [
    "drop_indices"
   ]
  },
  {
   "cell_type": "code",
   "execution_count": 75,
   "metadata": {},
   "outputs": [],
   "source": [
    "#droping the subsets\n",
    "df_subset_trump = trump.drop(drop_indices)"
   ]
  },
  {
   "cell_type": "code",
   "execution_count": 78,
   "metadata": {},
   "outputs": [
    {
     "name": "stdout",
     "output_type": "stream",
     "text": [
      "Datagrame before balancing the dataset (1324, 4)\n",
      "Dataframe after balancing the dataset (1000, 4)\n"
     ]
    }
   ],
   "source": [
    "print(f\"Datagrame before balancing the dataset {trump.shape}\")  \n",
    "print(f\"Dataframe after balancing the dataset {df_subset_trump.shape}\")"
   ]
  },
  {
   "cell_type": "code",
   "execution_count": 79,
   "metadata": {},
   "outputs": [
    {
     "name": "stdout",
     "output_type": "stream",
     "text": [
      "dataframe before balancing the dataset : (1031, 4)\n",
      "dataframe after balancing the dataste : (1000, 4)\n"
     ]
    }
   ],
   "source": [
    "## doing the same for biden \n",
    "remove_n = 31\n",
    "drop_index = np.random.choice(biden.index, remove_n, replace=False)\n",
    "df_subset_biden = biden.drop(drop_index)\n",
    "print(f\"dataframe before balancing the dataset : {biden.shape}\")\n",
    "print(f\"dataframe after balancing the dataste : {df_subset_biden.shape}\")"
   ]
  },
  {
   "cell_type": "markdown",
   "metadata": {},
   "source": [
    "## model building and analysis"
   ]
  },
  {
   "cell_type": "code",
   "execution_count": 84,
   "metadata": {},
   "outputs": [
    {
     "data": {
      "text/html": [
       "<div>\n",
       "<style scoped>\n",
       "    .dataframe tbody tr th:only-of-type {\n",
       "        vertical-align: middle;\n",
       "    }\n",
       "\n",
       "    .dataframe tbody tr th {\n",
       "        vertical-align: top;\n",
       "    }\n",
       "\n",
       "    .dataframe thead th {\n",
       "        text-align: right;\n",
       "    }\n",
       "</style>\n",
       "<table border=\"1\" class=\"dataframe\">\n",
       "  <thead>\n",
       "    <tr style=\"text-align: right;\">\n",
       "      <th></th>\n",
       "      <th>user</th>\n",
       "      <th>text</th>\n",
       "      <th>Sentiment Polarity</th>\n",
       "    </tr>\n",
       "    <tr>\n",
       "      <th>Expression Label</th>\n",
       "      <th></th>\n",
       "      <th></th>\n",
       "      <th></th>\n",
       "    </tr>\n",
       "  </thead>\n",
       "  <tbody>\n",
       "    <tr>\n",
       "      <th>Negative</th>\n",
       "      <td>449</td>\n",
       "      <td>449</td>\n",
       "      <td>449</td>\n",
       "    </tr>\n",
       "    <tr>\n",
       "      <th>Positive</th>\n",
       "      <td>551</td>\n",
       "      <td>551</td>\n",
       "      <td>551</td>\n",
       "    </tr>\n",
       "  </tbody>\n",
       "</table>\n",
       "</div>"
      ],
      "text/plain": [
       "                  user  text  Sentiment Polarity\n",
       "Expression Label                                \n",
       "Negative           449   449                 449\n",
       "Positive           551   551                 551"
      ]
     },
     "execution_count": 84,
     "metadata": {},
     "output_type": "execute_result"
    }
   ],
   "source": [
    "df_subset_trump.groupby(\"Expression Label\").count()"
   ]
  },
  {
   "cell_type": "code",
   "execution_count": 85,
   "metadata": {},
   "outputs": [],
   "source": [
    "count1 = df_subset_trump.groupby(\"Expression Label\").count()"
   ]
  },
  {
   "cell_type": "code",
   "execution_count": 86,
   "metadata": {},
   "outputs": [
    {
     "data": {
      "text/html": [
       "<div>\n",
       "<style scoped>\n",
       "    .dataframe tbody tr th:only-of-type {\n",
       "        vertical-align: middle;\n",
       "    }\n",
       "\n",
       "    .dataframe tbody tr th {\n",
       "        vertical-align: top;\n",
       "    }\n",
       "\n",
       "    .dataframe thead th {\n",
       "        text-align: right;\n",
       "    }\n",
       "</style>\n",
       "<table border=\"1\" class=\"dataframe\">\n",
       "  <thead>\n",
       "    <tr style=\"text-align: right;\">\n",
       "      <th></th>\n",
       "      <th>user</th>\n",
       "      <th>text</th>\n",
       "      <th>Sentiment Polarity</th>\n",
       "    </tr>\n",
       "    <tr>\n",
       "      <th>Expression Label</th>\n",
       "      <th></th>\n",
       "      <th></th>\n",
       "      <th></th>\n",
       "    </tr>\n",
       "  </thead>\n",
       "  <tbody>\n",
       "    <tr>\n",
       "      <th>Negative</th>\n",
       "      <td>396</td>\n",
       "      <td>396</td>\n",
       "      <td>396</td>\n",
       "    </tr>\n",
       "    <tr>\n",
       "      <th>Positive</th>\n",
       "      <td>604</td>\n",
       "      <td>604</td>\n",
       "      <td>604</td>\n",
       "    </tr>\n",
       "  </tbody>\n",
       "</table>\n",
       "</div>"
      ],
      "text/plain": [
       "                  user  text  Sentiment Polarity\n",
       "Expression Label                                \n",
       "Negative           396   396                 396\n",
       "Positive           604   604                 604"
      ]
     },
     "execution_count": 86,
     "metadata": {},
     "output_type": "execute_result"
    }
   ],
   "source": [
    "df_subset_biden.groupby(\"Expression Label\").count() "
   ]
  },
  {
   "cell_type": "code",
   "execution_count": 87,
   "metadata": {},
   "outputs": [],
   "source": [
    "count2 = df_subset_biden.groupby(\"Expression Label\").count()"
   ]
  },
  {
   "cell_type": "code",
   "execution_count": 99,
   "metadata": {},
   "outputs": [
    {
     "data": {
      "text/plain": [
       "Expression Label\n",
       "Negative    449\n",
       "Positive    551\n",
       "Name: Sentiment Polarity, dtype: int64"
      ]
     },
     "execution_count": 99,
     "metadata": {},
     "output_type": "execute_result"
    }
   ],
   "source": [
    "count1[\"Sentiment Polarity\"]"
   ]
  },
  {
   "cell_type": "code",
   "execution_count": 100,
   "metadata": {},
   "outputs": [
    {
     "name": "stderr",
     "output_type": "stream",
     "text": [
      "/var/folders/xb/sshzwv1128l88chp71np05t40000gn/T/ipykernel_92619/4092016308.py:1: FutureWarning:\n",
      "\n",
      "Series.__getitem__ treating keys as positions is deprecated. In a future version, integer keys will always be treated as labels (consistent with DataFrame behavior). To access a value by position, use `ser.iloc[pos]`\n",
      "\n",
      "/var/folders/xb/sshzwv1128l88chp71np05t40000gn/T/ipykernel_92619/4092016308.py:2: FutureWarning:\n",
      "\n",
      "Series.__getitem__ treating keys as positions is deprecated. In a future version, integer keys will always be treated as labels (consistent with DataFrame behavior). To access a value by position, use `ser.iloc[pos]`\n",
      "\n"
     ]
    }
   ],
   "source": [
    "negative_1 = count1[\"Sentiment Polarity\"][0]\n",
    "positive_1 = count1[\"Sentiment Polarity\"][1]"
   ]
  },
  {
   "cell_type": "code",
   "execution_count": 102,
   "metadata": {},
   "outputs": [
    {
     "data": {
      "text/plain": [
       "Expression Label\n",
       "Negative    396\n",
       "Positive    604\n",
       "Name: Sentiment Polarity, dtype: int64"
      ]
     },
     "execution_count": 102,
     "metadata": {},
     "output_type": "execute_result"
    }
   ],
   "source": [
    "count2[\"Sentiment Polarity\"]"
   ]
  },
  {
   "cell_type": "code",
   "execution_count": 103,
   "metadata": {},
   "outputs": [
    {
     "name": "stderr",
     "output_type": "stream",
     "text": [
      "/var/folders/xb/sshzwv1128l88chp71np05t40000gn/T/ipykernel_92619/2493463990.py:1: FutureWarning:\n",
      "\n",
      "Series.__getitem__ treating keys as positions is deprecated. In a future version, integer keys will always be treated as labels (consistent with DataFrame behavior). To access a value by position, use `ser.iloc[pos]`\n",
      "\n",
      "/var/folders/xb/sshzwv1128l88chp71np05t40000gn/T/ipykernel_92619/2493463990.py:2: FutureWarning:\n",
      "\n",
      "Series.__getitem__ treating keys as positions is deprecated. In a future version, integer keys will always be treated as labels (consistent with DataFrame behavior). To access a value by position, use `ser.iloc[pos]`\n",
      "\n"
     ]
    }
   ],
   "source": [
    "negative_2 = count2[\"Sentiment Polarity\"][0]\n",
    "positive_2 = count2[\"Sentiment Polarity\"][1]"
   ]
  },
  {
   "cell_type": "code",
   "execution_count": 104,
   "metadata": {},
   "outputs": [
    {
     "data": {
      "text/plain": [
       "396"
      ]
     },
     "execution_count": 104,
     "metadata": {},
     "output_type": "execute_result"
    }
   ],
   "source": [
    "negative_2"
   ]
  },
  {
   "cell_type": "code",
   "execution_count": 105,
   "metadata": {},
   "outputs": [],
   "source": [
    "percentage_positive_1 = (positive_1 / (positive_1 + negative_1)) * 100\n",
    "percentage_negative_1 = (negative_1 / (positive_1 + negative_1)) * 100"
   ]
  },
  {
   "cell_type": "code",
   "execution_count": 106,
   "metadata": {},
   "outputs": [],
   "source": [
    "percentage_positive_2 = (positive_2 / (positive_2 + negative_2)) * 100\n",
    "percentage_negative_2 = (negative_2 / (positive_2 + negative_2)) * 100"
   ]
  },
  {
   "cell_type": "code",
   "execution_count": 110,
   "metadata": {},
   "outputs": [
    {
     "name": "stdout",
     "output_type": "stream",
     "text": [
      "Percentage of positive reveiew in the first dataset is :\t 55.1\n",
      "Percentage of negative review in the first dataset is : \t44.9\n",
      "Percentage of positive reveiew in the second dataset is :\t 60.4\n",
      "Percentage of negative review in the second dataset is :\t 39.6\n"
     ]
    }
   ],
   "source": [
    "print(f\"Percentage of positive reveiew in the first dataset is :\\t {percentage_positive_1}\")\n",
    "print(f\"Percentage of negative review in the first dataset is : \\t{percentage_negative_1}\")\n",
    "\n",
    "print(f\"Percentage of positive reveiew in the second dataset is :\\t {percentage_positive_2}\")\n",
    "print(f\"Percentage of negative review in the second dataset is :\\t {percentage_negative_2}\")"
   ]
  },
  {
   "cell_type": "code",
   "execution_count": 112,
   "metadata": {},
   "outputs": [],
   "source": [
    "politician = [\"trump\", \"biden\"]"
   ]
  },
  {
   "cell_type": "code",
   "execution_count": 111,
   "metadata": {},
   "outputs": [],
   "source": [
    "positve = [percentage_positive_1, percentage_positive_2]\n",
    "negative = [percentage_negative_1, percentage_negative_2]"
   ]
  },
  {
   "cell_type": "code",
   "execution_count": 119,
   "metadata": {},
   "outputs": [],
   "source": [
    "fig = go.Figure(\n",
    "    data = [\n",
    "        go.Bar(name = \"Positive\", x=politician, y=positve),\n",
    "        go.Bar(name = \"Negative\", x=politician, y=negative)\n",
    "    ]\n",
    ")"
   ]
  },
  {
   "cell_type": "code",
   "execution_count": 120,
   "metadata": {},
   "outputs": [
    {
     "ename": "ValueError",
     "evalue": "Mime type rendering requires nbformat>=4.2.0 but it is not installed",
     "output_type": "error",
     "traceback": [
      "\u001b[0;31m---------------------------------------------------------------------------\u001b[0m",
      "\u001b[0;31mValueError\u001b[0m                                Traceback (most recent call last)",
      "File \u001b[0;32m/opt/miniconda3/envs/NLP/lib/python3.11/site-packages/IPython/core/formatters.py:984\u001b[0m, in \u001b[0;36mIPythonDisplayFormatter.__call__\u001b[0;34m(self, obj)\u001b[0m\n\u001b[1;32m    982\u001b[0m method \u001b[38;5;241m=\u001b[39m get_real_method(obj, \u001b[38;5;28mself\u001b[39m\u001b[38;5;241m.\u001b[39mprint_method)\n\u001b[1;32m    983\u001b[0m \u001b[38;5;28;01mif\u001b[39;00m method \u001b[38;5;129;01mis\u001b[39;00m \u001b[38;5;129;01mnot\u001b[39;00m \u001b[38;5;28;01mNone\u001b[39;00m:\n\u001b[0;32m--> 984\u001b[0m     \u001b[43mmethod\u001b[49m\u001b[43m(\u001b[49m\u001b[43m)\u001b[49m\n\u001b[1;32m    985\u001b[0m     \u001b[38;5;28;01mreturn\u001b[39;00m \u001b[38;5;28;01mTrue\u001b[39;00m\n",
      "File \u001b[0;32m/opt/miniconda3/envs/NLP/lib/python3.11/site-packages/plotly/basedatatypes.py:833\u001b[0m, in \u001b[0;36mBaseFigure._ipython_display_\u001b[0;34m(self)\u001b[0m\n\u001b[1;32m    830\u001b[0m \u001b[38;5;28;01mimport\u001b[39;00m\u001b[38;5;250m \u001b[39m\u001b[38;5;21;01mplotly\u001b[39;00m\u001b[38;5;21;01m.\u001b[39;00m\u001b[38;5;21;01mio\u001b[39;00m\u001b[38;5;250m \u001b[39m\u001b[38;5;28;01mas\u001b[39;00m\u001b[38;5;250m \u001b[39m\u001b[38;5;21;01mpio\u001b[39;00m\n\u001b[1;32m    832\u001b[0m \u001b[38;5;28;01mif\u001b[39;00m pio\u001b[38;5;241m.\u001b[39mrenderers\u001b[38;5;241m.\u001b[39mrender_on_display \u001b[38;5;129;01mand\u001b[39;00m pio\u001b[38;5;241m.\u001b[39mrenderers\u001b[38;5;241m.\u001b[39mdefault:\n\u001b[0;32m--> 833\u001b[0m     \u001b[43mpio\u001b[49m\u001b[38;5;241;43m.\u001b[39;49m\u001b[43mshow\u001b[49m\u001b[43m(\u001b[49m\u001b[38;5;28;43mself\u001b[39;49m\u001b[43m)\u001b[49m\n\u001b[1;32m    834\u001b[0m \u001b[38;5;28;01melse\u001b[39;00m:\n\u001b[1;32m    835\u001b[0m     \u001b[38;5;28mprint\u001b[39m(\u001b[38;5;28mrepr\u001b[39m(\u001b[38;5;28mself\u001b[39m))\n",
      "File \u001b[0;32m/opt/miniconda3/envs/NLP/lib/python3.11/site-packages/plotly/io/_renderers.py:425\u001b[0m, in \u001b[0;36mshow\u001b[0;34m(fig, renderer, validate, **kwargs)\u001b[0m\n\u001b[1;32m    420\u001b[0m     \u001b[38;5;28;01mraise\u001b[39;00m \u001b[38;5;167;01mValueError\u001b[39;00m(\n\u001b[1;32m    421\u001b[0m         \u001b[38;5;124m\"\u001b[39m\u001b[38;5;124mMime type rendering requires ipython but it is not installed\u001b[39m\u001b[38;5;124m\"\u001b[39m\n\u001b[1;32m    422\u001b[0m     )\n\u001b[1;32m    424\u001b[0m \u001b[38;5;28;01mif\u001b[39;00m \u001b[38;5;129;01mnot\u001b[39;00m nbformat \u001b[38;5;129;01mor\u001b[39;00m Version(nbformat\u001b[38;5;241m.\u001b[39m__version__) \u001b[38;5;241m<\u001b[39m Version(\u001b[38;5;124m\"\u001b[39m\u001b[38;5;124m4.2.0\u001b[39m\u001b[38;5;124m\"\u001b[39m):\n\u001b[0;32m--> 425\u001b[0m     \u001b[38;5;28;01mraise\u001b[39;00m \u001b[38;5;167;01mValueError\u001b[39;00m(\n\u001b[1;32m    426\u001b[0m         \u001b[38;5;124m\"\u001b[39m\u001b[38;5;124mMime type rendering requires nbformat>=4.2.0 but it is not installed\u001b[39m\u001b[38;5;124m\"\u001b[39m\n\u001b[1;32m    427\u001b[0m     )\n\u001b[1;32m    429\u001b[0m display_jupyter_version_warnings()\n\u001b[1;32m    431\u001b[0m ipython_display\u001b[38;5;241m.\u001b[39mdisplay(bundle, raw\u001b[38;5;241m=\u001b[39m\u001b[38;5;28;01mTrue\u001b[39;00m)\n",
      "\u001b[0;31mValueError\u001b[0m: Mime type rendering requires nbformat>=4.2.0 but it is not installed"
     ]
    },
    {
     "data": {
      "application/vnd.plotly.v1+json": {
       "config": {
        "plotlyServerURL": "https://plot.ly"
       },
       "data": [
        {
         "name": "Positive",
         "type": "bar",
         "x": [
          "trump",
          "biden"
         ],
         "y": [
          55.1,
          60.4
         ]
        },
        {
         "name": "Negative",
         "type": "bar",
         "x": [
          "trump",
          "biden"
         ],
         "y": [
          44.9,
          39.6
         ]
        }
       ],
       "layout": {
        "barmode": "group",
        "template": {
         "data": {
          "bar": [
           {
            "error_x": {
             "color": "#2a3f5f"
            },
            "error_y": {
             "color": "#2a3f5f"
            },
            "marker": {
             "line": {
              "color": "#E5ECF6",
              "width": 0.5
             },
             "pattern": {
              "fillmode": "overlay",
              "size": 10,
              "solidity": 0.2
             }
            },
            "type": "bar"
           }
          ],
          "barpolar": [
           {
            "marker": {
             "line": {
              "color": "#E5ECF6",
              "width": 0.5
             },
             "pattern": {
              "fillmode": "overlay",
              "size": 10,
              "solidity": 0.2
             }
            },
            "type": "barpolar"
           }
          ],
          "carpet": [
           {
            "aaxis": {
             "endlinecolor": "#2a3f5f",
             "gridcolor": "white",
             "linecolor": "white",
             "minorgridcolor": "white",
             "startlinecolor": "#2a3f5f"
            },
            "baxis": {
             "endlinecolor": "#2a3f5f",
             "gridcolor": "white",
             "linecolor": "white",
             "minorgridcolor": "white",
             "startlinecolor": "#2a3f5f"
            },
            "type": "carpet"
           }
          ],
          "choropleth": [
           {
            "colorbar": {
             "outlinewidth": 0,
             "ticks": ""
            },
            "type": "choropleth"
           }
          ],
          "contour": [
           {
            "colorbar": {
             "outlinewidth": 0,
             "ticks": ""
            },
            "colorscale": [
             [
              0,
              "#0d0887"
             ],
             [
              0.1111111111111111,
              "#46039f"
             ],
             [
              0.2222222222222222,
              "#7201a8"
             ],
             [
              0.3333333333333333,
              "#9c179e"
             ],
             [
              0.4444444444444444,
              "#bd3786"
             ],
             [
              0.5555555555555556,
              "#d8576b"
             ],
             [
              0.6666666666666666,
              "#ed7953"
             ],
             [
              0.7777777777777778,
              "#fb9f3a"
             ],
             [
              0.8888888888888888,
              "#fdca26"
             ],
             [
              1,
              "#f0f921"
             ]
            ],
            "type": "contour"
           }
          ],
          "contourcarpet": [
           {
            "colorbar": {
             "outlinewidth": 0,
             "ticks": ""
            },
            "type": "contourcarpet"
           }
          ],
          "heatmap": [
           {
            "colorbar": {
             "outlinewidth": 0,
             "ticks": ""
            },
            "colorscale": [
             [
              0,
              "#0d0887"
             ],
             [
              0.1111111111111111,
              "#46039f"
             ],
             [
              0.2222222222222222,
              "#7201a8"
             ],
             [
              0.3333333333333333,
              "#9c179e"
             ],
             [
              0.4444444444444444,
              "#bd3786"
             ],
             [
              0.5555555555555556,
              "#d8576b"
             ],
             [
              0.6666666666666666,
              "#ed7953"
             ],
             [
              0.7777777777777778,
              "#fb9f3a"
             ],
             [
              0.8888888888888888,
              "#fdca26"
             ],
             [
              1,
              "#f0f921"
             ]
            ],
            "type": "heatmap"
           }
          ],
          "histogram": [
           {
            "marker": {
             "pattern": {
              "fillmode": "overlay",
              "size": 10,
              "solidity": 0.2
             }
            },
            "type": "histogram"
           }
          ],
          "histogram2d": [
           {
            "colorbar": {
             "outlinewidth": 0,
             "ticks": ""
            },
            "colorscale": [
             [
              0,
              "#0d0887"
             ],
             [
              0.1111111111111111,
              "#46039f"
             ],
             [
              0.2222222222222222,
              "#7201a8"
             ],
             [
              0.3333333333333333,
              "#9c179e"
             ],
             [
              0.4444444444444444,
              "#bd3786"
             ],
             [
              0.5555555555555556,
              "#d8576b"
             ],
             [
              0.6666666666666666,
              "#ed7953"
             ],
             [
              0.7777777777777778,
              "#fb9f3a"
             ],
             [
              0.8888888888888888,
              "#fdca26"
             ],
             [
              1,
              "#f0f921"
             ]
            ],
            "type": "histogram2d"
           }
          ],
          "histogram2dcontour": [
           {
            "colorbar": {
             "outlinewidth": 0,
             "ticks": ""
            },
            "colorscale": [
             [
              0,
              "#0d0887"
             ],
             [
              0.1111111111111111,
              "#46039f"
             ],
             [
              0.2222222222222222,
              "#7201a8"
             ],
             [
              0.3333333333333333,
              "#9c179e"
             ],
             [
              0.4444444444444444,
              "#bd3786"
             ],
             [
              0.5555555555555556,
              "#d8576b"
             ],
             [
              0.6666666666666666,
              "#ed7953"
             ],
             [
              0.7777777777777778,
              "#fb9f3a"
             ],
             [
              0.8888888888888888,
              "#fdca26"
             ],
             [
              1,
              "#f0f921"
             ]
            ],
            "type": "histogram2dcontour"
           }
          ],
          "mesh3d": [
           {
            "colorbar": {
             "outlinewidth": 0,
             "ticks": ""
            },
            "type": "mesh3d"
           }
          ],
          "parcoords": [
           {
            "line": {
             "colorbar": {
              "outlinewidth": 0,
              "ticks": ""
             }
            },
            "type": "parcoords"
           }
          ],
          "pie": [
           {
            "automargin": true,
            "type": "pie"
           }
          ],
          "scatter": [
           {
            "fillpattern": {
             "fillmode": "overlay",
             "size": 10,
             "solidity": 0.2
            },
            "type": "scatter"
           }
          ],
          "scatter3d": [
           {
            "line": {
             "colorbar": {
              "outlinewidth": 0,
              "ticks": ""
             }
            },
            "marker": {
             "colorbar": {
              "outlinewidth": 0,
              "ticks": ""
             }
            },
            "type": "scatter3d"
           }
          ],
          "scattercarpet": [
           {
            "marker": {
             "colorbar": {
              "outlinewidth": 0,
              "ticks": ""
             }
            },
            "type": "scattercarpet"
           }
          ],
          "scattergeo": [
           {
            "marker": {
             "colorbar": {
              "outlinewidth": 0,
              "ticks": ""
             }
            },
            "type": "scattergeo"
           }
          ],
          "scattergl": [
           {
            "marker": {
             "colorbar": {
              "outlinewidth": 0,
              "ticks": ""
             }
            },
            "type": "scattergl"
           }
          ],
          "scattermap": [
           {
            "marker": {
             "colorbar": {
              "outlinewidth": 0,
              "ticks": ""
             }
            },
            "type": "scattermap"
           }
          ],
          "scattermapbox": [
           {
            "marker": {
             "colorbar": {
              "outlinewidth": 0,
              "ticks": ""
             }
            },
            "type": "scattermapbox"
           }
          ],
          "scatterpolar": [
           {
            "marker": {
             "colorbar": {
              "outlinewidth": 0,
              "ticks": ""
             }
            },
            "type": "scatterpolar"
           }
          ],
          "scatterpolargl": [
           {
            "marker": {
             "colorbar": {
              "outlinewidth": 0,
              "ticks": ""
             }
            },
            "type": "scatterpolargl"
           }
          ],
          "scatterternary": [
           {
            "marker": {
             "colorbar": {
              "outlinewidth": 0,
              "ticks": ""
             }
            },
            "type": "scatterternary"
           }
          ],
          "surface": [
           {
            "colorbar": {
             "outlinewidth": 0,
             "ticks": ""
            },
            "colorscale": [
             [
              0,
              "#0d0887"
             ],
             [
              0.1111111111111111,
              "#46039f"
             ],
             [
              0.2222222222222222,
              "#7201a8"
             ],
             [
              0.3333333333333333,
              "#9c179e"
             ],
             [
              0.4444444444444444,
              "#bd3786"
             ],
             [
              0.5555555555555556,
              "#d8576b"
             ],
             [
              0.6666666666666666,
              "#ed7953"
             ],
             [
              0.7777777777777778,
              "#fb9f3a"
             ],
             [
              0.8888888888888888,
              "#fdca26"
             ],
             [
              1,
              "#f0f921"
             ]
            ],
            "type": "surface"
           }
          ],
          "table": [
           {
            "cells": {
             "fill": {
              "color": "#EBF0F8"
             },
             "line": {
              "color": "white"
             }
            },
            "header": {
             "fill": {
              "color": "#C8D4E3"
             },
             "line": {
              "color": "white"
             }
            },
            "type": "table"
           }
          ]
         },
         "layout": {
          "annotationdefaults": {
           "arrowcolor": "#2a3f5f",
           "arrowhead": 0,
           "arrowwidth": 1
          },
          "autotypenumbers": "strict",
          "coloraxis": {
           "colorbar": {
            "outlinewidth": 0,
            "ticks": ""
           }
          },
          "colorscale": {
           "diverging": [
            [
             0,
             "#8e0152"
            ],
            [
             0.1,
             "#c51b7d"
            ],
            [
             0.2,
             "#de77ae"
            ],
            [
             0.3,
             "#f1b6da"
            ],
            [
             0.4,
             "#fde0ef"
            ],
            [
             0.5,
             "#f7f7f7"
            ],
            [
             0.6,
             "#e6f5d0"
            ],
            [
             0.7,
             "#b8e186"
            ],
            [
             0.8,
             "#7fbc41"
            ],
            [
             0.9,
             "#4d9221"
            ],
            [
             1,
             "#276419"
            ]
           ],
           "sequential": [
            [
             0,
             "#0d0887"
            ],
            [
             0.1111111111111111,
             "#46039f"
            ],
            [
             0.2222222222222222,
             "#7201a8"
            ],
            [
             0.3333333333333333,
             "#9c179e"
            ],
            [
             0.4444444444444444,
             "#bd3786"
            ],
            [
             0.5555555555555556,
             "#d8576b"
            ],
            [
             0.6666666666666666,
             "#ed7953"
            ],
            [
             0.7777777777777778,
             "#fb9f3a"
            ],
            [
             0.8888888888888888,
             "#fdca26"
            ],
            [
             1,
             "#f0f921"
            ]
           ],
           "sequentialminus": [
            [
             0,
             "#0d0887"
            ],
            [
             0.1111111111111111,
             "#46039f"
            ],
            [
             0.2222222222222222,
             "#7201a8"
            ],
            [
             0.3333333333333333,
             "#9c179e"
            ],
            [
             0.4444444444444444,
             "#bd3786"
            ],
            [
             0.5555555555555556,
             "#d8576b"
            ],
            [
             0.6666666666666666,
             "#ed7953"
            ],
            [
             0.7777777777777778,
             "#fb9f3a"
            ],
            [
             0.8888888888888888,
             "#fdca26"
            ],
            [
             1,
             "#f0f921"
            ]
           ]
          },
          "colorway": [
           "#636efa",
           "#EF553B",
           "#00cc96",
           "#ab63fa",
           "#FFA15A",
           "#19d3f3",
           "#FF6692",
           "#B6E880",
           "#FF97FF",
           "#FECB52"
          ],
          "font": {
           "color": "#2a3f5f"
          },
          "geo": {
           "bgcolor": "white",
           "lakecolor": "white",
           "landcolor": "#E5ECF6",
           "showlakes": true,
           "showland": true,
           "subunitcolor": "white"
          },
          "hoverlabel": {
           "align": "left"
          },
          "hovermode": "closest",
          "mapbox": {
           "style": "light"
          },
          "paper_bgcolor": "white",
          "plot_bgcolor": "#E5ECF6",
          "polar": {
           "angularaxis": {
            "gridcolor": "white",
            "linecolor": "white",
            "ticks": ""
           },
           "bgcolor": "#E5ECF6",
           "radialaxis": {
            "gridcolor": "white",
            "linecolor": "white",
            "ticks": ""
           }
          },
          "scene": {
           "xaxis": {
            "backgroundcolor": "#E5ECF6",
            "gridcolor": "white",
            "gridwidth": 2,
            "linecolor": "white",
            "showbackground": true,
            "ticks": "",
            "zerolinecolor": "white"
           },
           "yaxis": {
            "backgroundcolor": "#E5ECF6",
            "gridcolor": "white",
            "gridwidth": 2,
            "linecolor": "white",
            "showbackground": true,
            "ticks": "",
            "zerolinecolor": "white"
           },
           "zaxis": {
            "backgroundcolor": "#E5ECF6",
            "gridcolor": "white",
            "gridwidth": 2,
            "linecolor": "white",
            "showbackground": true,
            "ticks": "",
            "zerolinecolor": "white"
           }
          },
          "shapedefaults": {
           "line": {
            "color": "#2a3f5f"
           }
          },
          "ternary": {
           "aaxis": {
            "gridcolor": "white",
            "linecolor": "white",
            "ticks": ""
           },
           "baxis": {
            "gridcolor": "white",
            "linecolor": "white",
            "ticks": ""
           },
           "bgcolor": "#E5ECF6",
           "caxis": {
            "gridcolor": "white",
            "linecolor": "white",
            "ticks": ""
           }
          },
          "title": {
           "x": 0.05
          },
          "xaxis": {
           "automargin": true,
           "gridcolor": "white",
           "linecolor": "white",
           "ticks": "",
           "title": {
            "standoff": 15
           },
           "zerolinecolor": "white",
           "zerolinewidth": 2
          },
          "yaxis": {
           "automargin": true,
           "gridcolor": "white",
           "linecolor": "white",
           "ticks": "",
           "title": {
            "standoff": 15
           },
           "zerolinecolor": "white",
           "zerolinewidth": 2
          }
         }
        }
       }
      },
      "text/html": [
       "<div>                        <script type=\"text/javascript\">window.PlotlyConfig = {MathJaxConfig: 'local'};</script>\n",
       "        <script charset=\"utf-8\" src=\"https://cdn.plot.ly/plotly-3.0.0.min.js\"></script>                <div id=\"4b32dc5f-2bbd-4553-a9ec-f7b3449c4e31\" class=\"plotly-graph-div\" style=\"height:100%; width:100%;\"></div>            <script type=\"text/javascript\">                window.PLOTLYENV=window.PLOTLYENV || {};                                if (document.getElementById(\"4b32dc5f-2bbd-4553-a9ec-f7b3449c4e31\")) {                    Plotly.newPlot(                        \"4b32dc5f-2bbd-4553-a9ec-f7b3449c4e31\",                        [{\"name\":\"Positive\",\"x\":[\"trump\",\"biden\"],\"y\":[55.1,60.4],\"type\":\"bar\"},{\"name\":\"Negative\",\"x\":[\"trump\",\"biden\"],\"y\":[44.9,39.6],\"type\":\"bar\"}],                        {\"template\":{\"data\":{\"histogram2dcontour\":[{\"type\":\"histogram2dcontour\",\"colorbar\":{\"outlinewidth\":0,\"ticks\":\"\"},\"colorscale\":[[0.0,\"#0d0887\"],[0.1111111111111111,\"#46039f\"],[0.2222222222222222,\"#7201a8\"],[0.3333333333333333,\"#9c179e\"],[0.4444444444444444,\"#bd3786\"],[0.5555555555555556,\"#d8576b\"],[0.6666666666666666,\"#ed7953\"],[0.7777777777777778,\"#fb9f3a\"],[0.8888888888888888,\"#fdca26\"],[1.0,\"#f0f921\"]]}],\"choropleth\":[{\"type\":\"choropleth\",\"colorbar\":{\"outlinewidth\":0,\"ticks\":\"\"}}],\"histogram2d\":[{\"type\":\"histogram2d\",\"colorbar\":{\"outlinewidth\":0,\"ticks\":\"\"},\"colorscale\":[[0.0,\"#0d0887\"],[0.1111111111111111,\"#46039f\"],[0.2222222222222222,\"#7201a8\"],[0.3333333333333333,\"#9c179e\"],[0.4444444444444444,\"#bd3786\"],[0.5555555555555556,\"#d8576b\"],[0.6666666666666666,\"#ed7953\"],[0.7777777777777778,\"#fb9f3a\"],[0.8888888888888888,\"#fdca26\"],[1.0,\"#f0f921\"]]}],\"heatmap\":[{\"type\":\"heatmap\",\"colorbar\":{\"outlinewidth\":0,\"ticks\":\"\"},\"colorscale\":[[0.0,\"#0d0887\"],[0.1111111111111111,\"#46039f\"],[0.2222222222222222,\"#7201a8\"],[0.3333333333333333,\"#9c179e\"],[0.4444444444444444,\"#bd3786\"],[0.5555555555555556,\"#d8576b\"],[0.6666666666666666,\"#ed7953\"],[0.7777777777777778,\"#fb9f3a\"],[0.8888888888888888,\"#fdca26\"],[1.0,\"#f0f921\"]]}],\"contourcarpet\":[{\"type\":\"contourcarpet\",\"colorbar\":{\"outlinewidth\":0,\"ticks\":\"\"}}],\"contour\":[{\"type\":\"contour\",\"colorbar\":{\"outlinewidth\":0,\"ticks\":\"\"},\"colorscale\":[[0.0,\"#0d0887\"],[0.1111111111111111,\"#46039f\"],[0.2222222222222222,\"#7201a8\"],[0.3333333333333333,\"#9c179e\"],[0.4444444444444444,\"#bd3786\"],[0.5555555555555556,\"#d8576b\"],[0.6666666666666666,\"#ed7953\"],[0.7777777777777778,\"#fb9f3a\"],[0.8888888888888888,\"#fdca26\"],[1.0,\"#f0f921\"]]}],\"surface\":[{\"type\":\"surface\",\"colorbar\":{\"outlinewidth\":0,\"ticks\":\"\"},\"colorscale\":[[0.0,\"#0d0887\"],[0.1111111111111111,\"#46039f\"],[0.2222222222222222,\"#7201a8\"],[0.3333333333333333,\"#9c179e\"],[0.4444444444444444,\"#bd3786\"],[0.5555555555555556,\"#d8576b\"],[0.6666666666666666,\"#ed7953\"],[0.7777777777777778,\"#fb9f3a\"],[0.8888888888888888,\"#fdca26\"],[1.0,\"#f0f921\"]]}],\"mesh3d\":[{\"type\":\"mesh3d\",\"colorbar\":{\"outlinewidth\":0,\"ticks\":\"\"}}],\"scatter\":[{\"fillpattern\":{\"fillmode\":\"overlay\",\"size\":10,\"solidity\":0.2},\"type\":\"scatter\"}],\"parcoords\":[{\"type\":\"parcoords\",\"line\":{\"colorbar\":{\"outlinewidth\":0,\"ticks\":\"\"}}}],\"scatterpolargl\":[{\"type\":\"scatterpolargl\",\"marker\":{\"colorbar\":{\"outlinewidth\":0,\"ticks\":\"\"}}}],\"bar\":[{\"error_x\":{\"color\":\"#2a3f5f\"},\"error_y\":{\"color\":\"#2a3f5f\"},\"marker\":{\"line\":{\"color\":\"#E5ECF6\",\"width\":0.5},\"pattern\":{\"fillmode\":\"overlay\",\"size\":10,\"solidity\":0.2}},\"type\":\"bar\"}],\"scattergeo\":[{\"type\":\"scattergeo\",\"marker\":{\"colorbar\":{\"outlinewidth\":0,\"ticks\":\"\"}}}],\"scatterpolar\":[{\"type\":\"scatterpolar\",\"marker\":{\"colorbar\":{\"outlinewidth\":0,\"ticks\":\"\"}}}],\"histogram\":[{\"marker\":{\"pattern\":{\"fillmode\":\"overlay\",\"size\":10,\"solidity\":0.2}},\"type\":\"histogram\"}],\"scattergl\":[{\"type\":\"scattergl\",\"marker\":{\"colorbar\":{\"outlinewidth\":0,\"ticks\":\"\"}}}],\"scatter3d\":[{\"type\":\"scatter3d\",\"line\":{\"colorbar\":{\"outlinewidth\":0,\"ticks\":\"\"}},\"marker\":{\"colorbar\":{\"outlinewidth\":0,\"ticks\":\"\"}}}],\"scattermap\":[{\"type\":\"scattermap\",\"marker\":{\"colorbar\":{\"outlinewidth\":0,\"ticks\":\"\"}}}],\"scattermapbox\":[{\"type\":\"scattermapbox\",\"marker\":{\"colorbar\":{\"outlinewidth\":0,\"ticks\":\"\"}}}],\"scatterternary\":[{\"type\":\"scatterternary\",\"marker\":{\"colorbar\":{\"outlinewidth\":0,\"ticks\":\"\"}}}],\"scattercarpet\":[{\"type\":\"scattercarpet\",\"marker\":{\"colorbar\":{\"outlinewidth\":0,\"ticks\":\"\"}}}],\"carpet\":[{\"aaxis\":{\"endlinecolor\":\"#2a3f5f\",\"gridcolor\":\"white\",\"linecolor\":\"white\",\"minorgridcolor\":\"white\",\"startlinecolor\":\"#2a3f5f\"},\"baxis\":{\"endlinecolor\":\"#2a3f5f\",\"gridcolor\":\"white\",\"linecolor\":\"white\",\"minorgridcolor\":\"white\",\"startlinecolor\":\"#2a3f5f\"},\"type\":\"carpet\"}],\"table\":[{\"cells\":{\"fill\":{\"color\":\"#EBF0F8\"},\"line\":{\"color\":\"white\"}},\"header\":{\"fill\":{\"color\":\"#C8D4E3\"},\"line\":{\"color\":\"white\"}},\"type\":\"table\"}],\"barpolar\":[{\"marker\":{\"line\":{\"color\":\"#E5ECF6\",\"width\":0.5},\"pattern\":{\"fillmode\":\"overlay\",\"size\":10,\"solidity\":0.2}},\"type\":\"barpolar\"}],\"pie\":[{\"automargin\":true,\"type\":\"pie\"}]},\"layout\":{\"autotypenumbers\":\"strict\",\"colorway\":[\"#636efa\",\"#EF553B\",\"#00cc96\",\"#ab63fa\",\"#FFA15A\",\"#19d3f3\",\"#FF6692\",\"#B6E880\",\"#FF97FF\",\"#FECB52\"],\"font\":{\"color\":\"#2a3f5f\"},\"hovermode\":\"closest\",\"hoverlabel\":{\"align\":\"left\"},\"paper_bgcolor\":\"white\",\"plot_bgcolor\":\"#E5ECF6\",\"polar\":{\"bgcolor\":\"#E5ECF6\",\"angularaxis\":{\"gridcolor\":\"white\",\"linecolor\":\"white\",\"ticks\":\"\"},\"radialaxis\":{\"gridcolor\":\"white\",\"linecolor\":\"white\",\"ticks\":\"\"}},\"ternary\":{\"bgcolor\":\"#E5ECF6\",\"aaxis\":{\"gridcolor\":\"white\",\"linecolor\":\"white\",\"ticks\":\"\"},\"baxis\":{\"gridcolor\":\"white\",\"linecolor\":\"white\",\"ticks\":\"\"},\"caxis\":{\"gridcolor\":\"white\",\"linecolor\":\"white\",\"ticks\":\"\"}},\"coloraxis\":{\"colorbar\":{\"outlinewidth\":0,\"ticks\":\"\"}},\"colorscale\":{\"sequential\":[[0.0,\"#0d0887\"],[0.1111111111111111,\"#46039f\"],[0.2222222222222222,\"#7201a8\"],[0.3333333333333333,\"#9c179e\"],[0.4444444444444444,\"#bd3786\"],[0.5555555555555556,\"#d8576b\"],[0.6666666666666666,\"#ed7953\"],[0.7777777777777778,\"#fb9f3a\"],[0.8888888888888888,\"#fdca26\"],[1.0,\"#f0f921\"]],\"sequentialminus\":[[0.0,\"#0d0887\"],[0.1111111111111111,\"#46039f\"],[0.2222222222222222,\"#7201a8\"],[0.3333333333333333,\"#9c179e\"],[0.4444444444444444,\"#bd3786\"],[0.5555555555555556,\"#d8576b\"],[0.6666666666666666,\"#ed7953\"],[0.7777777777777778,\"#fb9f3a\"],[0.8888888888888888,\"#fdca26\"],[1.0,\"#f0f921\"]],\"diverging\":[[0,\"#8e0152\"],[0.1,\"#c51b7d\"],[0.2,\"#de77ae\"],[0.3,\"#f1b6da\"],[0.4,\"#fde0ef\"],[0.5,\"#f7f7f7\"],[0.6,\"#e6f5d0\"],[0.7,\"#b8e186\"],[0.8,\"#7fbc41\"],[0.9,\"#4d9221\"],[1,\"#276419\"]]},\"xaxis\":{\"gridcolor\":\"white\",\"linecolor\":\"white\",\"ticks\":\"\",\"title\":{\"standoff\":15},\"zerolinecolor\":\"white\",\"automargin\":true,\"zerolinewidth\":2},\"yaxis\":{\"gridcolor\":\"white\",\"linecolor\":\"white\",\"ticks\":\"\",\"title\":{\"standoff\":15},\"zerolinecolor\":\"white\",\"automargin\":true,\"zerolinewidth\":2},\"scene\":{\"xaxis\":{\"backgroundcolor\":\"#E5ECF6\",\"gridcolor\":\"white\",\"linecolor\":\"white\",\"showbackground\":true,\"ticks\":\"\",\"zerolinecolor\":\"white\",\"gridwidth\":2},\"yaxis\":{\"backgroundcolor\":\"#E5ECF6\",\"gridcolor\":\"white\",\"linecolor\":\"white\",\"showbackground\":true,\"ticks\":\"\",\"zerolinecolor\":\"white\",\"gridwidth\":2},\"zaxis\":{\"backgroundcolor\":\"#E5ECF6\",\"gridcolor\":\"white\",\"linecolor\":\"white\",\"showbackground\":true,\"ticks\":\"\",\"zerolinecolor\":\"white\",\"gridwidth\":2}},\"shapedefaults\":{\"line\":{\"color\":\"#2a3f5f\"}},\"annotationdefaults\":{\"arrowcolor\":\"#2a3f5f\",\"arrowhead\":0,\"arrowwidth\":1},\"geo\":{\"bgcolor\":\"white\",\"landcolor\":\"#E5ECF6\",\"subunitcolor\":\"white\",\"showland\":true,\"showlakes\":true,\"lakecolor\":\"white\"},\"title\":{\"x\":0.05},\"mapbox\":{\"style\":\"light\"}}},\"barmode\":\"group\"},                        {\"responsive\": true}                    )                };            </script>        </div>"
      ],
      "text/plain": [
       "Figure({\n",
       "    'data': [{'name': 'Positive', 'type': 'bar', 'x': ['trump', 'biden'], 'y': [55.1, 60.4]},\n",
       "             {'name': 'Negative', 'type': 'bar', 'x': ['trump', 'biden'], 'y': [44.9, 39.6]}],\n",
       "    'layout': {'barmode': 'group', 'template': '...'}\n",
       "})"
      ]
     },
     "execution_count": 120,
     "metadata": {},
     "output_type": "execute_result"
    }
   ],
   "source": [
    "fig.update_layout(barmode = \"group\")"
   ]
  },
  {
   "cell_type": "code",
   "execution_count": null,
   "metadata": {},
   "outputs": [],
   "source": []
  }
 ],
 "metadata": {
  "kernelspec": {
   "display_name": "NLP",
   "language": "python",
   "name": "python3"
  },
  "language_info": {
   "codemirror_mode": {
    "name": "ipython",
    "version": 3
   },
   "file_extension": ".py",
   "mimetype": "text/x-python",
   "name": "python",
   "nbconvert_exporter": "python",
   "pygments_lexer": "ipython3",
   "version": "3.11.11"
  }
 },
 "nbformat": 4,
 "nbformat_minor": 2
}
