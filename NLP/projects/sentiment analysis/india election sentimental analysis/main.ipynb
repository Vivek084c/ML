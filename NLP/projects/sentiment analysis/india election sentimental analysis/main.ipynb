{
 "cells": [
  {
   "cell_type": "markdown",
   "metadata": {},
   "source": [
    "# imporing the libraries and dataset"
   ]
  },
  {
   "cell_type": "code",
   "execution_count": 21,
   "metadata": {},
   "outputs": [],
   "source": [
    "import pandas as pd\n",
    "import numpy as np\n",
    "from textblob import TextBlob\n",
    "import plotly.graph_objs as go\n",
    "import plotly.express as xp"
   ]
  },
  {
   "cell_type": "code",
   "execution_count": 22,
   "metadata": {},
   "outputs": [],
   "source": [
    "modi = pd.read_csv(\"modi_reviews.csv\")\n",
    "rahul = pd.read_csv(\"rahul_reviews.csv\")"
   ]
  },
  {
   "cell_type": "code",
   "execution_count": 23,
   "metadata": {},
   "outputs": [
    {
     "data": {
      "text/html": [
       "<div>\n",
       "<style scoped>\n",
       "    .dataframe tbody tr th:only-of-type {\n",
       "        vertical-align: middle;\n",
       "    }\n",
       "\n",
       "    .dataframe tbody tr th {\n",
       "        vertical-align: top;\n",
       "    }\n",
       "\n",
       "    .dataframe thead th {\n",
       "        text-align: right;\n",
       "    }\n",
       "</style>\n",
       "<table border=\"1\" class=\"dataframe\">\n",
       "  <thead>\n",
       "    <tr style=\"text-align: right;\">\n",
       "      <th></th>\n",
       "      <th>Unnamed: 0</th>\n",
       "      <th>User</th>\n",
       "      <th>Tweet</th>\n",
       "    </tr>\n",
       "  </thead>\n",
       "  <tbody>\n",
       "    <tr>\n",
       "      <th>0</th>\n",
       "      <td>0</td>\n",
       "      <td>advosushildixit</td>\n",
       "      <td>@anjanaomkashyap I am seeing you as future #bj...</td>\n",
       "    </tr>\n",
       "    <tr>\n",
       "      <th>1</th>\n",
       "      <td>1</td>\n",
       "      <td>jiaeur</td>\n",
       "      <td>#LokSabhaElections2019 \\n23rd May 2019 will re...</td>\n",
       "    </tr>\n",
       "    <tr>\n",
       "      <th>2</th>\n",
       "      <td>2</td>\n",
       "      <td>PVenkatGandhi</td>\n",
       "      <td>#LokSabhaElections2019 \\n23rd May 2019 will re...</td>\n",
       "    </tr>\n",
       "    <tr>\n",
       "      <th>3</th>\n",
       "      <td>3</td>\n",
       "      <td>TheNirbhay1</td>\n",
       "      <td>PM Modi creates a new record of being the only...</td>\n",
       "    </tr>\n",
       "    <tr>\n",
       "      <th>4</th>\n",
       "      <td>4</td>\n",
       "      <td>ShakeChilli</td>\n",
       "      <td>@abhijitmajumder Appointment of Successor! \\n\\...</td>\n",
       "    </tr>\n",
       "  </tbody>\n",
       "</table>\n",
       "</div>"
      ],
      "text/plain": [
       "   Unnamed: 0             User  \\\n",
       "0           0  advosushildixit   \n",
       "1           1           jiaeur   \n",
       "2           2    PVenkatGandhi   \n",
       "3           3      TheNirbhay1   \n",
       "4           4      ShakeChilli   \n",
       "\n",
       "                                               Tweet  \n",
       "0  @anjanaomkashyap I am seeing you as future #bj...  \n",
       "1  #LokSabhaElections2019 \\n23rd May 2019 will re...  \n",
       "2  #LokSabhaElections2019 \\n23rd May 2019 will re...  \n",
       "3  PM Modi creates a new record of being the only...  \n",
       "4  @abhijitmajumder Appointment of Successor! \\n\\...  "
      ]
     },
     "execution_count": 23,
     "metadata": {},
     "output_type": "execute_result"
    }
   ],
   "source": [
    "modi.head()"
   ]
  },
  {
   "cell_type": "code",
   "execution_count": 24,
   "metadata": {},
   "outputs": [
    {
     "data": {
      "text/html": [
       "<div>\n",
       "<style scoped>\n",
       "    .dataframe tbody tr th:only-of-type {\n",
       "        vertical-align: middle;\n",
       "    }\n",
       "\n",
       "    .dataframe tbody tr th {\n",
       "        vertical-align: top;\n",
       "    }\n",
       "\n",
       "    .dataframe thead th {\n",
       "        text-align: right;\n",
       "    }\n",
       "</style>\n",
       "<table border=\"1\" class=\"dataframe\">\n",
       "  <thead>\n",
       "    <tr style=\"text-align: right;\">\n",
       "      <th></th>\n",
       "      <th>Unnamed: 0</th>\n",
       "      <th>User</th>\n",
       "      <th>Tweet</th>\n",
       "    </tr>\n",
       "  </thead>\n",
       "  <tbody>\n",
       "    <tr>\n",
       "      <th>0</th>\n",
       "      <td>0</td>\n",
       "      <td>Sunnysweet16</td>\n",
       "      <td>Wonder why no academic or journalist asks INC ...</td>\n",
       "    </tr>\n",
       "    <tr>\n",
       "      <th>1</th>\n",
       "      <td>1</td>\n",
       "      <td>drnitinchaube</td>\n",
       "      <td>Congrats for the change #australiavotes2019 an...</td>\n",
       "    </tr>\n",
       "    <tr>\n",
       "      <th>2</th>\n",
       "      <td>2</td>\n",
       "      <td>mrvivek07</td>\n",
       "      <td>Peopel Say “Govt Ne 70 Years Kya kiya”.\\nUnse ...</td>\n",
       "    </tr>\n",
       "    <tr>\n",
       "      <th>3</th>\n",
       "      <td>3</td>\n",
       "      <td>JosephPravinP</td>\n",
       "      <td>@ajaymaken @RahulGandhi And as a final touch, ...</td>\n",
       "    </tr>\n",
       "    <tr>\n",
       "      <th>4</th>\n",
       "      <td>4</td>\n",
       "      <td>VandanaMegastar</td>\n",
       "      <td>#LokSabhaElections2019 Anyone not having mass ...</td>\n",
       "    </tr>\n",
       "  </tbody>\n",
       "</table>\n",
       "</div>"
      ],
      "text/plain": [
       "   Unnamed: 0             User  \\\n",
       "0           0     Sunnysweet16   \n",
       "1           1    drnitinchaube   \n",
       "2           2        mrvivek07   \n",
       "3           3    JosephPravinP   \n",
       "4           4  VandanaMegastar   \n",
       "\n",
       "                                               Tweet  \n",
       "0  Wonder why no academic or journalist asks INC ...  \n",
       "1  Congrats for the change #australiavotes2019 an...  \n",
       "2  Peopel Say “Govt Ne 70 Years Kya kiya”.\\nUnse ...  \n",
       "3  @ajaymaken @RahulGandhi And as a final touch, ...  \n",
       "4  #LokSabhaElections2019 Anyone not having mass ...  "
      ]
     },
     "execution_count": 24,
     "metadata": {},
     "output_type": "execute_result"
    }
   ],
   "source": [
    "rahul.head()"
   ]
  },
  {
   "cell_type": "code",
   "execution_count": 25,
   "metadata": {},
   "outputs": [
    {
     "data": {
      "text/plain": [
       "(25688, 3)"
      ]
     },
     "execution_count": 25,
     "metadata": {},
     "output_type": "execute_result"
    }
   ],
   "source": [
    "modi.shape"
   ]
  },
  {
   "cell_type": "code",
   "execution_count": 26,
   "metadata": {},
   "outputs": [
    {
     "data": {
      "text/plain": [
       "(14261, 3)"
      ]
     },
     "execution_count": 26,
     "metadata": {},
     "output_type": "execute_result"
    }
   ],
   "source": [
    "rahul.shape"
   ]
  },
  {
   "cell_type": "markdown",
   "metadata": {},
   "source": [
    "# Analysig the data"
   ]
  },
  {
   "cell_type": "code",
   "execution_count": 27,
   "metadata": {},
   "outputs": [
    {
     "name": "stdout",
     "output_type": "stream",
     "text": [
      "@anjanaomkashyap I am seeing you as future #bjp spokesperson..\n",
      "Good luck. Anjana Om Modi oops Kashyap.\n",
      "Journalists like you changed the meaning of journalism. Janta maaf nai karege\n"
     ]
    }
   ],
   "source": [
    "print(modi[\"Tweet\"][0])"
   ]
  },
  {
   "cell_type": "code",
   "execution_count": 28,
   "metadata": {},
   "outputs": [
    {
     "data": {
      "text/plain": [
       "Sentiment(polarity=0.35, subjectivity=0.36250000000000004)"
      ]
     },
     "execution_count": 28,
     "metadata": {},
     "output_type": "execute_result"
    }
   ],
   "source": [
    "TextBlob(modi[\"Tweet\"][0]).sentiment"
   ]
  },
  {
   "cell_type": "code",
   "execution_count": 29,
   "metadata": {},
   "outputs": [
    {
     "name": "stdout",
     "output_type": "stream",
     "text": [
      "Text content : \n",
      " @anjanaomkashyap I am seeing you as future #bjp spokesperson..\n",
      "Good luck. Anjana Om Modi oops Kashyap.\n",
      "Journalists like you changed the meaning of journalism. Janta maaf nai karege\n",
      "Sentiment : \n",
      " Sentiment(polarity=0.35, subjectivity=0.36250000000000004)\n",
      "\n",
      "\n",
      "Text content : \n",
      " #LokSabhaElections2019 \n",
      "23rd May 2019 will reveal ..\n",
      "Even ECISVEEP could not help Modi Win 🤔\n",
      "\n",
      "Janatab Mann Banaata Hai to\n",
      "Chupke Se Be Jor Se Tappad Deta Hai ..\n",
      "Sentiment : \n",
      " Sentiment(polarity=0.8, subjectivity=0.4)\n",
      "\n",
      "\n",
      "Text content : \n",
      " #LokSabhaElections2019 \n",
      "23rd May 2019 will reveal ..\n",
      "Even @ECISVEEP could not help Modi Win 🤔\n",
      "\n",
      "Janatab Mann Banaata Hai to\n",
      "Chupke Se Be Jor Se Tappad Deta Hai ..\n",
      "Sentiment : \n",
      " Sentiment(polarity=0.8, subjectivity=0.4)\n",
      "\n",
      "\n",
      "Text content : \n",
      " PM Modi creates a new record of being the only PM of a democratic country. \n",
      "Congratulations our pm welcome to the Heart of India again 🙏🙏🙏🙏🙏🙏🙏 .#Elections2019 #PMModi #DeshKaGauravModi #2020Election #BJP #India\n",
      "Sentiment : \n",
      " Sentiment(polarity=0.31212121212121213, subjectivity=0.7848484848484848)\n",
      "\n",
      "\n",
      "Text content : \n",
      " @abhijitmajumder Appointment of Successor! \n",
      "\n",
      "God forbid if we allow BJP to stoop so low. That will be end of #RSS ideological high ground \n",
      "\n",
      "Post this election results #BJP will have new president and things will move on. \n",
      "\n",
      "As per bar set within party Modi should not contest LS 2024 @74years age\n",
      "Sentiment : \n",
      " Sentiment(polarity=0.0987878787878788, subjectivity=0.43151515151515146)\n",
      "\n",
      "\n"
     ]
    }
   ],
   "source": [
    "for i in range(5):\n",
    "    print(f\"Text content : \\n {modi['Tweet'][i]}\")\n",
    "    print(f\"Sentiment : \\n {TextBlob(modi['Tweet'][i]).sentiment}\")\n",
    "    print(\"\\n\")"
   ]
  },
  {
   "cell_type": "code",
   "execution_count": 40,
   "metadata": {},
   "outputs": [],
   "source": [
    "# function to find the polarity for the given review\n",
    "def find_polarity(review):\n",
    "    return TextBlob(review).sentiment.polarity"
   ]
  },
  {
   "cell_type": "code",
   "execution_count": 41,
   "metadata": {},
   "outputs": [
    {
     "name": "stdout",
     "output_type": "stream",
     "text": [
      "0.35\n"
     ]
    }
   ],
   "source": [
    "print(find_polarity(modi[\"Tweet\"][0]))"
   ]
  },
  {
   "cell_type": "code",
   "execution_count": 42,
   "metadata": {},
   "outputs": [
    {
     "data": {
      "text/plain": [
       "0        0.350000\n",
       "1        0.800000\n",
       "2        0.800000\n",
       "3        0.312121\n",
       "4        0.098788\n",
       "           ...   \n",
       "25683    0.000000\n",
       "25684    0.209524\n",
       "25685   -0.700000\n",
       "25686    0.000000\n",
       "25687   -0.213542\n",
       "Name: Tweet, Length: 25688, dtype: float64"
      ]
     },
     "execution_count": 42,
     "metadata": {},
     "output_type": "execute_result"
    }
   ],
   "source": [
    "# applying the given function to all the tweets\n",
    "modi[\"Tweet\"].apply(find_polarity)"
   ]
  },
  {
   "cell_type": "markdown",
   "metadata": {},
   "source": [
    "## the reason for the above error is that the tweet data is object type not text type"
   ]
  },
  {
   "cell_type": "code",
   "execution_count": 43,
   "metadata": {},
   "outputs": [
    {
     "name": "stdout",
     "output_type": "stream",
     "text": [
      "<class 'pandas.core.frame.DataFrame'>\n",
      "RangeIndex: 25688 entries, 0 to 25687\n",
      "Data columns (total 4 columns):\n",
      " #   Column      Non-Null Count  Dtype \n",
      "---  ------      --------------  ----- \n",
      " 0   Unnamed: 0  25688 non-null  int64 \n",
      " 1   User        25683 non-null  object\n",
      " 2   Tweet       25688 non-null  object\n",
      " 3   Polarity    25688 non-null  object\n",
      "dtypes: int64(1), object(3)\n",
      "memory usage: 802.9+ KB\n"
     ]
    }
   ],
   "source": [
    "modi.info()"
   ]
  },
  {
   "cell_type": "markdown",
   "metadata": {},
   "source": [
    "## converting the tweet to string formate and reapply the same thing"
   ]
  },
  {
   "cell_type": "code",
   "execution_count": 44,
   "metadata": {},
   "outputs": [
    {
     "data": {
      "text/plain": [
       "0        @anjanaomkashyap I am seeing you as future #bj...\n",
       "1        #LokSabhaElections2019 \\n23rd May 2019 will re...\n",
       "2        #LokSabhaElections2019 \\n23rd May 2019 will re...\n",
       "3        PM Modi creates a new record of being the only...\n",
       "4        @abhijitmajumder Appointment of Successor! \\n\\...\n",
       "                               ...                        \n",
       "25683    #1DDrive #ModiSpeaksToNews18 #LokSabhaElection...\n",
       "25684    I am seriously worried about future of Indian ...\n",
       "25685    If @narendramodi is so Bad then Why does @INCI...\n",
       "25686    On this 23rd March (Pakistan Day), I Urge all ...\n",
       "25687    @timesofindia #ArvindKejriwal, #AAP sirji pls ...\n",
       "Name: Tweet, Length: 25688, dtype: object"
      ]
     },
     "execution_count": 44,
     "metadata": {},
     "output_type": "execute_result"
    }
   ],
   "source": [
    "modi[\"Tweet\"].astype(str)"
   ]
  },
  {
   "cell_type": "code",
   "execution_count": 45,
   "metadata": {},
   "outputs": [],
   "source": [
    "modi[\"Tweet\"] = modi[\"Tweet\"].astype(str)"
   ]
  },
  {
   "cell_type": "code",
   "execution_count": 46,
   "metadata": {},
   "outputs": [],
   "source": [
    "# applying the given function to all the tweets, this time tweets is of type str\n",
    "modi[\"Polarity\"] = modi[\"Tweet\"].apply(find_polarity)"
   ]
  },
  {
   "cell_type": "code",
   "execution_count": 47,
   "metadata": {},
   "outputs": [
    {
     "name": "stdout",
     "output_type": "stream",
     "text": [
      "<class 'pandas.core.frame.DataFrame'>\n",
      "RangeIndex: 25688 entries, 0 to 25687\n",
      "Data columns (total 4 columns):\n",
      " #   Column      Non-Null Count  Dtype  \n",
      "---  ------      --------------  -----  \n",
      " 0   Unnamed: 0  25688 non-null  int64  \n",
      " 1   User        25683 non-null  object \n",
      " 2   Tweet       25688 non-null  object \n",
      " 3   Polarity    25688 non-null  float64\n",
      "dtypes: float64(1), int64(1), object(2)\n",
      "memory usage: 802.9+ KB\n"
     ]
    }
   ],
   "source": [
    "modi.info()"
   ]
  },
  {
   "cell_type": "code",
   "execution_count": 48,
   "metadata": {},
   "outputs": [],
   "source": [
    "rahul[\"Tweet\"].astype(str)\n",
    "rahul[\"Polarity\"] = rahul[\"Tweet\"].apply(find_polarity)"
   ]
  },
  {
   "cell_type": "code",
   "execution_count": 49,
   "metadata": {},
   "outputs": [
    {
     "data": {
      "text/html": [
       "<div>\n",
       "<style scoped>\n",
       "    .dataframe tbody tr th:only-of-type {\n",
       "        vertical-align: middle;\n",
       "    }\n",
       "\n",
       "    .dataframe tbody tr th {\n",
       "        vertical-align: top;\n",
       "    }\n",
       "\n",
       "    .dataframe thead th {\n",
       "        text-align: right;\n",
       "    }\n",
       "</style>\n",
       "<table border=\"1\" class=\"dataframe\">\n",
       "  <thead>\n",
       "    <tr style=\"text-align: right;\">\n",
       "      <th></th>\n",
       "      <th>Unnamed: 0</th>\n",
       "      <th>User</th>\n",
       "      <th>Tweet</th>\n",
       "      <th>Polarity</th>\n",
       "    </tr>\n",
       "  </thead>\n",
       "  <tbody>\n",
       "    <tr>\n",
       "      <th>0</th>\n",
       "      <td>0</td>\n",
       "      <td>Sunnysweet16</td>\n",
       "      <td>Wonder why no academic or journalist asks INC ...</td>\n",
       "      <td>0.218750</td>\n",
       "    </tr>\n",
       "    <tr>\n",
       "      <th>1</th>\n",
       "      <td>1</td>\n",
       "      <td>drnitinchaube</td>\n",
       "      <td>Congrats for the change #australiavotes2019 an...</td>\n",
       "      <td>0.000000</td>\n",
       "    </tr>\n",
       "    <tr>\n",
       "      <th>2</th>\n",
       "      <td>2</td>\n",
       "      <td>mrvivek07</td>\n",
       "      <td>Peopel Say “Govt Ne 70 Years Kya kiya”.\\nUnse ...</td>\n",
       "      <td>0.000000</td>\n",
       "    </tr>\n",
       "    <tr>\n",
       "      <th>3</th>\n",
       "      <td>3</td>\n",
       "      <td>JosephPravinP</td>\n",
       "      <td>@ajaymaken @RahulGandhi And as a final touch, ...</td>\n",
       "      <td>0.320000</td>\n",
       "    </tr>\n",
       "    <tr>\n",
       "      <th>4</th>\n",
       "      <td>4</td>\n",
       "      <td>VandanaMegastar</td>\n",
       "      <td>#LokSabhaElections2019 Anyone not having mass ...</td>\n",
       "      <td>-0.166667</td>\n",
       "    </tr>\n",
       "  </tbody>\n",
       "</table>\n",
       "</div>"
      ],
      "text/plain": [
       "   Unnamed: 0             User  \\\n",
       "0           0     Sunnysweet16   \n",
       "1           1    drnitinchaube   \n",
       "2           2        mrvivek07   \n",
       "3           3    JosephPravinP   \n",
       "4           4  VandanaMegastar   \n",
       "\n",
       "                                               Tweet  Polarity  \n",
       "0  Wonder why no academic or journalist asks INC ...  0.218750  \n",
       "1  Congrats for the change #australiavotes2019 an...  0.000000  \n",
       "2  Peopel Say “Govt Ne 70 Years Kya kiya”.\\nUnse ...  0.000000  \n",
       "3  @ajaymaken @RahulGandhi And as a final touch, ...  0.320000  \n",
       "4  #LokSabhaElections2019 Anyone not having mass ... -0.166667  "
      ]
     },
     "execution_count": 49,
     "metadata": {},
     "output_type": "execute_result"
    }
   ],
   "source": [
    "rahul.head()"
   ]
  },
  {
   "cell_type": "code",
   "execution_count": 50,
   "metadata": {},
   "outputs": [
    {
     "data": {
      "text/html": [
       "<div>\n",
       "<style scoped>\n",
       "    .dataframe tbody tr th:only-of-type {\n",
       "        vertical-align: middle;\n",
       "    }\n",
       "\n",
       "    .dataframe tbody tr th {\n",
       "        vertical-align: top;\n",
       "    }\n",
       "\n",
       "    .dataframe thead th {\n",
       "        text-align: right;\n",
       "    }\n",
       "</style>\n",
       "<table border=\"1\" class=\"dataframe\">\n",
       "  <thead>\n",
       "    <tr style=\"text-align: right;\">\n",
       "      <th></th>\n",
       "      <th>Unnamed: 0</th>\n",
       "      <th>User</th>\n",
       "      <th>Tweet</th>\n",
       "      <th>Polarity</th>\n",
       "    </tr>\n",
       "  </thead>\n",
       "  <tbody>\n",
       "    <tr>\n",
       "      <th>0</th>\n",
       "      <td>0</td>\n",
       "      <td>advosushildixit</td>\n",
       "      <td>@anjanaomkashyap I am seeing you as future #bj...</td>\n",
       "      <td>0.350000</td>\n",
       "    </tr>\n",
       "    <tr>\n",
       "      <th>1</th>\n",
       "      <td>1</td>\n",
       "      <td>jiaeur</td>\n",
       "      <td>#LokSabhaElections2019 \\n23rd May 2019 will re...</td>\n",
       "      <td>0.800000</td>\n",
       "    </tr>\n",
       "    <tr>\n",
       "      <th>2</th>\n",
       "      <td>2</td>\n",
       "      <td>PVenkatGandhi</td>\n",
       "      <td>#LokSabhaElections2019 \\n23rd May 2019 will re...</td>\n",
       "      <td>0.800000</td>\n",
       "    </tr>\n",
       "    <tr>\n",
       "      <th>3</th>\n",
       "      <td>3</td>\n",
       "      <td>TheNirbhay1</td>\n",
       "      <td>PM Modi creates a new record of being the only...</td>\n",
       "      <td>0.312121</td>\n",
       "    </tr>\n",
       "    <tr>\n",
       "      <th>4</th>\n",
       "      <td>4</td>\n",
       "      <td>ShakeChilli</td>\n",
       "      <td>@abhijitmajumder Appointment of Successor! \\n\\...</td>\n",
       "      <td>0.098788</td>\n",
       "    </tr>\n",
       "  </tbody>\n",
       "</table>\n",
       "</div>"
      ],
      "text/plain": [
       "   Unnamed: 0             User  \\\n",
       "0           0  advosushildixit   \n",
       "1           1           jiaeur   \n",
       "2           2    PVenkatGandhi   \n",
       "3           3      TheNirbhay1   \n",
       "4           4      ShakeChilli   \n",
       "\n",
       "                                               Tweet  Polarity  \n",
       "0  @anjanaomkashyap I am seeing you as future #bj...  0.350000  \n",
       "1  #LokSabhaElections2019 \\n23rd May 2019 will re...  0.800000  \n",
       "2  #LokSabhaElections2019 \\n23rd May 2019 will re...  0.800000  \n",
       "3  PM Modi creates a new record of being the only...  0.312121  \n",
       "4  @abhijitmajumder Appointment of Successor! \\n\\...  0.098788  "
      ]
     },
     "execution_count": 50,
     "metadata": {},
     "output_type": "execute_result"
    }
   ],
   "source": [
    "modi.head()"
   ]
  },
  {
   "cell_type": "code",
   "execution_count": null,
   "metadata": {},
   "outputs": [],
   "source": [
    "np.where(modi[\"Polarity\"] > 0)"
   ]
  },
  {
   "cell_type": "code",
   "execution_count": null,
   "metadata": {},
   "outputs": [],
   "source": []
  },
  {
   "cell_type": "code",
   "execution_count": null,
   "metadata": {},
   "outputs": [],
   "source": []
  },
  {
   "cell_type": "code",
   "execution_count": null,
   "metadata": {},
   "outputs": [],
   "source": []
  },
  {
   "cell_type": "code",
   "execution_count": null,
   "metadata": {},
   "outputs": [],
   "source": []
  }
 ],
 "metadata": {
  "kernelspec": {
   "display_name": "nlp",
   "language": "python",
   "name": "python3"
  },
  "language_info": {
   "codemirror_mode": {
    "name": "ipython",
    "version": 3
   },
   "file_extension": ".py",
   "mimetype": "text/x-python",
   "name": "python",
   "nbconvert_exporter": "python",
   "pygments_lexer": "ipython3",
   "version": "3.11.11"
  }
 },
 "nbformat": 4,
 "nbformat_minor": 2
}
