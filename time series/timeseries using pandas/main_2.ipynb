{
 "cells": [
  {
   "cell_type": "markdown",
   "metadata": {},
   "source": [
    "## date range"
   ]
  },
  {
   "cell_type": "code",
   "execution_count": 3,
   "metadata": {},
   "outputs": [],
   "source": [
    "import pandas as pd\n",
    "df = pd.read_csv(\"apple_copy.csv\")"
   ]
  },
  {
   "cell_type": "code",
   "execution_count": 4,
   "metadata": {},
   "outputs": [
    {
     "data": {
      "text/html": [
       "<div>\n",
       "<style scoped>\n",
       "    .dataframe tbody tr th:only-of-type {\n",
       "        vertical-align: middle;\n",
       "    }\n",
       "\n",
       "    .dataframe tbody tr th {\n",
       "        vertical-align: top;\n",
       "    }\n",
       "\n",
       "    .dataframe thead th {\n",
       "        text-align: right;\n",
       "    }\n",
       "</style>\n",
       "<table border=\"1\" class=\"dataframe\">\n",
       "  <thead>\n",
       "    <tr style=\"text-align: right;\">\n",
       "      <th></th>\n",
       "      <th>Close/Last</th>\n",
       "      <th>Volume</th>\n",
       "      <th>Open</th>\n",
       "      <th>High</th>\n",
       "      <th>Low</th>\n",
       "    </tr>\n",
       "  </thead>\n",
       "  <tbody>\n",
       "    <tr>\n",
       "      <th>0</th>\n",
       "      <td>$230.10</td>\n",
       "      <td>47070910</td>\n",
       "      <td>$232.61</td>\n",
       "      <td>$233.47</td>\n",
       "      <td>$229.55</td>\n",
       "    </tr>\n",
       "    <tr>\n",
       "      <th>1</th>\n",
       "      <td>$233.67</td>\n",
       "      <td>35417250</td>\n",
       "      <td>$233.10</td>\n",
       "      <td>$234.33</td>\n",
       "      <td>$232.32</td>\n",
       "    </tr>\n",
       "    <tr>\n",
       "      <th>2</th>\n",
       "      <td>$233.40</td>\n",
       "      <td>36087130</td>\n",
       "      <td>$233.32</td>\n",
       "      <td>$234.73</td>\n",
       "      <td>$232.55</td>\n",
       "    </tr>\n",
       "    <tr>\n",
       "      <th>3</th>\n",
       "      <td>$231.41</td>\n",
       "      <td>38802300</td>\n",
       "      <td>$229.74</td>\n",
       "      <td>$233.22</td>\n",
       "      <td>$229.57</td>\n",
       "    </tr>\n",
       "    <tr>\n",
       "      <th>4</th>\n",
       "      <td>$230.57</td>\n",
       "      <td>31109500</td>\n",
       "      <td>$229.98</td>\n",
       "      <td>$230.82</td>\n",
       "      <td>$228.41</td>\n",
       "    </tr>\n",
       "  </tbody>\n",
       "</table>\n",
       "</div>"
      ],
      "text/plain": [
       "  Close/Last    Volume      Open      High       Low\n",
       "0   $230.10   47070910  $232.61   $233.47   $229.55 \n",
       "1   $233.67   35417250  $233.10   $234.33   $232.32 \n",
       "2   $233.40   36087130  $233.32   $234.73   $232.55 \n",
       "3   $231.41   38802300  $229.74   $233.22   $229.57 \n",
       "4   $230.57   31109500  $229.98   $230.82   $228.41 "
      ]
     },
     "execution_count": 4,
     "metadata": {},
     "output_type": "execute_result"
    }
   ],
   "source": [
    "df.head()"
   ]
  },
  {
   "cell_type": "markdown",
   "metadata": {},
   "source": [
    "#### adding the date range "
   ]
  },
  {
   "cell_type": "code",
   "execution_count": 5,
   "metadata": {},
   "outputs": [],
   "source": [
    "rng = pd.date_range(start=\"10/31/2019\", end=\"10/30/2024\", freq=\"B\")"
   ]
  },
  {
   "cell_type": "code",
   "execution_count": 6,
   "metadata": {},
   "outputs": [
    {
     "data": {
      "text/plain": [
       "DatetimeIndex(['2019-10-31', '2019-11-01', '2019-11-04', '2019-11-05',\n",
       "               '2019-11-06', '2019-11-07', '2019-11-08', '2019-11-11',\n",
       "               '2019-11-12', '2019-11-13',\n",
       "               ...\n",
       "               '2024-10-17', '2024-10-18', '2024-10-21', '2024-10-22',\n",
       "               '2024-10-23', '2024-10-24', '2024-10-25', '2024-10-28',\n",
       "               '2024-10-29', '2024-10-30'],\n",
       "              dtype='datetime64[ns]', length=1305, freq='B')"
      ]
     },
     "execution_count": 6,
     "metadata": {},
     "output_type": "execute_result"
    }
   ],
   "source": [
    "rng"
   ]
  },
  {
   "cell_type": "code",
   "execution_count": 9,
   "metadata": {},
   "outputs": [
    {
     "data": {
      "text/html": [
       "<div>\n",
       "<style scoped>\n",
       "    .dataframe tbody tr th:only-of-type {\n",
       "        vertical-align: middle;\n",
       "    }\n",
       "\n",
       "    .dataframe tbody tr th {\n",
       "        vertical-align: top;\n",
       "    }\n",
       "\n",
       "    .dataframe thead th {\n",
       "        text-align: right;\n",
       "    }\n",
       "</style>\n",
       "<table border=\"1\" class=\"dataframe\">\n",
       "  <thead>\n",
       "    <tr style=\"text-align: right;\">\n",
       "      <th></th>\n",
       "      <th>Close/Last</th>\n",
       "      <th>Volume</th>\n",
       "      <th>Open</th>\n",
       "      <th>High</th>\n",
       "      <th>Low</th>\n",
       "    </tr>\n",
       "  </thead>\n",
       "  <tbody>\n",
       "    <tr>\n",
       "      <th>2019-10-31</th>\n",
       "      <td>$230.10</td>\n",
       "      <td>47070910</td>\n",
       "      <td>$232.61</td>\n",
       "      <td>$233.47</td>\n",
       "      <td>$229.55</td>\n",
       "    </tr>\n",
       "    <tr>\n",
       "      <th>2019-11-01</th>\n",
       "      <td>$233.67</td>\n",
       "      <td>35417250</td>\n",
       "      <td>$233.10</td>\n",
       "      <td>$234.33</td>\n",
       "      <td>$232.32</td>\n",
       "    </tr>\n",
       "    <tr>\n",
       "      <th>2019-11-04</th>\n",
       "      <td>$233.40</td>\n",
       "      <td>36087130</td>\n",
       "      <td>$233.32</td>\n",
       "      <td>$234.73</td>\n",
       "      <td>$232.55</td>\n",
       "    </tr>\n",
       "    <tr>\n",
       "      <th>2019-11-05</th>\n",
       "      <td>$231.41</td>\n",
       "      <td>38802300</td>\n",
       "      <td>$229.74</td>\n",
       "      <td>$233.22</td>\n",
       "      <td>$229.57</td>\n",
       "    </tr>\n",
       "    <tr>\n",
       "      <th>2019-11-06</th>\n",
       "      <td>$230.57</td>\n",
       "      <td>31109500</td>\n",
       "      <td>$229.98</td>\n",
       "      <td>$230.82</td>\n",
       "      <td>$228.41</td>\n",
       "    </tr>\n",
       "  </tbody>\n",
       "</table>\n",
       "</div>"
      ],
      "text/plain": [
       "           Close/Last    Volume      Open      High       Low\n",
       "2019-10-31   $230.10   47070910  $232.61   $233.47   $229.55 \n",
       "2019-11-01   $233.67   35417250  $233.10   $234.33   $232.32 \n",
       "2019-11-04   $233.40   36087130  $233.32   $234.73   $232.55 \n",
       "2019-11-05   $231.41   38802300  $229.74   $233.22   $229.57 \n",
       "2019-11-06   $230.57   31109500  $229.98   $230.82   $228.41 "
      ]
     },
     "execution_count": 9,
     "metadata": {},
     "output_type": "execute_result"
    }
   ],
   "source": [
    "# setting the above index as data index\n",
    "df.set_index(rng[:1258], inplace=True)\n",
    "df.head()"
   ]
  },
  {
   "cell_type": "code",
   "execution_count": 12,
   "metadata": {},
   "outputs": [],
   "source": [
    "%matplotlib inline\n",
    "df['Close/Last'] = df['Close/Last'].str.replace('$', '').astype(float)"
   ]
  },
  {
   "cell_type": "code",
   "execution_count": 13,
   "metadata": {},
   "outputs": [
    {
     "data": {
      "text/plain": [
       "<Axes: >"
      ]
     },
     "execution_count": 13,
     "metadata": {},
     "output_type": "execute_result"
    },
    {
     "data": {
      "image/png": "[encoded data removed]",
      "text/plain": [
       "<Figure size 640x480 with 1 Axes>"
      ]
     },
     "metadata": {},
     "output_type": "display_data"
    }
   ],
   "source": [
    "df[\"Close/Last\"].plot()"
   ]
  },
  {
   "cell_type": "code",
   "execution_count": 16,
   "metadata": {},
   "outputs": [
    {
     "data": {
      "text/plain": [
       "167.19125"
      ]
     },
     "execution_count": 16,
     "metadata": {},
     "output_type": "execute_result"
    }
   ],
   "source": [
    "df[\"2022-06-01\":\"2022-06-10\"][\"Close/Last\"].mean()"
   ]
  },
  {
   "cell_type": "code",
   "execution_count": 17,
   "metadata": {},
   "outputs": [
    {
     "data": {
      "text/html": [
       "<div>\n",
       "<style scoped>\n",
       "    .dataframe tbody tr th:only-of-type {\n",
       "        vertical-align: middle;\n",
       "    }\n",
       "\n",
       "    .dataframe tbody tr th {\n",
       "        vertical-align: top;\n",
       "    }\n",
       "\n",
       "    .dataframe thead th {\n",
       "        text-align: right;\n",
       "    }\n",
       "</style>\n",
       "<table border=\"1\" class=\"dataframe\">\n",
       "  <thead>\n",
       "    <tr style=\"text-align: right;\">\n",
       "      <th></th>\n",
       "      <th>Close/Last</th>\n",
       "      <th>Volume</th>\n",
       "      <th>Open</th>\n",
       "      <th>High</th>\n",
       "      <th>Low</th>\n",
       "    </tr>\n",
       "  </thead>\n",
       "  <tbody>\n",
       "    <tr>\n",
       "      <th>2019-10-31</th>\n",
       "      <td>230.10</td>\n",
       "      <td>47070910</td>\n",
       "      <td>$232.61</td>\n",
       "      <td>$233.47</td>\n",
       "      <td>$229.55</td>\n",
       "    </tr>\n",
       "    <tr>\n",
       "      <th>2019-11-01</th>\n",
       "      <td>233.67</td>\n",
       "      <td>35417250</td>\n",
       "      <td>$233.10</td>\n",
       "      <td>$234.33</td>\n",
       "      <td>$232.32</td>\n",
       "    </tr>\n",
       "    <tr>\n",
       "      <th>2019-11-02</th>\n",
       "      <td>233.67</td>\n",
       "      <td>35417250</td>\n",
       "      <td>$233.10</td>\n",
       "      <td>$234.33</td>\n",
       "      <td>$232.32</td>\n",
       "    </tr>\n",
       "    <tr>\n",
       "      <th>2019-11-03</th>\n",
       "      <td>233.67</td>\n",
       "      <td>35417250</td>\n",
       "      <td>$233.10</td>\n",
       "      <td>$234.33</td>\n",
       "      <td>$232.32</td>\n",
       "    </tr>\n",
       "    <tr>\n",
       "      <th>2019-11-04</th>\n",
       "      <td>233.40</td>\n",
       "      <td>36087130</td>\n",
       "      <td>$233.32</td>\n",
       "      <td>$234.73</td>\n",
       "      <td>$232.55</td>\n",
       "    </tr>\n",
       "    <tr>\n",
       "      <th>...</th>\n",
       "      <td>...</td>\n",
       "      <td>...</td>\n",
       "      <td>...</td>\n",
       "      <td>...</td>\n",
       "      <td>...</td>\n",
       "    </tr>\n",
       "    <tr>\n",
       "      <th>2024-08-22</th>\n",
       "      <td>64.38</td>\n",
       "      <td>103271800</td>\n",
       "      <td>$64.33</td>\n",
       "      <td>$64.46</td>\n",
       "      <td>$63.85</td>\n",
       "    </tr>\n",
       "    <tr>\n",
       "      <th>2024-08-23</th>\n",
       "      <td>63.96</td>\n",
       "      <td>151125320</td>\n",
       "      <td>$62.39</td>\n",
       "      <td>$63.98</td>\n",
       "      <td>$62.29</td>\n",
       "    </tr>\n",
       "    <tr>\n",
       "      <th>2024-08-24</th>\n",
       "      <td>63.96</td>\n",
       "      <td>151125320</td>\n",
       "      <td>$62.39</td>\n",
       "      <td>$63.98</td>\n",
       "      <td>$62.29</td>\n",
       "    </tr>\n",
       "    <tr>\n",
       "      <th>2024-08-25</th>\n",
       "      <td>63.96</td>\n",
       "      <td>151125320</td>\n",
       "      <td>$62.39</td>\n",
       "      <td>$63.98</td>\n",
       "      <td>$62.29</td>\n",
       "    </tr>\n",
       "    <tr>\n",
       "      <th>2024-08-26</th>\n",
       "      <td>62.19</td>\n",
       "      <td>139162080</td>\n",
       "      <td>$61.81</td>\n",
       "      <td>$62.29</td>\n",
       "      <td>$59.32</td>\n",
       "    </tr>\n",
       "  </tbody>\n",
       "</table>\n",
       "<p>1762 rows × 5 columns</p>\n",
       "</div>"
      ],
      "text/plain": [
       "            Close/Last     Volume      Open      High       Low\n",
       "2019-10-31      230.10   47070910  $232.61   $233.47   $229.55 \n",
       "2019-11-01      233.67   35417250  $233.10   $234.33   $232.32 \n",
       "2019-11-02      233.67   35417250  $233.10   $234.33   $232.32 \n",
       "2019-11-03      233.67   35417250  $233.10   $234.33   $232.32 \n",
       "2019-11-04      233.40   36087130  $233.32   $234.73   $232.55 \n",
       "...                ...        ...       ...       ...       ...\n",
       "2024-08-22       64.38  103271800   $64.33    $64.46    $63.85 \n",
       "2024-08-23       63.96  151125320   $62.39    $63.98    $62.29 \n",
       "2024-08-24       63.96  151125320   $62.39    $63.98    $62.29 \n",
       "2024-08-25       63.96  151125320   $62.39    $63.98    $62.29 \n",
       "2024-08-26       62.19  139162080   $61.81    $62.29    $59.32 \n",
       "\n",
       "[1762 rows x 5 columns]"
      ]
     },
     "execution_count": 17,
     "metadata": {},
     "output_type": "execute_result"
    }
   ],
   "source": [
    "df.asfreq('D', method='pad')"
   ]
  },
  {
   "cell_type": "code",
   "execution_count": null,
   "metadata": {},
   "outputs": [],
   "source": []
  }
 ],
 "metadata": {
  "kernelspec": {
   "display_name": "tensorflow",
   "language": "python",
   "name": "python3"
  },
  "language_info": {
   "codemirror_mode": {
    "name": "ipython",
    "version": 3
   },
   "file_extension": ".py",
   "mimetype": "text/x-python",
   "name": "python",
   "nbconvert_exporter": "python",
   "pygments_lexer": "ipython3",
   "version": "3.10.14"
  }
 },
 "nbformat": 4,
 "nbformat_minor": 2
}
