{
 "cells": [
  {
   "cell_type": "markdown",
   "metadata": {},
   "source": [
    "## topics coverd - date time index, resampling"
   ]
  },
  {
   "cell_type": "markdown",
   "metadata": {},
   "source": [
    "#### date time indexing"
   ]
  },
  {
   "cell_type": "code",
   "execution_count": 3,
   "metadata": {},
   "outputs": [
    {
     "data": {
      "text/html": [
       "<div>\n",
       "<style scoped>\n",
       "    .dataframe tbody tr th:only-of-type {\n",
       "        vertical-align: middle;\n",
       "    }\n",
       "\n",
       "    .dataframe tbody tr th {\n",
       "        vertical-align: top;\n",
       "    }\n",
       "\n",
       "    .dataframe thead th {\n",
       "        text-align: right;\n",
       "    }\n",
       "</style>\n",
       "<table border=\"1\" class=\"dataframe\">\n",
       "  <thead>\n",
       "    <tr style=\"text-align: right;\">\n",
       "      <th></th>\n",
       "      <th>Date</th>\n",
       "      <th>Close/Last</th>\n",
       "      <th>Volume</th>\n",
       "      <th>Open</th>\n",
       "      <th>High</th>\n",
       "      <th>Low</th>\n",
       "    </tr>\n",
       "  </thead>\n",
       "  <tbody>\n",
       "    <tr>\n",
       "      <th>0</th>\n",
       "      <td>10/30/2024</td>\n",
       "      <td>$230.10</td>\n",
       "      <td>47070910</td>\n",
       "      <td>$232.61</td>\n",
       "      <td>$233.47</td>\n",
       "      <td>$229.55</td>\n",
       "    </tr>\n",
       "    <tr>\n",
       "      <th>1</th>\n",
       "      <td>10/29/2024</td>\n",
       "      <td>$233.67</td>\n",
       "      <td>35417250</td>\n",
       "      <td>$233.10</td>\n",
       "      <td>$234.325</td>\n",
       "      <td>$232.32</td>\n",
       "    </tr>\n",
       "    <tr>\n",
       "      <th>2</th>\n",
       "      <td>10/28/2024</td>\n",
       "      <td>$233.40</td>\n",
       "      <td>36087130</td>\n",
       "      <td>$233.32</td>\n",
       "      <td>$234.73</td>\n",
       "      <td>$232.55</td>\n",
       "    </tr>\n",
       "    <tr>\n",
       "      <th>3</th>\n",
       "      <td>10/25/2024</td>\n",
       "      <td>$231.41</td>\n",
       "      <td>38802300</td>\n",
       "      <td>$229.74</td>\n",
       "      <td>$233.22</td>\n",
       "      <td>$229.57</td>\n",
       "    </tr>\n",
       "    <tr>\n",
       "      <th>4</th>\n",
       "      <td>10/24/2024</td>\n",
       "      <td>$230.57</td>\n",
       "      <td>31109500</td>\n",
       "      <td>$229.98</td>\n",
       "      <td>$230.82</td>\n",
       "      <td>$228.41</td>\n",
       "    </tr>\n",
       "  </tbody>\n",
       "</table>\n",
       "</div>"
      ],
      "text/plain": [
       "         Date Close/Last    Volume     Open      High      Low\n",
       "0  10/30/2024    $230.10  47070910  $232.61   $233.47  $229.55\n",
       "1  10/29/2024    $233.67  35417250  $233.10  $234.325  $232.32\n",
       "2  10/28/2024    $233.40  36087130  $233.32   $234.73  $232.55\n",
       "3  10/25/2024    $231.41  38802300  $229.74   $233.22  $229.57\n",
       "4  10/24/2024    $230.57  31109500  $229.98   $230.82  $228.41"
      ]
     },
     "execution_count": 3,
     "metadata": {},
     "output_type": "execute_result"
    }
   ],
   "source": [
    "import pandas as pd\n",
    "df = pd.read_csv(\"apple.csv\")\n",
    "df.head()"
   ]
  },
  {
   "cell_type": "code",
   "execution_count": 4,
   "metadata": {},
   "outputs": [
    {
     "data": {
      "text/plain": [
       "str"
      ]
     },
     "execution_count": 4,
     "metadata": {},
     "output_type": "execute_result"
    }
   ],
   "source": [
    "#checking the type of date column\n",
    "type(df[\"Date\"][0])"
   ]
  },
  {
   "cell_type": "code",
   "execution_count": 5,
   "metadata": {},
   "outputs": [
    {
     "data": {
      "text/html": [
       "<div>\n",
       "<style scoped>\n",
       "    .dataframe tbody tr th:only-of-type {\n",
       "        vertical-align: middle;\n",
       "    }\n",
       "\n",
       "    .dataframe tbody tr th {\n",
       "        vertical-align: top;\n",
       "    }\n",
       "\n",
       "    .dataframe thead th {\n",
       "        text-align: right;\n",
       "    }\n",
       "</style>\n",
       "<table border=\"1\" class=\"dataframe\">\n",
       "  <thead>\n",
       "    <tr style=\"text-align: right;\">\n",
       "      <th></th>\n",
       "      <th>Date</th>\n",
       "      <th>Close/Last</th>\n",
       "      <th>Volume</th>\n",
       "      <th>Open</th>\n",
       "      <th>High</th>\n",
       "      <th>Low</th>\n",
       "    </tr>\n",
       "  </thead>\n",
       "  <tbody>\n",
       "    <tr>\n",
       "      <th>0</th>\n",
       "      <td>2024-10-30</td>\n",
       "      <td>$230.10</td>\n",
       "      <td>47070910</td>\n",
       "      <td>$232.61</td>\n",
       "      <td>$233.47</td>\n",
       "      <td>$229.55</td>\n",
       "    </tr>\n",
       "    <tr>\n",
       "      <th>1</th>\n",
       "      <td>2024-10-29</td>\n",
       "      <td>$233.67</td>\n",
       "      <td>35417250</td>\n",
       "      <td>$233.10</td>\n",
       "      <td>$234.325</td>\n",
       "      <td>$232.32</td>\n",
       "    </tr>\n",
       "    <tr>\n",
       "      <th>2</th>\n",
       "      <td>2024-10-28</td>\n",
       "      <td>$233.40</td>\n",
       "      <td>36087130</td>\n",
       "      <td>$233.32</td>\n",
       "      <td>$234.73</td>\n",
       "      <td>$232.55</td>\n",
       "    </tr>\n",
       "    <tr>\n",
       "      <th>3</th>\n",
       "      <td>2024-10-25</td>\n",
       "      <td>$231.41</td>\n",
       "      <td>38802300</td>\n",
       "      <td>$229.74</td>\n",
       "      <td>$233.22</td>\n",
       "      <td>$229.57</td>\n",
       "    </tr>\n",
       "    <tr>\n",
       "      <th>4</th>\n",
       "      <td>2024-10-24</td>\n",
       "      <td>$230.57</td>\n",
       "      <td>31109500</td>\n",
       "      <td>$229.98</td>\n",
       "      <td>$230.82</td>\n",
       "      <td>$228.41</td>\n",
       "    </tr>\n",
       "  </tbody>\n",
       "</table>\n",
       "</div>"
      ],
      "text/plain": [
       "        Date Close/Last    Volume     Open      High      Low\n",
       "0 2024-10-30    $230.10  47070910  $232.61   $233.47  $229.55\n",
       "1 2024-10-29    $233.67  35417250  $233.10  $234.325  $232.32\n",
       "2 2024-10-28    $233.40  36087130  $233.32   $234.73  $232.55\n",
       "3 2024-10-25    $231.41  38802300  $229.74   $233.22  $229.57\n",
       "4 2024-10-24    $230.57  31109500  $229.98   $230.82  $228.41"
      ]
     },
     "execution_count": 5,
     "metadata": {},
     "output_type": "execute_result"
    }
   ],
   "source": [
    "#parsing the date column\n",
    "df = pd.read_csv(\"apple.csv\", parse_dates=[\"Date\"])\n",
    "df.head()"
   ]
  },
  {
   "cell_type": "code",
   "execution_count": 6,
   "metadata": {},
   "outputs": [
    {
     "data": {
      "text/plain": [
       "pandas._libs.tslibs.timestamps.Timestamp"
      ]
     },
     "execution_count": 6,
     "metadata": {},
     "output_type": "execute_result"
    }
   ],
   "source": [
    "#again checking the time stampe\n",
    "type(df[\"Date\"][0])"
   ]
  },
  {
   "cell_type": "code",
   "execution_count": 7,
   "metadata": {},
   "outputs": [
    {
     "data": {
      "text/html": [
       "<div>\n",
       "<style scoped>\n",
       "    .dataframe tbody tr th:only-of-type {\n",
       "        vertical-align: middle;\n",
       "    }\n",
       "\n",
       "    .dataframe tbody tr th {\n",
       "        vertical-align: top;\n",
       "    }\n",
       "\n",
       "    .dataframe thead th {\n",
       "        text-align: right;\n",
       "    }\n",
       "</style>\n",
       "<table border=\"1\" class=\"dataframe\">\n",
       "  <thead>\n",
       "    <tr style=\"text-align: right;\">\n",
       "      <th></th>\n",
       "      <th>Close/Last</th>\n",
       "      <th>Volume</th>\n",
       "      <th>Open</th>\n",
       "      <th>High</th>\n",
       "      <th>Low</th>\n",
       "    </tr>\n",
       "    <tr>\n",
       "      <th>Date</th>\n",
       "      <th></th>\n",
       "      <th></th>\n",
       "      <th></th>\n",
       "      <th></th>\n",
       "      <th></th>\n",
       "    </tr>\n",
       "  </thead>\n",
       "  <tbody>\n",
       "    <tr>\n",
       "      <th>2024-10-30</th>\n",
       "      <td>$230.10</td>\n",
       "      <td>47070910</td>\n",
       "      <td>$232.61</td>\n",
       "      <td>$233.47</td>\n",
       "      <td>$229.55</td>\n",
       "    </tr>\n",
       "    <tr>\n",
       "      <th>2024-10-29</th>\n",
       "      <td>$233.67</td>\n",
       "      <td>35417250</td>\n",
       "      <td>$233.10</td>\n",
       "      <td>$234.325</td>\n",
       "      <td>$232.32</td>\n",
       "    </tr>\n",
       "    <tr>\n",
       "      <th>2024-10-28</th>\n",
       "      <td>$233.40</td>\n",
       "      <td>36087130</td>\n",
       "      <td>$233.32</td>\n",
       "      <td>$234.73</td>\n",
       "      <td>$232.55</td>\n",
       "    </tr>\n",
       "    <tr>\n",
       "      <th>2024-10-25</th>\n",
       "      <td>$231.41</td>\n",
       "      <td>38802300</td>\n",
       "      <td>$229.74</td>\n",
       "      <td>$233.22</td>\n",
       "      <td>$229.57</td>\n",
       "    </tr>\n",
       "    <tr>\n",
       "      <th>2024-10-24</th>\n",
       "      <td>$230.57</td>\n",
       "      <td>31109500</td>\n",
       "      <td>$229.98</td>\n",
       "      <td>$230.82</td>\n",
       "      <td>$228.41</td>\n",
       "    </tr>\n",
       "  </tbody>\n",
       "</table>\n",
       "</div>"
      ],
      "text/plain": [
       "           Close/Last    Volume     Open      High      Low\n",
       "Date                                                       \n",
       "2024-10-30    $230.10  47070910  $232.61   $233.47  $229.55\n",
       "2024-10-29    $233.67  35417250  $233.10  $234.325  $232.32\n",
       "2024-10-28    $233.40  36087130  $233.32   $234.73  $232.55\n",
       "2024-10-25    $231.41  38802300  $229.74   $233.22  $229.57\n",
       "2024-10-24    $230.57  31109500  $229.98   $230.82  $228.41"
      ]
     },
     "execution_count": 7,
     "metadata": {},
     "output_type": "execute_result"
    }
   ],
   "source": [
    "#converting the index column to -> data column i.e data column represent the index now\n",
    "df = pd.read_csv(\"apple.csv\", parse_dates=[\"Date\"], index_col=\"Date\")\n",
    "df.head()"
   ]
  },
  {
   "cell_type": "code",
   "execution_count": 8,
   "metadata": {},
   "outputs": [
    {
     "data": {
      "text/plain": [
       "DatetimeIndex(['2024-10-30', '2024-10-29', '2024-10-28', '2024-10-25',\n",
       "               '2024-10-24', '2024-10-23', '2024-10-22', '2024-10-21',\n",
       "               '2024-10-18', '2024-10-17',\n",
       "               ...\n",
       "               '2019-11-13', '2019-11-12', '2019-11-11', '2019-11-08',\n",
       "               '2019-11-07', '2019-11-06', '2019-11-05', '2019-11-04',\n",
       "               '2019-11-01', '2019-10-31'],\n",
       "              dtype='datetime64[ns]', name='Date', length=1258, freq=None)"
      ]
     },
     "execution_count": 8,
     "metadata": {},
     "output_type": "execute_result"
    }
   ],
   "source": [
    "df.index"
   ]
  },
  {
   "cell_type": "code",
   "execution_count": 9,
   "metadata": {},
   "outputs": [
    {
     "data": {
      "text/plain": [
       "Date\n",
       "2024-10-30    $230.10\n",
       "2024-10-29    $233.67\n",
       "2024-10-28    $233.40\n",
       "2024-10-25    $231.41\n",
       "2024-10-24    $230.57\n",
       "2024-10-23    $230.76\n",
       "2024-10-22    $235.86\n",
       "2024-10-21    $236.48\n",
       "2024-10-18    $235.00\n",
       "2024-10-17    $232.15\n",
       "2024-10-16    $231.78\n",
       "2024-10-15    $233.85\n",
       "2024-10-14    $231.30\n",
       "2024-10-11    $227.55\n",
       "2024-10-10    $229.04\n",
       "2024-10-09    $229.54\n",
       "2024-10-08    $225.77\n",
       "2024-10-07    $221.69\n",
       "2024-10-04    $226.80\n",
       "2024-10-03    $225.67\n",
       "2024-10-02    $226.78\n",
       "2024-10-01    $226.21\n",
       "Name: Close/Last, dtype: object"
      ]
     },
     "execution_count": 9,
     "metadata": {},
     "output_type": "execute_result"
    }
   ],
   "source": [
    "#to get the stock price in 2020 jan\n",
    "df.loc['2024-10'][\"Close/Last\"]"
   ]
  },
  {
   "cell_type": "code",
   "execution_count": 10,
   "metadata": {},
   "outputs": [],
   "source": [
    "#removing the dollar sign from close/last series\n",
    "df['Close/Last'] = df['Close/Last'].str.replace('$', '').astype(float)"
   ]
  },
  {
   "cell_type": "code",
   "execution_count": 11,
   "metadata": {},
   "outputs": [
    {
     "data": {
      "text/plain": [
       "230.24454545454546"
      ]
     },
     "execution_count": 11,
     "metadata": {},
     "output_type": "execute_result"
    }
   ],
   "source": [
    "#to get the stock price in 2020 jan\n",
    "df.loc['2024-10'][\"Close/Last\"].mean()"
   ]
  },
  {
   "cell_type": "code",
   "execution_count": 12,
   "metadata": {},
   "outputs": [
    {
     "data": {
      "text/plain": [
       "Close/Last      229.04\n",
       "Volume        28183540\n",
       "Open           $227.78\n",
       "High           $229.50\n",
       "Low            $227.17\n",
       "Name: 2024-10-10 00:00:00, dtype: object"
      ]
     },
     "execution_count": 12,
     "metadata": {},
     "output_type": "execute_result"
    }
   ],
   "source": [
    "df.loc['2024-10-10']"
   ]
  },
  {
   "cell_type": "markdown",
   "metadata": {},
   "source": [
    "#### resampling"
   ]
  },
  {
   "cell_type": "code",
   "execution_count": 13,
   "metadata": {},
   "outputs": [
    {
     "data": {
      "text/html": [
       "<div>\n",
       "<style scoped>\n",
       "    .dataframe tbody tr th:only-of-type {\n",
       "        vertical-align: middle;\n",
       "    }\n",
       "\n",
       "    .dataframe tbody tr th {\n",
       "        vertical-align: top;\n",
       "    }\n",
       "\n",
       "    .dataframe thead th {\n",
       "        text-align: right;\n",
       "    }\n",
       "</style>\n",
       "<table border=\"1\" class=\"dataframe\">\n",
       "  <thead>\n",
       "    <tr style=\"text-align: right;\">\n",
       "      <th></th>\n",
       "      <th>Close/Last</th>\n",
       "      <th>Volume</th>\n",
       "      <th>Open</th>\n",
       "      <th>High</th>\n",
       "      <th>Low</th>\n",
       "    </tr>\n",
       "    <tr>\n",
       "      <th>Date</th>\n",
       "      <th></th>\n",
       "      <th></th>\n",
       "      <th></th>\n",
       "      <th></th>\n",
       "      <th></th>\n",
       "    </tr>\n",
       "  </thead>\n",
       "  <tbody>\n",
       "    <tr>\n",
       "      <th>2024-10-30</th>\n",
       "      <td>230.1000</td>\n",
       "      <td>47070910</td>\n",
       "      <td>$232.61</td>\n",
       "      <td>$233.47</td>\n",
       "      <td>$229.55</td>\n",
       "    </tr>\n",
       "    <tr>\n",
       "      <th>2024-10-29</th>\n",
       "      <td>233.6700</td>\n",
       "      <td>35417250</td>\n",
       "      <td>$233.10</td>\n",
       "      <td>$234.325</td>\n",
       "      <td>$232.32</td>\n",
       "    </tr>\n",
       "    <tr>\n",
       "      <th>2024-10-28</th>\n",
       "      <td>233.4000</td>\n",
       "      <td>36087130</td>\n",
       "      <td>$233.32</td>\n",
       "      <td>$234.73</td>\n",
       "      <td>$232.55</td>\n",
       "    </tr>\n",
       "    <tr>\n",
       "      <th>2024-10-25</th>\n",
       "      <td>231.4100</td>\n",
       "      <td>38802300</td>\n",
       "      <td>$229.74</td>\n",
       "      <td>$233.22</td>\n",
       "      <td>$229.57</td>\n",
       "    </tr>\n",
       "    <tr>\n",
       "      <th>2024-10-24</th>\n",
       "      <td>230.5700</td>\n",
       "      <td>31109500</td>\n",
       "      <td>$229.98</td>\n",
       "      <td>$230.82</td>\n",
       "      <td>$228.41</td>\n",
       "    </tr>\n",
       "    <tr>\n",
       "      <th>...</th>\n",
       "      <td>...</td>\n",
       "      <td>...</td>\n",
       "      <td>...</td>\n",
       "      <td>...</td>\n",
       "      <td>...</td>\n",
       "    </tr>\n",
       "    <tr>\n",
       "      <th>2019-11-06</th>\n",
       "      <td>64.3100</td>\n",
       "      <td>75864480</td>\n",
       "      <td>$64.1925</td>\n",
       "      <td>$64.3725</td>\n",
       "      <td>$63.8413</td>\n",
       "    </tr>\n",
       "    <tr>\n",
       "      <th>2019-11-05</th>\n",
       "      <td>64.2825</td>\n",
       "      <td>79897720</td>\n",
       "      <td>$64.2625</td>\n",
       "      <td>$64.5475</td>\n",
       "      <td>$64.08</td>\n",
       "    </tr>\n",
       "    <tr>\n",
       "      <th>2019-11-04</th>\n",
       "      <td>64.3750</td>\n",
       "      <td>103271800</td>\n",
       "      <td>$64.3325</td>\n",
       "      <td>$64.4613</td>\n",
       "      <td>$63.845</td>\n",
       "    </tr>\n",
       "    <tr>\n",
       "      <th>2019-11-01</th>\n",
       "      <td>63.9550</td>\n",
       "      <td>151125320</td>\n",
       "      <td>$62.385</td>\n",
       "      <td>$63.9825</td>\n",
       "      <td>$62.29</td>\n",
       "    </tr>\n",
       "    <tr>\n",
       "      <th>2019-10-31</th>\n",
       "      <td>62.1900</td>\n",
       "      <td>139162080</td>\n",
       "      <td>$61.81</td>\n",
       "      <td>$62.2925</td>\n",
       "      <td>$59.315</td>\n",
       "    </tr>\n",
       "  </tbody>\n",
       "</table>\n",
       "<p>1258 rows × 5 columns</p>\n",
       "</div>"
      ],
      "text/plain": [
       "            Close/Last     Volume      Open      High       Low\n",
       "Date                                                           \n",
       "2024-10-30    230.1000   47070910   $232.61   $233.47   $229.55\n",
       "2024-10-29    233.6700   35417250   $233.10  $234.325   $232.32\n",
       "2024-10-28    233.4000   36087130   $233.32   $234.73   $232.55\n",
       "2024-10-25    231.4100   38802300   $229.74   $233.22   $229.57\n",
       "2024-10-24    230.5700   31109500   $229.98   $230.82   $228.41\n",
       "...                ...        ...       ...       ...       ...\n",
       "2019-11-06     64.3100   75864480  $64.1925  $64.3725  $63.8413\n",
       "2019-11-05     64.2825   79897720  $64.2625  $64.5475    $64.08\n",
       "2019-11-04     64.3750  103271800  $64.3325  $64.4613   $63.845\n",
       "2019-11-01     63.9550  151125320   $62.385  $63.9825    $62.29\n",
       "2019-10-31     62.1900  139162080    $61.81  $62.2925   $59.315\n",
       "\n",
       "[1258 rows x 5 columns]"
      ]
     },
     "execution_count": 13,
     "metadata": {},
     "output_type": "execute_result"
    }
   ],
   "source": [
    "df"
   ]
  },
  {
   "cell_type": "code",
   "execution_count": null,
   "metadata": {},
   "outputs": [],
   "source": []
  },
  {
   "cell_type": "code",
   "execution_count": 14,
   "metadata": {},
   "outputs": [
    {
     "data": {
      "text/plain": [
       "Date\n",
       "2019-10-31     62.190000\n",
       "2019-11-30     65.630125\n",
       "2019-12-31     69.131429\n",
       "2020-01-31     77.979048\n",
       "2020-02-29     77.817632\n",
       "                 ...    \n",
       "2024-06-30    206.263158\n",
       "2024-07-31    224.598636\n",
       "2024-08-31    221.638182\n",
       "2024-09-30    223.758000\n",
       "2024-10-31    230.244545\n",
       "Freq: ME, Name: Close/Last, Length: 61, dtype: float64"
      ]
     },
     "execution_count": 14,
     "metadata": {},
     "output_type": "execute_result"
    }
   ],
   "source": [
    "df[\"Close/Last\"].resample('ME').mean()"
   ]
  },
  {
   "cell_type": "code",
   "execution_count": 15,
   "metadata": {},
   "outputs": [
    {
     "data": {
      "text/plain": [
       "<Axes: xlabel='Date'>"
      ]
     },
     "execution_count": 15,
     "metadata": {},
     "output_type": "execute_result"
    },
    {
     "data": {
      "image/png": "[encoded data removed]",
      "text/plain": [
       "<Figure size 640x480 with 1 Axes>"
      ]
     },
     "metadata": {},
     "output_type": "display_data"
    }
   ],
   "source": [
    "# to plot the above data\n",
    "%matplotlib inline\n",
    "df[\"Close/Last\"].resample('ME').mean().plot()"
   ]
  },
  {
   "cell_type": "code",
   "execution_count": null,
   "metadata": {},
   "outputs": [],
   "source": []
  }
 ],
 "metadata": {
  "kernelspec": {
   "display_name": "tensorflow",
   "language": "python",
   "name": "python3"
  },
  "language_info": {
   "codemirror_mode": {
    "name": "ipython",
    "version": 3
   },
   "file_extension": ".py",
   "mimetype": "text/x-python",
   "name": "python",
   "nbconvert_exporter": "python",
   "pygments_lexer": "ipython3",
   "version": "3.10.14"
  }
 },
 "nbformat": 4,
 "nbformat_minor": 2
}
